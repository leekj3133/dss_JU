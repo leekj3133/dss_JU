{
 "cells": [
  {
   "cell_type": "markdown",
   "metadata": {
    "colab_type": "text",
    "id": "DPe_CIne-c0G"
   },
   "source": [
    "### 예제 "
   ]
  },
  {
   "cell_type": "markdown",
   "metadata": {
    "colab_type": "text",
    "id": "Q87dwXaZ-c0I"
   },
   "source": [
    "### 1. List & For\n",
    "- list와 for문 이용하여 10 ~ 20까지 출력하는 코드를 만드세요."
   ]
  },
  {
   "cell_type": "code",
   "execution_count": 1,
   "metadata": {},
   "outputs": [
    {
     "name": "stdout",
     "output_type": "stream",
     "text": [
      "m = [10, 11, 12, 13, 14, 15, 16, 17, 18, 19, 20]\n"
     ]
    }
   ],
   "source": [
    "m = []\n",
    "for i in range(10,21):\n",
    "    m.append(i)\n",
    "print(f'm = {m}')"
   ]
  },
  {
   "cell_type": "code",
   "execution_count": 3,
   "metadata": {},
   "outputs": [
    {
     "name": "stdout",
     "output_type": "stream",
     "text": [
      "10 11 12 13 14 15 16 17 18 19 20 "
     ]
    }
   ],
   "source": [
    "# 답\n",
    "ls = [10,11,12,13,14,15,16,17,18,19,20]\n",
    "for number in ls:\n",
    "    print(number, end=\" \")"
   ]
  },
  {
   "cell_type": "markdown",
   "metadata": {
    "colab_type": "text",
    "id": "QKf1eI2M-c0R"
   },
   "source": [
    "### 2. Range\n",
    "- list와 for문과 range를 이용하여 10 ~ 20까지 출력하는 코드를 만드세요."
   ]
  },
  {
   "cell_type": "code",
   "execution_count": 5,
   "metadata": {},
   "outputs": [
    {
     "name": "stdout",
     "output_type": "stream",
     "text": [
      "[10, 11, 12, 13, 14, 15, 16, 17, 18, 19, 20]\n"
     ]
    }
   ],
   "source": [
    "list = [x for x in range(10,21)]\n",
    "print(list)"
   ]
  },
  {
   "cell_type": "code",
   "execution_count": 6,
   "metadata": {},
   "outputs": [
    {
     "name": "stdout",
     "output_type": "stream",
     "text": [
      "10 11 12 13 14 15 16 17 18 19 20 "
     ]
    }
   ],
   "source": [
    "# 답\n",
    "for number in range(10,21):\n",
    "    print(number, end = \" \")"
   ]
  },
  {
   "cell_type": "markdown",
   "metadata": {
    "colab_type": "text",
    "id": "DwaKD5bg-c0U"
   },
   "source": [
    "### 3. 짝수 출력 (for, if, range)\n",
    "- 0 ~ 20까지 짝수만 출력하는 코드를 작성하세요."
   ]
  },
  {
   "cell_type": "code",
   "execution_count": 7,
   "metadata": {},
   "outputs": [
    {
     "name": "stdout",
     "output_type": "stream",
     "text": [
      "[0, 2, 4, 6, 8, 10, 12, 14, 16, 18, 20]\n"
     ]
    }
   ],
   "source": [
    "list = [x for x in range(0,21) if x%2==0]\n",
    "print(list)"
   ]
  },
  {
   "cell_type": "code",
   "execution_count": 8,
   "metadata": {},
   "outputs": [
    {
     "name": "stdout",
     "output_type": "stream",
     "text": [
      "0 2 4 6 8 10 12 14 16 18 20 "
     ]
    }
   ],
   "source": [
    "#답 - if 문 사용\n",
    "for number in range(0,21):\n",
    "    if not number %2:\n",
    "        print(number, end = \" \")"
   ]
  },
  {
   "cell_type": "code",
   "execution_count": 9,
   "metadata": {},
   "outputs": [
    {
     "name": "stdout",
     "output_type": "stream",
     "text": [
      "0 2 4 6 8 10 12 14 16 18 20 "
     ]
    }
   ],
   "source": [
    "#답 - range에서 해결\n",
    "for number in range(0,21,2):\n",
    "    print(number, end = \" \")"
   ]
  },
  {
   "cell_type": "markdown",
   "metadata": {
    "colab_type": "text",
    "id": "6HbYQUzw-c0m"
   },
   "source": [
    "### 4. 홀수 더하기 (for, if, range)\n",
    "- 10 ~ 20까지의 숫자에서 홀수를 다 더한 결과를 출력하는 코드를 작성하세요."
   ]
  },
  {
   "cell_type": "code",
   "execution_count": 10,
   "metadata": {},
   "outputs": [
    {
     "name": "stdout",
     "output_type": "stream",
     "text": [
      "75\n"
     ]
    }
   ],
   "source": [
    "list = [x for x in range(10,21) if x%2 == 1]\n",
    "print(sum(list))"
   ]
  },
  {
   "cell_type": "code",
   "execution_count": 11,
   "metadata": {},
   "outputs": [
    {
     "name": "stdout",
     "output_type": "stream",
     "text": [
      "75\n"
     ]
    }
   ],
   "source": [
    "#답 - if 문 사용\n",
    "result = 0 \n",
    "for number in range(10,21):\n",
    "    if number % 2 :\n",
    "        result += number\n",
    "print(result)"
   ]
  },
  {
   "cell_type": "code",
   "execution_count": 13,
   "metadata": {},
   "outputs": [
    {
     "name": "stdout",
     "output_type": "stream",
     "text": [
      "75\n"
     ]
    }
   ],
   "source": [
    "#답 - range 문 사용\n",
    "result = 0\n",
    "for number in range(11,21,2):\n",
    "    result+=number\n",
    "print(result)"
   ]
  },
  {
   "cell_type": "markdown",
   "metadata": {
    "colab_type": "text",
    "id": "L52KfYQa-c0v"
   },
   "source": [
    "### 5. 카드 사용하기 (break)\n",
    "- 50000 원이 들어 있는 카드가 있습니다.\n",
    "- 카드를 계속 사용해서 카드에 있는 돈으로 결제가 불가능한경우 \"결제가 불가능합니다. 현재금액(x)\" 라고 출력하고 프로그램을 종료하는 코드를 작성하세요.\n",
    "- while과 break를 사용하세요."
   ]
  },
  {
   "cell_type": "code",
   "execution_count": 14,
   "metadata": {},
   "outputs": [
    {
     "name": "stdout",
     "output_type": "stream",
     "text": [
      "지출 : 45000\n",
      "결제가 불가능합니다. 현재금액(x)\n"
     ]
    }
   ],
   "source": [
    "cash = 50000\n",
    "while True:\n",
    "    withdrwal = int(input(\"지출 : \"))\n",
    "    cash = cash - withdrwal\n",
    "    if cash < withdrwal:\n",
    "        print(\"결제가 불가능합니다. 현재금액(x)\")\n",
    "        break\n",
    "    "
   ]
  },
  {
   "cell_type": "code",
   "execution_count": 18,
   "metadata": {},
   "outputs": [
    {
     "name": "stdout",
     "output_type": "stream",
     "text": [
      "현제 결제가능 금액 : 50000\n",
      "결제금액을 입력해주세요 : 20000\n",
      "결제되었습니다. 현재금액(30000원)\n",
      "결제금액을 입력해주세요 : 10000\n",
      "결제되었습니다. 현재금액(20000원)\n",
      "결제금액을 입력해주세요 : 40000\n",
      "결제가 불가능합니다. 현재금액(20000원)\n"
     ]
    }
   ],
   "source": [
    "# 답\n",
    "account = 50000\n",
    "print(\"현제 결제가능 금액 : {}\".format(account))\n",
    "\n",
    "while True:\n",
    "    money= int(input(\"결제금액을 입력해주세요 : \"))\n",
    "    account -=money\n",
    "    if account < 0:\n",
    "        account += money\n",
    "        break\n",
    "    else:\n",
    "        print(\"결제되었습니다. 현재금액({}원)\".format(account))\n",
    "        \n",
    "print(\"결제가 불가능합니다. 현재금액({}원)\".format(account))"
   ]
  },
  {
   "cell_type": "markdown",
   "metadata": {
    "colab_type": "text",
    "id": "xtJVTTEX-c0y"
   },
   "source": [
    "### 6. 랜덤 숫자 맞추기 (continue)\n",
    "- 0 ~ 9 까지 랜덤한 숫자를 생성하여 숫자를 맞출때까지 숫자를 입력받는 코드를 작성하세요.\n",
    "- continue를 사용하세요.\n",
    "\n",
    "```\n",
    "숫자를 입력하세요 : 1\n",
    "숫자를 입력하세요 : 2\n",
    "숫자를 입력하세요 : 3\n",
    "숫자를 입력하세요 : 4\n",
    "숫자를 입력하세요 : 5\n",
    "숫자를 입력하세요 : 6\n",
    "숫자를 입력하세요 : 7\n",
    "숫자를 입력하세요 : 8\n",
    "숫자를 맞췄습니다\n",
    "```"
   ]
  },
  {
   "cell_type": "code",
   "execution_count": 15,
   "metadata": {},
   "outputs": [
    {
     "name": "stdout",
     "output_type": "stream",
     "text": [
      "숫자를 입력하세요: 1\n",
      "숫자를 맞췄습니다.\n"
     ]
    }
   ],
   "source": [
    "import random\n",
    "while True:\n",
    "    number = int(input(\"숫자를 입력하세요: \"))\n",
    "    \n",
    "    if number == random.randint(1,9):\n",
    "        print(\"숫자를 맞췄습니다.\")     \n",
    "        break\n",
    "       "
   ]
  },
  {
   "cell_type": "code",
   "execution_count": 17,
   "metadata": {},
   "outputs": [
    {
     "name": "stdout",
     "output_type": "stream",
     "text": [
      "숫자를 입력하세요: 1\n",
      "숫자를 입력하세요: 2\n",
      "숫자를 입력하세요: 4\n",
      "숫자를 입력하세요: 5\n",
      "숫자를 입력하세요: 6\n",
      "숫자를 입력하세요: 7\n",
      "숫자를 입력하세요: 8\n",
      "숫자를 입력하세요: 9\n",
      "숫자를 맞췄습니다.\n"
     ]
    }
   ],
   "source": [
    "# 답\n",
    "import random\n",
    "\n",
    "random_number = random.randint(0,9)\n",
    "while True:\n",
    "    number = int(input(\"숫자를 입력하세요: \"))\n",
    "    \n",
    "    if random_number != number:\n",
    "        continue\n",
    "    print(\"숫자를 맞췄습니다.\")     \n",
    "    break\n",
    "       "
   ]
  },
  {
   "cell_type": "markdown",
   "metadata": {
    "colab_type": "text",
    "id": "iKUvy1xM-c01"
   },
   "source": [
    "### 7. 달리기 시합 결과 입력 및 출력 하기 (enumerate)\n",
    "- 토끼, 거북이, 사슴이 시합을 했는데 1등부터 결과를 입력받아서 등수와 동물을 출력하는 코드를 작성하세요.\n",
    "- 등수를 출력할때 enumerate 를 사용해주세요.\n",
    "- 결과\n",
    "\n",
    "```\n",
    "1등 한 동물은 ? 사슴\n",
    "2등 한 동물은 ? 토끼\n",
    "3등 한 동물은 ? 거북이\n",
    "\n",
    "결과\n",
    "1등 - 사슴\n",
    "2등 - 토끼\n",
    "3등 - 거북이\n",
    "```"
   ]
  },
  {
   "cell_type": "code",
   "execution_count": 19,
   "metadata": {},
   "outputs": [
    {
     "name": "stdout",
     "output_type": "stream",
     "text": [
      "1등  -  사슴\n",
      "2등  -  토끼\n",
      "3등  -  거북이\n"
     ]
    }
   ],
   "source": [
    "animals = [\"사슴\",\"토끼\",\"거북이\"]\n",
    "for idx, vaules in enumerate(animals):\n",
    "    print(\"{}등\".format(idx + 1),\" - \",vaules)"
   ]
  },
  {
   "cell_type": "code",
   "execution_count": 27,
   "metadata": {},
   "outputs": [
    {
     "name": "stdout",
     "output_type": "stream",
     "text": [
      "1등 한 동물은 ? 사슴\n",
      "2등 한 동물은 ? 토끼\n",
      "3등 한 동물은 ? 거북이\n",
      "\n",
      "결과\n",
      "1등 - 사슴\n",
      "2등 - 토끼\n",
      "3등 - 거북이\n"
     ]
    }
   ],
   "source": [
    "#답\n",
    "result = []\n",
    "for rank in range(1,4):\n",
    "    result.append(input(\"{}등 한 동물은 ? \".format(rank)))\n",
    "    \n",
    "print(\"\\n결과\")\n",
    "\n",
    "for rank, name in enumerate(result):\n",
    "    print(\"{}등 - {}\".format(rank+1, name))\n",
    "##### 여기서 rank + 1을 하는 이유! rank가 0이 되는가?"
   ]
  },
  {
   "cell_type": "markdown",
   "metadata": {
    "colab_type": "text",
    "id": "XkXrf-Nb-c06"
   },
   "source": [
    "### 8. 중복 문자의 갯수 찾기 (zip)\n",
    "- 두개의 문자열을 입력받아 문자가 같고 자리가 같은 중복된 문자와 갯수를 출력하는 코드를 작성하세요.\n",
    "- \"abcde\" 와 \"adcbe\"의 중복된 문자는 3개 입니다.\n",
    "- 문자열의 갯수는 같게 설정이 되어야 합니다."
   ]
  },
  {
   "cell_type": "code",
   "execution_count": 4,
   "metadata": {},
   "outputs": [
    {
     "name": "stdout",
     "output_type": "stream",
     "text": [
      "Enter the list items : abc deg ghi\n",
      "Enter the list items : abc def ghi\n",
      "['abc', 'deg', 'ghi']\n",
      "['abc', 'def', 'ghi']\n",
      "['abc', 'ghi'] 2\n"
     ]
    }
   ],
   "source": [
    "list1 = []   \n",
    "  \n",
    "list2 = []   \n",
    "  \n",
    "list1 = [(item) for item in input(\"Enter the list items : \").split()] \n",
    "  \n",
    "list2 = [item for item in input(\"Enter the list items : \").split()] \n",
    "  \n",
    "print(list1) \n",
    "print(list2) \n",
    "list3 = [element for element in list1 if element in list2]\n",
    "print(list3, len(list3))"
   ]
  },
  {
   "cell_type": "code",
   "execution_count": 5,
   "metadata": {},
   "outputs": [
    {
     "name": "stdout",
     "output_type": "stream",
     "text": [
      "insert string : abcde\n",
      "insert string : adbce\n",
      "<zip object at 0x000001AC7A867F80>\n"
     ]
    }
   ],
   "source": [
    "string1 = input(\"insert string : \")\n",
    "string2 = input(\"insert string : \")\n",
    "string3 = zip(string1,string2)\n",
    "print(string3)"
   ]
  },
  {
   "cell_type": "code",
   "execution_count": 33,
   "metadata": {},
   "outputs": [
    {
     "name": "stdout",
     "output_type": "stream",
     "text": [
      "insert string1 : abcde\n",
      "insert string2 : adcbe\n",
      "중복된 문자는 ace이고, 중복된 문자의 갯수는 3개 입니다.\n"
     ]
    }
   ],
   "source": [
    "# 답\n",
    "#문자열 입력받기\n",
    "data1 = input(\"insert string1 : \")\n",
    "data2 = input(\"insert string2 : \")\n",
    "#중복된 문자의 갯수 저장하는 변수 선언\n",
    "count = 0\n",
    "\n",
    "#중복된 문자 저장하는 변수 선언\n",
    "overlap = \"\"\n",
    "\n",
    "#같은 문자 확인하기\n",
    "for char1,char2 in zip(data1, data2):\n",
    "    if char1 == char2:\n",
    "        count +=1\n",
    "        overlap += char1\n",
    "        \n",
    "print(\"중복된 문자는 {}이고, 중복된 문자의 갯수는 {}개 입니다.\".format(overlap, count))\n",
    "#overlap += char1 부분아 아해가 안돰"
   ]
  }
 ],
 "metadata": {
  "colab": {
   "collapsed_sections": [],
   "name": "day5_예제_문제.ipynb",
   "provenance": [],
   "version": "0.3.2"
  },
  "kernelspec": {
   "display_name": "Python 3",
   "language": "python",
   "name": "python3"
  },
  "language_info": {
   "codemirror_mode": {
    "name": "ipython",
    "version": 3
   },
   "file_extension": ".py",
   "mimetype": "text/x-python",
   "name": "python",
   "nbconvert_exporter": "python",
   "pygments_lexer": "ipython3",
   "version": "3.8.3"
  }
 },
 "nbformat": 4,
 "nbformat_minor": 1
}
