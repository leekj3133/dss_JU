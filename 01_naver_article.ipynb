{
 "cells": [
  {
   "cell_type": "markdown",
   "metadata": {},
   "source": [
    "### 데이터 수집\n",
    "- 네이버 기사 크롤링"
   ]
  },
  {
   "cell_type": "markdown",
   "metadata": {},
   "source": [
    "#### 패키지 추가"
   ]
  },
  {
   "cell_type": "code",
   "execution_count": 3,
   "metadata": {},
   "outputs": [
    {
     "ename": "ImportError",
     "evalue": "cannot import name 'BeatifulSoup' from 'bs4' (C:\\Anaconda3\\lib\\site-packages\\bs4\\__init__.py)",
     "output_type": "error",
     "traceback": [
      "\u001b[1;31m---------------------------------------------------------------------------\u001b[0m",
      "\u001b[1;31mImportError\u001b[0m                               Traceback (most recent call last)",
      "\u001b[1;32m<ipython-input-3-422ce6aaaa08>\u001b[0m in \u001b[0;36m<module>\u001b[1;34m\u001b[0m\n\u001b[0;32m      1\u001b[0m \u001b[1;32mimport\u001b[0m \u001b[0mrequests\u001b[0m\u001b[1;33m\u001b[0m\u001b[1;33m\u001b[0m\u001b[0m\n\u001b[1;32m----> 2\u001b[1;33m \u001b[1;32mfrom\u001b[0m \u001b[0mbs4\u001b[0m \u001b[1;32mimport\u001b[0m \u001b[0mBeatifulSoup\u001b[0m\u001b[1;33m\u001b[0m\u001b[1;33m\u001b[0m\u001b[0m\n\u001b[0m\u001b[0;32m      3\u001b[0m \u001b[1;32mfrom\u001b[0m \u001b[0mSelenium\u001b[0m \u001b[1;32mimport\u001b[0m \u001b[0mwebdriver\u001b[0m\u001b[1;33m\u001b[0m\u001b[1;33m\u001b[0m\u001b[0m\n",
      "\u001b[1;31mImportError\u001b[0m: cannot import name 'BeatifulSoup' from 'bs4' (C:\\Anaconda3\\lib\\site-packages\\bs4\\__init__.py)"
     ]
    }
   ],
   "source": [
    "import requests\n",
    "from bs4 import BeatifulSoup\n",
    "from Selenium import webdriver"
   ]
  },
  {
   "cell_type": "markdown",
   "metadata": {},
   "source": [
    "#### 카테고리 데이터 설정"
   ]
  },
  {
   "cell_type": "code",
   "execution_count": null,
   "metadata": {},
   "outputs": [],
   "source": [
    "categorys = {\n",
    "    100:\"정치\",\n",
    "    101:\"경제\",\n",
    "    102:\"사회\",\n",
    "    103:\"생활/문화\",\n",
    "    104:\"세계\",\n",
    "    105:\"IT/과학\"\n",
    "}"
   ]
  },
  {
   "cell_type": "markdown",
   "metadata": {},
   "source": [
    "#### 한페이지 크롤링 함수"
   ]
  },
  {
   "cell_type": "code",
   "execution_count": null,
   "metadata": {},
   "outputs": [],
   "source": [
    "def get_article(category, page):\n",
    "    \n",
    "    # url 만들기\n",
    "    url = \"https://news.naver.com/main/main.nhn?mode=LSD&mid=shm&sid1={}#&date=%2000:00:00&page={}\".formar(category, page)\n",
    "    \n",
    "    # 제목, 링크 리스트 가져오기\n",
    "    result = {\"title\": [], \"link\": []}\n",
    "    \n",
    "    options = webdriver.ChromeOptions()\n",
    "    options.add_argument('headless')\n",
    "    driver = webdriver.Chrome(options=options)\n",
    "    \n",
    "    driver.get(url)\n",
    "    articles = driver. find_elements_by_css_selector('#section_body li')\n",
    "    \n",
    "    for article in articles:\n",
    "        title = article.find_element_by_css_selector('dt:not(.photo) >a ').text\n",
    "        link = article.find_element_by_css_selector('dt:not(.photo) >a ').get_arttribute(\"href\")\n",
    "        result[\"title\"].append(title)\n",
    "        result[\"link\"].append(link)\n",
    "        \n",
    "        driver.quit()\n",
    "        \n",
    "        df = pd.DataFrame(result)\n",
    "        df[\"category\"] = category\n",
    "        \n",
    "        # 기사 내용 크롤링 하기\n",
    "        contents = []\n",
    "        for link in df[\"link\"]:\n",
    "            respose = requests.get(link)\n",
    "            dom = BeautifulSoup(response.content, \"html.paraser\")\n",
    "            content = dom.select_one(\"#articleBodyContents\")\n",
    "            content = content.txt.replace(\"\\n\", \"\").replace(\"\\'\",\"\").split(\"{}\")[1].strip()\n",
    "            contents.append(content)\n",
    "        df[\"content\"] = contents\n",
    "        return df"
   ]
  },
  {
   "cell_type": "markdown",
   "metadata": {},
   "source": [
    "#### 여러 페이지 크롤링 함수"
   ]
  },
  {
   "cell_type": "code",
   "execution_count": null,
   "metadata": {},
   "outputs": [],
   "source": [
    "def crawling(start, end):\n",
    "    result = pd.DataFrame(colums=[\"title\",\"Link\",\"category\"])\n",
    "    for catefory in categorys. keys():\n",
    "        for page in range(start, end + 1):\n",
    "            print(categorys[category],page, \"페이지 크롤링....\")\n",
    "            df = get_ article(category, page)\n",
    "            result = pd.concat([result,df]), ignore_index = True, sort =False)\n",
    "    return result\n"
   ]
  },
  {
   "cell_type": "markdown",
   "metadata": {},
   "source": [
    "#### 크롤링 코드 실행"
   ]
  },
  {
   "cell_type": "code",
   "execution_count": 8,
   "metadata": {},
   "outputs": [
    {
     "ename": "NameError",
     "evalue": "name 'crawling' is not defined",
     "output_type": "error",
     "traceback": [
      "\u001b[1;31m---------------------------------------------------------------------------\u001b[0m",
      "\u001b[1;31mNameError\u001b[0m                                 Traceback (most recent call last)",
      "\u001b[1;32m<timed exec>\u001b[0m in \u001b[0;36m<module>\u001b[1;34m\u001b[0m\n",
      "\u001b[1;31mNameError\u001b[0m: name 'crawling' is not defined"
     ]
    }
   ],
   "source": [
    "%%time\n",
    "start, end = 1,2\n",
    "artile_df = crawling(1,2)"
   ]
  },
  {
   "cell_type": "code",
   "execution_count": null,
   "metadata": {},
   "outputs": [],
   "source": []
  },
  {
   "cell_type": "markdown",
   "metadata": {},
   "source": [
    "#### 크롤링 결과 마지막 5개 데이터 확인"
   ]
  },
  {
   "cell_type": "code",
   "execution_count": 6,
   "metadata": {},
   "outputs": [
    {
     "ename": "NameError",
     "evalue": "name 'article_df' is not defined",
     "output_type": "error",
     "traceback": [
      "\u001b[1;31m---------------------------------------------------------------------------\u001b[0m",
      "\u001b[1;31mNameError\u001b[0m                                 Traceback (most recent call last)",
      "\u001b[1;32m<ipython-input-6-f34ada1198f8>\u001b[0m in \u001b[0;36m<module>\u001b[1;34m\u001b[0m\n\u001b[1;32m----> 1\u001b[1;33m \u001b[0marticle_df\u001b[0m\u001b[1;33m.\u001b[0m\u001b[0mtail\u001b[0m\u001b[1;33m(\u001b[0m\u001b[1;33m)\u001b[0m\u001b[1;33m\u001b[0m\u001b[1;33m\u001b[0m\u001b[0m\n\u001b[0m",
      "\u001b[1;31mNameError\u001b[0m: name 'article_df' is not defined"
     ]
    }
   ],
   "source": [
    "article_df.tail()"
   ]
  },
  {
   "cell_type": "markdown",
   "metadata": {},
   "source": [
    "#### 크롤링한 데이터 csv 파일로 저장"
   ]
  },
  {
   "cell_type": "code",
   "execution_count": null,
   "metadata": {},
   "outputs": [],
   "source": [
    "article_df.to_csv(\"artivle.csv\", index=False, encoding=\"utf-8-sig\")"
   ]
  },
  {
   "cell_type": "code",
   "execution_count": null,
   "metadata": {},
   "outputs": [],
   "source": []
  },
  {
   "cell_type": "code",
   "execution_count": null,
   "metadata": {},
   "outputs": [],
   "source": []
  }
 ],
 "metadata": {
  "kernelspec": {
   "display_name": "Python 3",
   "language": "python",
   "name": "python3"
  },
  "language_info": {
   "codemirror_mode": {
    "name": "ipython",
    "version": 3
   },
   "file_extension": ".py",
   "mimetype": "text/x-python",
   "name": "python",
   "nbconvert_exporter": "python",
   "pygments_lexer": "ipython3",
   "version": "3.8.3"
  }
 },
 "nbformat": 4,
 "nbformat_minor": 4
}
