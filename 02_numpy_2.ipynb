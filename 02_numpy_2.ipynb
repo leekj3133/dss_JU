{
 "cells": [
  {
   "cell_type": "markdown",
   "metadata": {},
   "source": [
    "### summary\n",
    "- numpy : 선형대수를 빠르게 연산해주는 패키지\n",
    "- 행열의 생성 1 : ndarray, np.array(literable)\n",
    "- 행열의 생성 2 : ones, zeros\n",
    "- 행열 데이터 선택 : array[x,y,z]\n",
    "- 행열 데이터 수정\n",
    "    - 행열 데이터를 선택\n",
    "    - =, > (값(scala, vector, matrix))\n",
    "    - 브로드 캐스팅 개념\n",
    "- arrange : list에서 사용하는 range : 결과가 ndarray"
   ]
  },
  {
   "cell_type": "markdown",
   "metadata": {},
   "source": [
    "### Quiz \n",
    "- 100~130까지 랜덤한 숫자를 가지는 8*8행렬을 만들고, \n",
    "- 3의 배수는 fiz, 5의 배수는 buz, 3과 5의 배수는 fbz문자로 변환\n",
    "- 위의 조건에 맞지 않는 데이터는 랜덤하게 생성된 정수로 출력\n",
    "- 랜덤한 행렬 데이터\n",
    "\n",
    "```\n",
    "datas = np.randome.randint(100,130, size = (8,8))\n",
    "```\n",
    "- 데이터 타입이 정수 -> 문자열: ndarray.astype()"
   ]
  },
  {
   "cell_type": "code",
   "execution_count": 4,
   "metadata": {},
   "outputs": [],
   "source": [
    "import numpy as np"
   ]
  },
  {
   "cell_type": "code",
   "execution_count": 6,
   "metadata": {},
   "outputs": [
    {
     "data": {
      "text/plain": [
       "array([[112, 114, 124, 122, 127, 120, 125, 105],\n",
       "       [115, 106, 123, 123, 114, 112, 117, 104],\n",
       "       [109, 103, 115, 110, 104, 123, 101, 119],\n",
       "       [125, 110, 126, 122, 116, 116, 122, 110],\n",
       "       [128, 123, 120, 119, 128, 122, 107, 121],\n",
       "       [116, 119, 103, 123, 101, 100, 118, 108],\n",
       "       [114, 114, 102, 102, 115, 111, 126, 100],\n",
       "       [117, 113, 109, 108, 111, 106, 127, 101]])"
      ]
     },
     "execution_count": 6,
     "metadata": {},
     "output_type": "execute_result"
    }
   ],
   "source": [
    "datas = np.random.randint(100,130, size = (8,8))\n",
    "datas"
   ]
  },
  {
   "cell_type": "code",
   "execution_count": 11,
   "metadata": {},
   "outputs": [
    {
     "data": {
      "text/plain": [
       "array([1, 3])"
      ]
     },
     "execution_count": 11,
     "metadata": {},
     "output_type": "execute_result"
    }
   ],
   "source": [
    "data1 = np.array([1,2,3])\n",
    "data2 = [True, False, True]\n",
    "data1[data2]"
   ]
  },
  {
   "cell_type": "code",
   "execution_count": 20,
   "metadata": {},
   "outputs": [],
   "source": [
    "# 3의 배수, 5의 배수, 15의 배수 위치값에 대한 T,Fmatrix 생성\n",
    "idx_3 = datas % 3 == 0\n",
    "idx_5 = datas % 5 == 0\n",
    "idx_15 = datas % 15 == 0"
   ]
  },
  {
   "cell_type": "code",
   "execution_count": 22,
   "metadata": {},
   "outputs": [
    {
     "data": {
      "text/plain": [
       "dtype('int32')"
      ]
     },
     "execution_count": 22,
     "metadata": {},
     "output_type": "execute_result"
    }
   ],
   "source": [
    "# 데이터의 타입을 str으로 변환\n",
    "datas.dtype"
   ]
  },
  {
   "cell_type": "code",
   "execution_count": 23,
   "metadata": {},
   "outputs": [
    {
     "data": {
      "text/plain": [
       "array([['112', '114', '124', '122', '127', '120', '125', '105'],\n",
       "       ['115', '106', '123', '123', '114', '112', '117', '104'],\n",
       "       ['109', '103', '115', '110', '104', '123', '101', '119'],\n",
       "       ['125', '110', '126', '122', '116', '116', '122', '110'],\n",
       "       ['128', '123', '120', '119', '128', '122', '107', '121'],\n",
       "       ['116', '119', '103', '123', '101', '100', '118', '108'],\n",
       "       ['114', '114', '102', '102', '115', '111', '126', '100'],\n",
       "       ['117', '113', '109', '108', '111', '106', '127', '101']],\n",
       "      dtype='<U11')"
      ]
     },
     "execution_count": 23,
     "metadata": {},
     "output_type": "execute_result"
    }
   ],
   "source": [
    "result = datas.astype(\"str\")\n",
    "result"
   ]
  },
  {
   "cell_type": "code",
   "execution_count": 14,
   "metadata": {},
   "outputs": [],
   "source": [
    "# T,F matrix를이용하여 특정 조건의 데이터를 선택 후 브로드캐스팅하게 값을 대입"
   ]
  },
  {
   "cell_type": "code",
   "execution_count": 29,
   "metadata": {},
   "outputs": [
    {
     "data": {
      "text/plain": [
       "array([['112', 'fiz', '124', '122', '127', 'fbz', 'buz', 'fbz'],\n",
       "       ['buz', '106', 'fiz', 'fiz', 'fiz', '112', 'fiz', '104'],\n",
       "       ['109', '103', 'buz', 'buz', '104', 'fiz', '101', '119'],\n",
       "       ['buz', 'buz', 'fiz', '122', '116', '116', '122', 'buz'],\n",
       "       ['128', 'fiz', 'fbz', '119', '128', '122', '107', '121'],\n",
       "       ['116', '119', '103', 'fiz', '101', 'buz', '118', 'fiz'],\n",
       "       ['fiz', 'fiz', 'fiz', 'fiz', 'buz', 'fiz', 'fiz', 'buz'],\n",
       "       ['fiz', '113', '109', 'fiz', 'fiz', '106', '127', '101']],\n",
       "      dtype='<U11')"
      ]
     },
     "execution_count": 29,
     "metadata": {},
     "output_type": "execute_result"
    }
   ],
   "source": [
    "result[idx_3] = \"fiz\"\n",
    "result[idx_5] = \"buz\"\n",
    "result[idx_15] = \"fbz\"\n",
    "result"
   ]
  },
  {
   "cell_type": "markdown",
   "metadata": {},
   "source": [
    "### Quiz\n",
    "- 1~20까지 랜덤한 숫자를 가지는 5*5행렬 생성\n",
    "- 최대값에는 Max, 최소값에는 Min 문자열이 들어가도록 치환하는 코드\n",
    "- 최대값과 최솟값 함수\n",
    "\n",
    "```\n",
    "np.min(ndarray), np.max(ndarray)\n",
    "```"
   ]
  },
  {
   "cell_type": "code",
   "execution_count": 89,
   "metadata": {},
   "outputs": [
    {
     "data": {
      "text/plain": [
       "array([[10,  5, 19,  8,  9],\n",
       "       [ 8,  5,  9,  7,  9],\n",
       "       [15, 18,  4, 16,  3],\n",
       "       [ 6,  6, 19,  6, 13],\n",
       "       [ 7, 18, 13,  6, 17]])"
      ]
     },
     "execution_count": 89,
     "metadata": {},
     "output_type": "execute_result"
    }
   ],
   "source": [
    "datas = np.random.randint(1,20, size = (5,5))\n",
    "datas"
   ]
  },
  {
   "cell_type": "code",
   "execution_count": 40,
   "metadata": {},
   "outputs": [],
   "source": [
    "min = np.min(datas)\n",
    "max = np.max(datas)"
   ]
  },
  {
   "cell_type": "code",
   "execution_count": 44,
   "metadata": {},
   "outputs": [],
   "source": [
    "idx_min = datas == min\n",
    "idx_max = datas == max"
   ]
  },
  {
   "cell_type": "code",
   "execution_count": 45,
   "metadata": {},
   "outputs": [
    {
     "data": {
      "text/plain": [
       "array([['10', '19', '11', '7', '17'],\n",
       "       ['1', '1', '7', '1', '15'],\n",
       "       ['10', '19', '8', '13', '12'],\n",
       "       ['18', '16', '9', '3', '10'],\n",
       "       ['2', '1', '19', '16', '9']], dtype='<U11')"
      ]
     },
     "execution_count": 45,
     "metadata": {},
     "output_type": "execute_result"
    }
   ],
   "source": [
    "result = datas.astype(\"str\")\n",
    "result"
   ]
  },
  {
   "cell_type": "code",
   "execution_count": 48,
   "metadata": {},
   "outputs": [
    {
     "data": {
      "text/plain": [
       "array([['10', 'MAX', '11', '7', '17'],\n",
       "       ['MIN', 'MIN', '7', 'MIN', '15'],\n",
       "       ['10', 'MAX', '8', '13', '12'],\n",
       "       ['18', '16', '9', '3', '10'],\n",
       "       ['2', 'MIN', 'MAX', '16', '9']], dtype='<U11')"
      ]
     },
     "execution_count": 48,
     "metadata": {},
     "output_type": "execute_result"
    }
   ],
   "source": [
    "result[idx_min] = \"MIN\"\n",
    "result[idx_max] = \"MAX\"\n",
    "result"
   ]
  },
  {
   "cell_type": "markdown",
   "metadata": {},
   "source": [
    "### 1. linspace, logspace\n",
    "- linspace : 설정한 범위에서 선형적으로 분할한 위치의 값을 출력\n",
    "- logspace : 설정한 범위에서 로그로 분할한 위치의 값을 출력"
   ]
  },
  {
   "cell_type": "code",
   "execution_count": 51,
   "metadata": {},
   "outputs": [
    {
     "data": {
      "text/plain": [
       "array([  0.,  25.,  50.,  75., 100.])"
      ]
     },
     "execution_count": 51,
     "metadata": {},
     "output_type": "execute_result"
    }
   ],
   "source": [
    "# linspace\n",
    "np.linspace(0,100,5)"
   ]
  },
  {
   "cell_type": "code",
   "execution_count": 53,
   "metadata": {},
   "outputs": [
    {
     "data": {
      "text/plain": [
       "array([  100.,  1000., 10000.])"
      ]
     },
     "execution_count": 53,
     "metadata": {},
     "output_type": "execute_result"
    }
   ],
   "source": [
    "# logspace\n",
    "# log10(x1)=2, log(x2)=3 , log10(x3)= 4\n",
    "np.logspace(2,4,3)"
   ]
  },
  {
   "cell_type": "code",
   "execution_count": 54,
   "metadata": {},
   "outputs": [],
   "source": [
    "# 30세에 연봉이 $100000 이고 60세의 연봉이 $100000 일때\n",
    "#연봉이 선형으로 증가, 지수함수로 증가하는 두경우에서의 40세, 50세 연봉을 출력"
   ]
  },
  {
   "cell_type": "code",
   "execution_count": 55,
   "metadata": {},
   "outputs": [],
   "source": [
    "age_30 = 100000\n",
    "age_60 = 1000000"
   ]
  },
  {
   "cell_type": "code",
   "execution_count": 56,
   "metadata": {},
   "outputs": [
    {
     "data": {
      "text/plain": [
       "array([ 100000.,  400000.,  700000., 1000000.])"
      ]
     },
     "execution_count": 56,
     "metadata": {},
     "output_type": "execute_result"
    }
   ],
   "source": [
    "np.linspace(age_30, age_60,4)"
   ]
  },
  {
   "cell_type": "code",
   "execution_count": 60,
   "metadata": {},
   "outputs": [
    {
     "data": {
      "text/plain": [
       "array([ 100000.        ,  215443.46900319,  464158.88336128,\n",
       "       1000000.        ])"
      ]
     },
     "execution_count": 60,
     "metadata": {},
     "output_type": "execute_result"
    }
   ],
   "source": [
    "np.logspace(np.log10(age_30), np.log10(age_60), 4)"
   ]
  },
  {
   "cell_type": "markdown",
   "metadata": {},
   "source": [
    "### 2. numpy random\n",
    "- seed : 랜덤값을 설정값(랜덤하게 섞이지만 랜덤하게 섞인것이 똑같이 랜덤하게 섞일 수 있도록 함.)\n",
    "- rand : 균등분포로 랜덤한 값 생성\n",
    "- randn : 정규분포로 난수를 발생  (뽑힐 확률이 균일 0을 기준으로 실행 0에서 가까운 확률이 뽑힐확률이 높음)\n",
    "- randint : 균등분포로 정수값을 발생\n",
    "- suffle : 행렬 데이터를 섞어 줍니다.\n",
    "- choice : 특정 확률로 데이터를 선택"
   ]
  },
  {
   "cell_type": "code",
   "execution_count": 62,
   "metadata": {},
   "outputs": [
    {
     "data": {
      "text/plain": [
       "(array([47, 22, 82, 19, 85, 15, 89, 74, 26, 11]),\n",
       " array([47, 22, 82, 19, 85, 15, 89, 74, 26, 11]),\n",
       " array([50, 25, 82, 32, 53, 92, 85, 17, 44, 59]))"
      ]
     },
     "execution_count": 62,
     "metadata": {},
     "output_type": "execute_result"
    }
   ],
   "source": [
    "# seed\n",
    "np.random.seed(1)\n",
    "result1 = np.random.randint(10,100,10)\n",
    "\n",
    "np.random.seed(1)\n",
    "result2 = np.random.randint(10,100,10)\n",
    "\n",
    "np.random.seed(2)\n",
    "result3 = np.random.randint(10,100,10)\n",
    "\n",
    "result1, result2, result3"
   ]
  },
  {
   "cell_type": "code",
   "execution_count": 63,
   "metadata": {},
   "outputs": [
    {
     "data": {
      "text/plain": [
       "array([0.20464863, 0.61927097, 0.29965467, 0.26682728, 0.62113383,\n",
       "       0.52914209, 0.13457995, 0.51357812, 0.18443987, 0.78533515])"
      ]
     },
     "execution_count": 63,
     "metadata": {},
     "output_type": "execute_result"
    }
   ],
   "source": [
    "np.random.rand(10)"
   ]
  },
  {
   "cell_type": "code",
   "execution_count": 64,
   "metadata": {},
   "outputs": [
    {
     "data": {
      "text/plain": [
       "array([-0.0191305 ,  1.17500122, -0.74787095,  0.00902525, -0.87810789,\n",
       "       -0.15643417,  0.25657045, -0.98877905, -0.33882197, -0.23618403])"
      ]
     },
     "execution_count": 64,
     "metadata": {},
     "output_type": "execute_result"
    }
   ],
   "source": [
    "np.random.randn(10)"
   ]
  },
  {
   "cell_type": "code",
   "execution_count": 66,
   "metadata": {},
   "outputs": [
    {
     "data": {
      "text/plain": [
       "array([[1, 3, 9, 9],\n",
       "       [3, 7, 6, 7],\n",
       "       [7, 7, 4, 9]])"
      ]
     },
     "execution_count": 66,
     "metadata": {},
     "output_type": "execute_result"
    }
   ],
   "source": [
    "# shuffle\n",
    "r = np.random.randint(1,10,(3,4))\n",
    "r"
   ]
  },
  {
   "cell_type": "code",
   "execution_count": 69,
   "metadata": {},
   "outputs": [
    {
     "data": {
      "text/plain": [
       "array([[3, 7, 6, 7],\n",
       "       [1, 3, 9, 9],\n",
       "       [7, 7, 4, 9]])"
      ]
     },
     "execution_count": 69,
     "metadata": {},
     "output_type": "execute_result"
    }
   ],
   "source": [
    "np.random.shuffle(r)\n",
    "r\n",
    "# 가장 바깥쪽 차원만 바꿔줌\n",
    "# 다 바꿔주려면 ushave? 사용하면 됨"
   ]
  },
  {
   "cell_type": "code",
   "execution_count": 72,
   "metadata": {},
   "outputs": [
    {
     "data": {
      "text/plain": [
       "array([2, 0, 4, 2, 3, 0, 3, 2, 2, 2])"
      ]
     },
     "execution_count": 72,
     "metadata": {},
     "output_type": "execute_result"
    }
   ],
   "source": [
    "# choice\n",
    "np.random.choice(5,10, p=[0.1,0,0.4,0.2,0.3])\n",
    "#numpy는 뒤에 숫자 안들어감 파이썬은 (5,10,2)같이 숫자가 들어감"
   ]
  },
  {
   "cell_type": "code",
   "execution_count": 74,
   "metadata": {},
   "outputs": [
    {
     "name": "stdout",
     "output_type": "stream",
     "text": [
      "[1 3 4 6 7 9]\n",
      "[1 2 1 1 4 3]\n"
     ]
    }
   ],
   "source": [
    "# unique - 유일한 값을 뽑아줌\n",
    "numbers, counts = np.unique(r, return_counts=True)\n",
    "print(numbers)\n",
    "print(counts)"
   ]
  },
  {
   "cell_type": "markdown",
   "metadata": {},
   "source": [
    "### 3. 행렬 데이터의 결합\n",
    "- concatenate"
   ]
  },
  {
   "cell_type": "code",
   "execution_count": 75,
   "metadata": {},
   "outputs": [],
   "source": [
    "na1 = np.random.randint(10, size=(2, 3))\n",
    "na2 = np.random.randint(10, size=(3, 2))\n",
    "na3 = np.random.randint(10, size=(3, 3))"
   ]
  },
  {
   "cell_type": "code",
   "execution_count": 76,
   "metadata": {},
   "outputs": [
    {
     "data": {
      "text/plain": [
       "array([[1, 9, 2],\n",
       "       [1, 0, 7]])"
      ]
     },
     "execution_count": 76,
     "metadata": {},
     "output_type": "execute_result"
    }
   ],
   "source": [
    "# 세로 결합\n",
    "na1"
   ]
  },
  {
   "cell_type": "code",
   "execution_count": 77,
   "metadata": {},
   "outputs": [
    {
     "data": {
      "text/plain": [
       "array([[1, 8],\n",
       "       [9, 0],\n",
       "       [7, 0]])"
      ]
     },
     "execution_count": 77,
     "metadata": {},
     "output_type": "execute_result"
    }
   ],
   "source": [
    "na2"
   ]
  },
  {
   "cell_type": "code",
   "execution_count": 78,
   "metadata": {},
   "outputs": [
    {
     "data": {
      "text/plain": [
       "array([[5, 2, 5],\n",
       "       [1, 3, 3],\n",
       "       [1, 8, 6]])"
      ]
     },
     "execution_count": 78,
     "metadata": {},
     "output_type": "execute_result"
    }
   ],
   "source": [
    "na3"
   ]
  },
  {
   "cell_type": "code",
   "execution_count": 96,
   "metadata": {},
   "outputs": [
    {
     "ename": "ValueError",
     "evalue": "all the input array dimensions for the concatenation axis must match exactly, but along dimension 1, the array at index 0 has size 2 and the array at index 1 has size 3",
     "output_type": "error",
     "traceback": [
      "\u001b[1;31m---------------------------------------------------------------------------\u001b[0m",
      "\u001b[1;31mValueError\u001b[0m                                Traceback (most recent call last)",
      "\u001b[1;32m<ipython-input-96-c71254da7dfc>\u001b[0m in \u001b[0;36m<module>\u001b[1;34m\u001b[0m\n\u001b[1;32m----> 1\u001b[1;33m \u001b[0mnp\u001b[0m\u001b[1;33m.\u001b[0m\u001b[0mconcatenate\u001b[0m\u001b[1;33m(\u001b[0m\u001b[1;33m(\u001b[0m\u001b[0mna2\u001b[0m\u001b[1;33m,\u001b[0m\u001b[0mna1\u001b[0m\u001b[1;33m)\u001b[0m\u001b[1;33m)\u001b[0m\u001b[1;33m\u001b[0m\u001b[1;33m\u001b[0m\u001b[0m\n\u001b[0m",
      "\u001b[1;32m<__array_function__ internals>\u001b[0m in \u001b[0;36mconcatenate\u001b[1;34m(*args, **kwargs)\u001b[0m\n",
      "\u001b[1;31mValueError\u001b[0m: all the input array dimensions for the concatenation axis must match exactly, but along dimension 1, the array at index 0 has size 2 and the array at index 1 has size 3"
     ]
    }
   ],
   "source": [
    "np.concatenate((na2,na1))"
   ]
  },
  {
   "cell_type": "code",
   "execution_count": 80,
   "metadata": {},
   "outputs": [
    {
     "data": {
      "text/plain": [
       "array([[1, 9, 2],\n",
       "       [1, 0, 7],\n",
       "       [5, 2, 5],\n",
       "       [1, 3, 3],\n",
       "       [1, 8, 6]])"
      ]
     },
     "execution_count": 80,
     "metadata": {},
     "output_type": "execute_result"
    }
   ],
   "source": [
    "#세로 결합\n",
    "np.concatenate((na1,na3))"
   ]
  },
  {
   "cell_type": "code",
   "execution_count": 82,
   "metadata": {},
   "outputs": [
    {
     "data": {
      "text/plain": [
       "array([[1, 8, 5, 2, 5],\n",
       "       [9, 0, 1, 3, 3],\n",
       "       [7, 0, 1, 8, 6]])"
      ]
     },
     "execution_count": 82,
     "metadata": {},
     "output_type": "execute_result"
    }
   ],
   "source": [
    "# 가로 결합\n",
    "np.concatenate((na2,na3), axis =1)\n",
    "# axis = 0 -> 세로축, axis = 1 -> 가로축"
   ]
  },
  {
   "cell_type": "code",
   "execution_count": 84,
   "metadata": {},
   "outputs": [
    {
     "data": {
      "text/plain": [
       "array([[1, 4],\n",
       "       [2, 5],\n",
       "       [3, 6]])"
      ]
     },
     "execution_count": 84,
     "metadata": {},
     "output_type": "execute_result"
    }
   ],
   "source": [
    "# c_, r_\n",
    "np.c_[np.array([1,2,3]), np.array([4,5,6])]\n",
    "    "
   ]
  },
  {
   "cell_type": "code",
   "execution_count": 86,
   "metadata": {},
   "outputs": [
    {
     "data": {
      "text/plain": [
       "array([1, 2, 3, 4, 5, 6])"
      ]
     },
     "execution_count": 86,
     "metadata": {},
     "output_type": "execute_result"
    }
   ],
   "source": [
    "np.r_[np.array([1,2,3]), np.array([4,5,6])]"
   ]
  },
  {
   "cell_type": "code",
   "execution_count": 87,
   "metadata": {},
   "outputs": [],
   "source": [
    "# split, var, std, mean ...."
   ]
  },
  {
   "cell_type": "code",
   "execution_count": null,
   "metadata": {},
   "outputs": [],
   "source": []
  },
  {
   "cell_type": "code",
   "execution_count": null,
   "metadata": {},
   "outputs": [],
   "source": []
  },
  {
   "cell_type": "code",
   "execution_count": null,
   "metadata": {},
   "outputs": [],
   "source": []
  },
  {
   "cell_type": "code",
   "execution_count": null,
   "metadata": {},
   "outputs": [],
   "source": []
  },
  {
   "cell_type": "code",
   "execution_count": null,
   "metadata": {},
   "outputs": [],
   "source": []
  },
  {
   "cell_type": "code",
   "execution_count": null,
   "metadata": {},
   "outputs": [],
   "source": []
  },
  {
   "cell_type": "code",
   "execution_count": null,
   "metadata": {},
   "outputs": [],
   "source": []
  },
  {
   "cell_type": "code",
   "execution_count": null,
   "metadata": {},
   "outputs": [],
   "source": []
  },
  {
   "cell_type": "code",
   "execution_count": null,
   "metadata": {},
   "outputs": [],
   "source": []
  },
  {
   "cell_type": "code",
   "execution_count": null,
   "metadata": {},
   "outputs": [],
   "source": []
  },
  {
   "cell_type": "code",
   "execution_count": null,
   "metadata": {},
   "outputs": [],
   "source": []
  },
  {
   "cell_type": "code",
   "execution_count": null,
   "metadata": {},
   "outputs": [],
   "source": []
  },
  {
   "cell_type": "code",
   "execution_count": null,
   "metadata": {},
   "outputs": [],
   "source": []
  },
  {
   "cell_type": "code",
   "execution_count": null,
   "metadata": {},
   "outputs": [],
   "source": []
  },
  {
   "cell_type": "code",
   "execution_count": null,
   "metadata": {},
   "outputs": [],
   "source": []
  },
  {
   "cell_type": "code",
   "execution_count": null,
   "metadata": {},
   "outputs": [],
   "source": []
  },
  {
   "cell_type": "code",
   "execution_count": null,
   "metadata": {},
   "outputs": [],
   "source": []
  },
  {
   "cell_type": "code",
   "execution_count": null,
   "metadata": {},
   "outputs": [],
   "source": []
  },
  {
   "cell_type": "code",
   "execution_count": null,
   "metadata": {},
   "outputs": [],
   "source": []
  },
  {
   "cell_type": "code",
   "execution_count": null,
   "metadata": {},
   "outputs": [],
   "source": []
  },
  {
   "cell_type": "code",
   "execution_count": null,
   "metadata": {},
   "outputs": [],
   "source": []
  },
  {
   "cell_type": "code",
   "execution_count": null,
   "metadata": {},
   "outputs": [],
   "source": []
  },
  {
   "cell_type": "code",
   "execution_count": null,
   "metadata": {},
   "outputs": [],
   "source": []
  },
  {
   "cell_type": "code",
   "execution_count": null,
   "metadata": {},
   "outputs": [],
   "source": []
  },
  {
   "cell_type": "code",
   "execution_count": null,
   "metadata": {},
   "outputs": [],
   "source": []
  },
  {
   "cell_type": "code",
   "execution_count": null,
   "metadata": {},
   "outputs": [],
   "source": []
  },
  {
   "cell_type": "code",
   "execution_count": null,
   "metadata": {},
   "outputs": [],
   "source": []
  },
  {
   "cell_type": "code",
   "execution_count": null,
   "metadata": {},
   "outputs": [],
   "source": []
  },
  {
   "cell_type": "code",
   "execution_count": null,
   "metadata": {},
   "outputs": [],
   "source": []
  },
  {
   "cell_type": "code",
   "execution_count": null,
   "metadata": {},
   "outputs": [],
   "source": []
  },
  {
   "cell_type": "code",
   "execution_count": null,
   "metadata": {},
   "outputs": [],
   "source": []
  },
  {
   "cell_type": "code",
   "execution_count": null,
   "metadata": {},
   "outputs": [],
   "source": []
  },
  {
   "cell_type": "code",
   "execution_count": null,
   "metadata": {},
   "outputs": [],
   "source": []
  },
  {
   "cell_type": "code",
   "execution_count": null,
   "metadata": {},
   "outputs": [],
   "source": []
  },
  {
   "cell_type": "code",
   "execution_count": null,
   "metadata": {},
   "outputs": [],
   "source": []
  },
  {
   "cell_type": "code",
   "execution_count": null,
   "metadata": {},
   "outputs": [],
   "source": []
  },
  {
   "cell_type": "code",
   "execution_count": null,
   "metadata": {},
   "outputs": [],
   "source": []
  },
  {
   "cell_type": "code",
   "execution_count": null,
   "metadata": {},
   "outputs": [],
   "source": []
  }
 ],
 "metadata": {
  "kernelspec": {
   "display_name": "Python 3",
   "language": "python",
   "name": "python3"
  },
  "language_info": {
   "codemirror_mode": {
    "name": "ipython",
    "version": 3
   },
   "file_extension": ".py",
   "mimetype": "text/x-python",
   "name": "python",
   "nbconvert_exporter": "python",
   "pygments_lexer": "ipython3",
   "version": "3.8.3"
  }
 },
 "nbformat": 4,
 "nbformat_minor": 4
}
