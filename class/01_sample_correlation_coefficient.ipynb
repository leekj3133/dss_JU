{
 "cells": [
  {
   "cell_type": "markdown",
   "metadata": {
    "slideshow": {
     "slide_type": "slide"
    }
   },
   "source": [
    "### 상관계수 ( Correlation Coefficient )\n",
    "- 두개의 데이터 집합의 상관도를 구합니다."
   ]
  },
  {
   "cell_type": "markdown",
   "metadata": {
    "slideshow": {
     "slide_type": "slide"
    }
   },
   "source": [
    "##### Index\n",
    "\n",
    "1. 분산\n",
    "1. 공분산\n",
    "1. 상관계수\n",
    "1. 결정계수\n",
    "1. 광고 데이터 상관계수 및 회귀분석 모델 생성"
   ]
  },
  {
   "cell_type": "markdown",
   "metadata": {
    "slideshow": {
     "slide_type": "slide"
    }
   },
   "source": [
    "샘플 데이터 생성"
   ]
  },
  {
   "cell_type": "code",
   "execution_count": 1,
   "metadata": {},
   "outputs": [
    {
     "data": {
      "text/plain": [
       "([80, 85, 100, 90, 95],\n",
       " [70, 80, 100, 95, 95],\n",
       " [100, 90, 70, 90, 80],\n",
       " [800, 850, 1000, 900, 950],\n",
       " [1000, 900, 700, 900, 800])"
      ]
     },
     "execution_count": 1,
     "metadata": {},
     "output_type": "execute_result"
    }
   ],
   "source": [
    "data1 = [80, 85, 100, 90, 95]\n",
    "data2 = [70, 80, 100, 95, 95]\n",
    "data3 = [100, 90, 70, 90, 80]\n",
    "data4 = [data*10 for data in data1] # data1의 모든 값에 10에 곱함\n",
    "data5 = [data*10 for data in data3] # data3의 모든 값에 10을 곱함\n",
    "data1, data2, data3, data4, data5"
   ]
  },
  {
   "cell_type": "markdown",
   "metadata": {
    "slideshow": {
     "slide_type": "slide"
    }
   },
   "source": [
    "### 2. 분산(variance)\n",
    "- 1개의 이산정도를 나타냄\n",
    "- 편차제곱의 평균"
   ]
  },
  {
   "cell_type": "markdown",
   "metadata": {},
   "source": [
    "```\n",
    "A : 80(평균) - 60, 80, 100.. - 분산 높다\n",
    "B : 80(평균) - 75, 80, 85 .. - 분산 낮다\n",
    "```"
   ]
  },
  {
   "cell_type": "code",
   "execution_count": null,
   "metadata": {},
   "outputs": [],
   "source": [
    "1/2 제곱 -> 제곱근?????"
   ]
  },
  {
   "cell_type": "markdown",
   "metadata": {},
   "source": [
    "$ variance = \\frac{\\sum_{i=1}^n{(x_i-\\bar{x})^2}}{n}, (\\bar{x}:평균) $"
   ]
  },
  {
   "cell_type": "code",
   "execution_count": 2,
   "metadata": {},
   "outputs": [
    {
     "data": {
      "text/plain": [
       "(50.0, 126.0, 7.0710678118654755, 11.224972160321824)"
      ]
     },
     "execution_count": 2,
     "metadata": {},
     "output_type": "execute_result"
    }
   ],
   "source": [
    "# variance code\n",
    "def variance(data):\n",
    "    \n",
    "    avg = sum(data) / len(data)\n",
    "    var = 0\n",
    "    \n",
    "    for num in data:\n",
    "        var += (num - avg) ** 2\n",
    "    \n",
    "    return var / len(data)\n",
    "    \n",
    "variance(data1), variance(data2), variance(data1) ** 0.5, variance(data2) ** 0.5"
   ]
  },
  {
   "cell_type": "markdown",
   "metadata": {
    "slideshow": {
     "slide_type": "slide"
    }
   },
   "source": [
    "### 3. 공분산(covariance) \n",
    "- 2개의 확률변수의 상관정도를 나타냄\n",
    "- 평균 편차곱\n",
    "- 방향성은 보여줄수 있으나 강도를 나타내는데 한계가 있다\n",
    "    - 표본데이터의 크기에 따라서 값의 차이가 큰 단점이 있다"
   ]
  },
  {
   "cell_type": "code",
   "execution_count": 3,
   "metadata": {},
   "outputs": [],
   "source": [
    "# A : 100 80 60\n",
    "# B : 60  80 100\n",
    "# A는 잘하는 과목은 B는 잘 못한다 (음의 상관관계)"
   ]
  },
  {
   "cell_type": "markdown",
   "metadata": {},
   "source": [
    "$ covariance = \\frac{\\sum_{i=1}^{n}{(x_i-\\bar{x})(y_i-\\bar{y})}}{n}, (\\bar{x}:x의 평균, \\bar{y}:y의 평균) $"
   ]
  },
  {
   "cell_type": "code",
   "execution_count": 4,
   "metadata": {
    "slideshow": {
     "slide_type": "slide"
    }
   },
   "outputs": [],
   "source": [
    "# covariance function : n -> (n-1) : 자유도\n",
    "def covariance(data1, data2):\n",
    "    \n",
    "    x_ = sum(data1) / len(data1)\n",
    "    y_ = sum(data2) / len(data2)\n",
    "    cov = 0\n",
    "    \n",
    "    for num1, num2 in zip(data1, data2):\n",
    "        cov += (num1 - x_) * (num2 - y_)\n",
    "    \n",
    "    return cov / len(data1)"
   ]
  },
  {
   "cell_type": "code",
   "execution_count": 5,
   "metadata": {},
   "outputs": [
    {
     "data": {
      "text/plain": [
       "([80, 85, 100, 90, 95],\n",
       " [70, 80, 100, 95, 95],\n",
       " [100, 90, 70, 90, 80],\n",
       " [800, 850, 1000, 900, 950],\n",
       " [1000, 900, 700, 900, 800])"
      ]
     },
     "execution_count": 5,
     "metadata": {},
     "output_type": "execute_result"
    }
   ],
   "source": [
    "data1, data2, data3, data4, data5"
   ]
  },
  {
   "cell_type": "code",
   "execution_count": 6,
   "metadata": {},
   "outputs": [
    {
     "data": {
      "text/plain": [
       "(75.0, -70.0, -7000.0)"
      ]
     },
     "execution_count": 6,
     "metadata": {},
     "output_type": "execute_result"
    }
   ],
   "source": [
    "covariance(data1, data2), covariance(data1, data3), covariance(data4, data5)"
   ]
  },
  {
   "cell_type": "markdown",
   "metadata": {
    "slideshow": {
     "slide_type": "slide"
    }
   },
   "source": [
    "### 4. 상관계수(correlation coefficient) -피어슨 상관계수\n",
    "- 공분산의 한계를 극복하기 위해서 만들어짐\n",
    "- -1 ~ 1까지의 수를 가지며 0과 가까울수록 상관도가 적음을 의미\n",
    "- x의 분산과 y의 분산을 곱한 결과의 제곱근을 나눠주면 x나 y의 변화량이 클수록 0에 가까워짐\n",
    "- https://docs.scipy.org/doc/numpy-1.13.0/reference/generated/numpy.corrcoef.html"
   ]
  },
  {
   "cell_type": "markdown",
   "metadata": {},
   "source": [
    "$ correlation-coefficient = \\frac{공분산}{\\sqrt{{x분산} \\cdot {y분산}}} $"
   ]
  },
  {
   "cell_type": "markdown",
   "metadata": {},
   "source": [
    "최종 상관계수"
   ]
  },
  {
   "cell_type": "markdown",
   "metadata": {},
   "source": [
    "$ r = \\frac{\\sum(x-\\bar{x})(y-\\bar{y})}{\\sqrt{{\\sum(x-\\bar{x})^2}\\cdot{\\sum(y-\\bar{y})^2}}} $"
   ]
  },
  {
   "cell_type": "code",
   "execution_count": 7,
   "metadata": {},
   "outputs": [],
   "source": [
    "def cc(data1, data2):\n",
    "    \n",
    "    cov = covariance(data1, data2)\n",
    "    var_x = variance(data1)\n",
    "    var_y = variance(data2)\n",
    "    \n",
    "    return cov / ((var_x * var_y) ** 0.5)"
   ]
  },
  {
   "cell_type": "code",
   "execution_count": 8,
   "metadata": {},
   "outputs": [
    {
     "data": {
      "text/plain": [
       "(0.944911182523068, -0.970725343394151, -0.970725343394151)"
      ]
     },
     "execution_count": 8,
     "metadata": {},
     "output_type": "execute_result"
    }
   ],
   "source": [
    "cc(data1, data2), cc(data1, data3), cc(data4, data5)"
   ]
  },
  {
   "cell_type": "markdown",
   "metadata": {},
   "source": [
    "### 5. 광고 데이터의 상관계수\n",
    "- tv, radio,  newspaper 중 어떤 매체가 상관관계가 높은지 분석"
   ]
  },
  {
   "cell_type": "code",
   "execution_count": 9,
   "metadata": {},
   "outputs": [],
   "source": [
    "import pickle"
   ]
  },
  {
   "cell_type": "code",
   "execution_count": 10,
   "metadata": {},
   "outputs": [],
   "source": [
    "with open(\"datas/advertising.np\", \"rb\") as f:\n",
    "    datas = pickle.load(f)"
   ]
  },
  {
   "cell_type": "code",
   "execution_count": 11,
   "metadata": {},
   "outputs": [
    {
     "data": {
      "text/html": [
       "<div>\n",
       "<style scoped>\n",
       "    .dataframe tbody tr th:only-of-type {\n",
       "        vertical-align: middle;\n",
       "    }\n",
       "\n",
       "    .dataframe tbody tr th {\n",
       "        vertical-align: top;\n",
       "    }\n",
       "\n",
       "    .dataframe thead th {\n",
       "        text-align: right;\n",
       "    }\n",
       "</style>\n",
       "<table border=\"1\" class=\"dataframe\">\n",
       "  <thead>\n",
       "    <tr style=\"text-align: right;\">\n",
       "      <th></th>\n",
       "      <th>tv</th>\n",
       "      <th>radio</th>\n",
       "      <th>newspaper</th>\n",
       "      <th>sales</th>\n",
       "    </tr>\n",
       "  </thead>\n",
       "  <tbody>\n",
       "    <tr>\n",
       "      <th>0</th>\n",
       "      <td>230.1</td>\n",
       "      <td>37.8</td>\n",
       "      <td>69.2</td>\n",
       "      <td>22.1</td>\n",
       "    </tr>\n",
       "    <tr>\n",
       "      <th>1</th>\n",
       "      <td>44.5</td>\n",
       "      <td>39.3</td>\n",
       "      <td>45.1</td>\n",
       "      <td>10.4</td>\n",
       "    </tr>\n",
       "    <tr>\n",
       "      <th>2</th>\n",
       "      <td>17.2</td>\n",
       "      <td>45.9</td>\n",
       "      <td>69.3</td>\n",
       "      <td>9.3</td>\n",
       "    </tr>\n",
       "    <tr>\n",
       "      <th>3</th>\n",
       "      <td>151.5</td>\n",
       "      <td>41.3</td>\n",
       "      <td>58.5</td>\n",
       "      <td>18.5</td>\n",
       "    </tr>\n",
       "    <tr>\n",
       "      <th>4</th>\n",
       "      <td>180.8</td>\n",
       "      <td>10.8</td>\n",
       "      <td>58.4</td>\n",
       "      <td>12.9</td>\n",
       "    </tr>\n",
       "  </tbody>\n",
       "</table>\n",
       "</div>"
      ],
      "text/plain": [
       "      tv  radio  newspaper  sales\n",
       "0  230.1   37.8       69.2   22.1\n",
       "1   44.5   39.3       45.1   10.4\n",
       "2   17.2   45.9       69.3    9.3\n",
       "3  151.5   41.3       58.5   18.5\n",
       "4  180.8   10.8       58.4   12.9"
      ]
     },
     "execution_count": 11,
     "metadata": {},
     "output_type": "execute_result"
    }
   ],
   "source": [
    "df = pd.DataFrame(datas, columns=[\"tv\", \"radio\", \"newspaper\", \"sales\"])\n",
    "df.head()"
   ]
  },
  {
   "cell_type": "code",
   "execution_count": 12,
   "metadata": {},
   "outputs": [
    {
     "data": {
      "text/plain": [
       "(0.782224424861606, 0.5762225745710553, 0.22829902637616525)"
      ]
     },
     "execution_count": 12,
     "metadata": {},
     "output_type": "execute_result"
    }
   ],
   "source": [
    "cc(df[\"tv\"], df[\"sales\"]), cc(df[\"radio\"], df[\"sales\"]), cc(df[\"newspaper\"], df[\"sales\"])"
   ]
  },
  {
   "cell_type": "code",
   "execution_count": 13,
   "metadata": {},
   "outputs": [
    {
     "name": "stdout",
     "output_type": "stream",
     "text": [
      "tv:0.782224424861606\n",
      "radio:0.5762225745710553\n",
      "newspaper:0.22829902637616525\n"
     ]
    }
   ],
   "source": [
    "for column in df.columns[:-1]:\n",
    "    print(\"{}:{}\".format(column, cc(df[column], df[\"sales\"])))"
   ]
  },
  {
   "cell_type": "code",
   "execution_count": 14,
   "metadata": {},
   "outputs": [],
   "source": [
    "# TV가 매출과 상관관계가 가장 높다. > TV 광고를 많이하자!"
   ]
  }
 ],
 "metadata": {
  "kernelspec": {
   "display_name": "Python 3",
   "language": "python",
   "name": "python3"
  },
  "language_info": {
   "codemirror_mode": {
    "name": "ipython",
    "version": 3
   },
   "file_extension": ".py",
   "mimetype": "text/x-python",
   "name": "python",
   "nbconvert_exporter": "python",
   "pygments_lexer": "ipython3",
   "version": "3.8.3"
  }
 },
 "nbformat": 4,
 "nbformat_minor": 4
}
