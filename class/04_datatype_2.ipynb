{
 "cells": [
  {
   "cell_type": "markdown",
   "metadata": {},
   "source": [
    "## 자료형\n",
    "- 리스트\n",
    "- 튜플\n",
    "- 딕셔너리"
   ]
  },
  {
   "cell_type": "markdown",
   "metadata": {},
   "source": [
    "#### 리스트\n",
    "- 순서가 있는 데이터의 집합"
   ]
  },
  {
   "cell_type": "code",
   "execution_count": 66,
   "metadata": {},
   "outputs": [
    {
     "name": "stdout",
     "output_type": "stream",
     "text": [
      "<class 'list'> [1, 'python', False]\n"
     ]
    }
   ],
   "source": [
    "ls = [1, \"python\", False]\n",
    "print(type(ls), ls)"
   ]
  },
  {
   "cell_type": "code",
   "execution_count": 67,
   "metadata": {},
   "outputs": [
    {
     "name": "stdout",
     "output_type": "stream",
     "text": [
      "data science python <class 'str'>\n"
     ]
    }
   ],
   "source": [
    "# 리스트 데이터를 문자열로 합쳐주는 함수 - join\n",
    "a = [\"data\", \"science\", \"python\"]\n",
    "result = \" \".join(a)\n",
    "print(result, type(result))"
   ]
  },
  {
   "cell_type": "markdown",
   "metadata": {},
   "source": [
    "### Quiz 1\n",
    "- 리스트 데이터를 문자열로 합쳐서 문장으로 만들어 주세요.\n",
    "- 가장 앞글자는 대문자, 마지막에는 마침표를 찍어주세요.\n",
    "```\n",
    "ls = [\"python\", \"is\", \"best\", \"programming\", \"language\"]\n",
    "```"
   ]
  },
  {
   "cell_type": "code",
   "execution_count": 45,
   "metadata": {},
   "outputs": [
    {
     "name": "stdout",
     "output_type": "stream",
     "text": [
      "Python is best programming language.\n"
     ]
    }
   ],
   "source": [
    "ls = [\"python\", \"is\", \"best\", \"programming\", \"language\"]\n",
    "result = \" \".join(ls)\n",
    "result = result[0].upper() + result[1:] + \".\"\n",
    "print(result)\n",
    "# result => \"Python is best programing language.\""
   ]
  },
  {
   "cell_type": "markdown",
   "metadata": {},
   "source": [
    "#### 리스트의 오프셋\n",
    "- 문자열은 하나의 문자를 오프셋 단위로 인식\n",
    "- 리스트는 하나의 값을 오프셋 단위로 인식"
   ]
  },
  {
   "cell_type": "code",
   "execution_count": 46,
   "metadata": {},
   "outputs": [
    {
     "name": "stdout",
     "output_type": "stream",
     "text": [
      "data\n"
     ]
    }
   ],
   "source": [
    "a = [\"python\", \"data\", 1, True, \"fast\"]\n",
    "print(a[1])"
   ]
  },
  {
   "cell_type": "code",
   "execution_count": 16,
   "metadata": {},
   "outputs": [
    {
     "name": "stdout",
     "output_type": "stream",
     "text": [
      "[1, True, 'fast']\n"
     ]
    }
   ],
   "source": [
    "print(a[2:])"
   ]
  },
  {
   "cell_type": "code",
   "execution_count": 17,
   "metadata": {},
   "outputs": [
    {
     "name": "stdout",
     "output_type": "stream",
     "text": [
      "['fast', True, 1, 'data', 'python']\n"
     ]
    }
   ],
   "source": [
    "print(a[::-1])"
   ]
  },
  {
   "cell_type": "code",
   "execution_count": 19,
   "metadata": {},
   "outputs": [
    {
     "name": "stdout",
     "output_type": "stream",
     "text": [
      "[True, 'fast']\n"
     ]
    }
   ],
   "source": [
    "print(a[-2:])"
   ]
  },
  {
   "cell_type": "code",
   "execution_count": 47,
   "metadata": {},
   "outputs": [
    {
     "name": "stdout",
     "output_type": "stream",
     "text": [
      "True\n"
     ]
    }
   ],
   "source": [
    "print(a[-2:][0])"
   ]
  },
  {
   "cell_type": "markdown",
   "metadata": {},
   "source": [
    "### Quiz 2\n",
    "- 홀수 데이터를 거꾸로 출력하세요.\n",
    "- 오프셋을 사용하세요\n",
    "```\n",
    "Is = [0,1,2,3,4,5,6,7,8,9]\n",
    "```\n",
    "- 결과\n",
    "```\n",
    "# result => [9,7,5,3,1]\n",
    "```"
   ]
  },
  {
   "cell_type": "code",
   "execution_count": 50,
   "metadata": {},
   "outputs": [
    {
     "name": "stdout",
     "output_type": "stream",
     "text": [
      "[9, 7, 5, 3, 1]\n"
     ]
    }
   ],
   "source": [
    "ls = [0,1,2,3,4,5,6,7,8,9]\n",
    "result = ls[1::2][::-1]\n",
    "print(result)"
   ]
  },
  {
   "cell_type": "code",
   "execution_count": 51,
   "metadata": {},
   "outputs": [
    {
     "name": "stdout",
     "output_type": "stream",
     "text": [
      "['pyton', 'data', 'science']\n"
     ]
    }
   ],
   "source": [
    "# 리스트 데이터를 문자열 데이터로 바꿔주는 함수 : join\n",
    "# 문자열 데이터를 리스트 데이터로 바꿔주는 함수 : spilt\n",
    "txt = \"pyton data science\"\n",
    "ls = [\"python\", \"data\", \"science\"]\n",
    "result = txt.split(\" \")\n",
    "print(result)"
   ]
  },
  {
   "cell_type": "markdown",
   "metadata": {},
   "source": [
    "### 리스트 함수\n",
    "- apeend : 데이터 추가\n",
    "- sort :  데이터 정렬\n",
    "- reverse : 데이터를 역순으로 정렬"
   ]
  },
  {
   "cell_type": "code",
   "execution_count": 53,
   "metadata": {},
   "outputs": [
    {
     "name": "stdout",
     "output_type": "stream",
     "text": [
      "['data', 'science', 'fastcampus']\n"
     ]
    }
   ],
   "source": [
    "# append 함수\n",
    "ls = [\"data\", \"science\"]\n",
    "ls.append(\"fastcampus\")\n",
    "print(ls)"
   ]
  },
  {
   "cell_type": "code",
   "execution_count": 55,
   "metadata": {},
   "outputs": [
    {
     "name": "stdout",
     "output_type": "stream",
     "text": [
      "['campus', 'data', 'fast', 'science']\n"
     ]
    }
   ],
   "source": [
    "# sort 함수\n",
    "ls = [\"fast\", \"data\", \"campus\", \"science\"]\n",
    "ls.sort()\n",
    "print(ls)"
   ]
  },
  {
   "cell_type": "code",
   "execution_count": 63,
   "metadata": {},
   "outputs": [
    {
     "name": "stdout",
     "output_type": "stream",
     "text": [
      "['science', 'campus', 'data', 'fast']\n"
     ]
    }
   ],
   "source": [
    "#reverse 함수\n",
    "ls = [\"fast\", \"data\", \"campus\", \"science\"]\n",
    "ls.reverse()\n",
    "print(ls)"
   ]
  },
  {
   "cell_type": "code",
   "execution_count": 64,
   "metadata": {},
   "outputs": [
    {
     "name": "stdout",
     "output_type": "stream",
     "text": [
      "['science', 'campus', 'data', 'fast']\n"
     ]
    }
   ],
   "source": [
    "print(ls)"
   ]
  },
  {
   "cell_type": "code",
   "execution_count": 66,
   "metadata": {},
   "outputs": [
    {
     "name": "stdout",
     "output_type": "stream",
     "text": [
      "['science', 'slow', 'data', 'fast']\n"
     ]
    }
   ],
   "source": [
    "ls[1] = \"slow\"\n",
    "print(ls)"
   ]
  },
  {
   "cell_type": "markdown",
   "metadata": {},
   "source": [
    "### quiz 3\n",
    "- \"Beautiful is better than ugly.\" 단어의 길이가 긴 순서대로 재정려래서 문장을 다시 만드는 코드를 작성해주세요.\n",
    "- 결과\n",
    "```\n",
    "Beautiful better ugly than is\n",
    "```\n",
    "- '<list변수>.sort(key=len)'\n",
    "\n",
    "result => Beautiful better ugly than is."
   ]
  },
  {
   "cell_type": "code",
   "execution_count": 67,
   "metadata": {},
   "outputs": [
    {
     "name": "stdout",
     "output_type": "stream",
     "text": [
      "['d', 'bc', 'abc', 'efgh']\n"
     ]
    }
   ],
   "source": [
    "data = [\"abc\", \"bc\", \"d\",\"efgh\"]\n",
    "data.sort(key=len)\n",
    "print(data)"
   ]
  },
  {
   "cell_type": "code",
   "execution_count": 77,
   "metadata": {},
   "outputs": [
    {
     "name": "stdout",
     "output_type": "stream",
     "text": [
      "Beautiful better ugly. than is\n"
     ]
    }
   ],
   "source": [
    "txt = \"Beautiful is better than ugly.\"\n",
    "a = txt.split()\n",
    "a.sort(key=len)\n",
    "a.reverse()\n",
    "result = \" \".join(a)\n",
    "print(result)"
   ]
  },
  {
   "cell_type": "code",
   "execution_count": 1,
   "metadata": {},
   "outputs": [
    {
     "name": "stdout",
     "output_type": "stream",
     "text": [
      "Beautiful better ugly than is.\n"
     ]
    }
   ],
   "source": [
    "data = \"Beautiful is better than ugly.\"\n",
    "\n",
    "# 소문자로 변환하고 마지막 마침표 제거\n",
    "result = data.lower()[:-1]\n",
    "\n",
    "# 리스트로 변환\n",
    "result = result.split(\" \")\n",
    "\n",
    "# 단어의 갯수로 오름차순으로 정렬\n",
    "result.sort(key=len)\n",
    "\n",
    "# 순서를 역순으로 변경하면 내림차순으로 정렬\n",
    "result.reverse()\n",
    "                \n",
    "# 리스트를 문자열로 변환\n",
    "result = \" \".join(result)\n",
    "\n",
    "# 가장 앞글자를 대문자로 변경하고 마침표 추가\n",
    "result = result[0].upper()+ result[1:] + \".\"\n",
    "\n",
    "print(result)"
   ]
  },
  {
   "cell_type": "markdown",
   "metadata": {},
   "source": [
    "### 튜플\n",
    "- 리스트와 같지만 수정이 불가능한 데이터 타입\n",
    "- 리스트보다 저장공간을 적게 사용하는 특징"
   ]
  },
  {
   "cell_type": "code",
   "execution_count": 99,
   "metadata": {},
   "outputs": [
    {
     "name": "stdout",
     "output_type": "stream",
     "text": [
      "<class 'tuple'> (1, 2, 3)\n"
     ]
    }
   ],
   "source": [
    "# 튜플 선언\n",
    "tp = (1,2,3)\n",
    "print(type(tp),tp)"
   ]
  },
  {
   "cell_type": "code",
   "execution_count": 100,
   "metadata": {},
   "outputs": [
    {
     "ename": "TypeError",
     "evalue": "'tuple' object does not support item assignment",
     "output_type": "error",
     "traceback": [
      "\u001b[1;31m---------------------------------------------------------------------------\u001b[0m",
      "\u001b[1;31mTypeError\u001b[0m                                 Traceback (most recent call last)",
      "\u001b[1;32m<ipython-input-100-8cd29c42acc9>\u001b[0m in \u001b[0;36m<module>\u001b[1;34m\u001b[0m\n\u001b[1;32m----> 1\u001b[1;33m \u001b[0mtp\u001b[0m\u001b[1;33m[\u001b[0m\u001b[1;36m1\u001b[0m\u001b[1;33m]\u001b[0m \u001b[1;33m=\u001b[0m \u001b[1;36m10\u001b[0m\u001b[1;33m\u001b[0m\u001b[1;33m\u001b[0m\u001b[0m\n\u001b[0m",
      "\u001b[1;31mTypeError\u001b[0m: 'tuple' object does not support item assignment"
     ]
    }
   ],
   "source": [
    "tp[1] = 10"
   ]
  },
  {
   "cell_type": "code",
   "execution_count": 104,
   "metadata": {},
   "outputs": [
    {
     "data": {
      "text/plain": [
       "(1, 3)"
      ]
     },
     "execution_count": 104,
     "metadata": {},
     "output_type": "execute_result"
    }
   ],
   "source": [
    "# 튜플에서의 오프셋 인덱스 사용\n",
    "tp[0::2]"
   ]
  },
  {
   "cell_type": "code",
   "execution_count": 105,
   "metadata": {},
   "outputs": [
    {
     "name": "stdout",
     "output_type": "stream",
     "text": [
      "96 byte\n",
      "80 byte\n"
     ]
    }
   ],
   "source": [
    "import sys\n",
    "\n",
    "ls = [1,2,3,4,5]\n",
    "tp = (1,2,3,4,5)\n",
    "print(sys.getsizeof(ls),\"byte\")\n",
    "print(sys.getsizeof(tp),\"byte\")"
   ]
  },
  {
   "cell_type": "markdown",
   "metadata": {},
   "source": [
    "### 딕셔너리\n",
    "- 순서가 없는 데이터 집합\n",
    "- 키, 값으로 구성되어 있는 데이터 타입"
   ]
  },
  {
   "cell_type": "code",
   "execution_count": 106,
   "metadata": {},
   "outputs": [
    {
     "name": "stdout",
     "output_type": "stream",
     "text": [
      "<class 'dict'> {1: 'one', 'A': ['data', 'science'], '숫자': 1234}\n"
     ]
    }
   ],
   "source": [
    "# 선언\n",
    "dic = {\n",
    "    1: \"one\",\n",
    "    \"A\":[\"data\",\"science\"],\n",
    "    \"숫자\":1234,\n",
    "}\n",
    "print(type(dic),dic)"
   ]
  },
  {
   "cell_type": "code",
   "execution_count": 108,
   "metadata": {},
   "outputs": [
    {
     "data": {
      "text/plain": [
       "(['data', 'science'], 'one')"
      ]
     },
     "execution_count": 108,
     "metadata": {},
     "output_type": "execute_result"
    }
   ],
   "source": [
    "#데이터의 접근\n",
    "dic[\"A\"], dic[1]"
   ]
  },
  {
   "cell_type": "code",
   "execution_count": 110,
   "metadata": {},
   "outputs": [
    {
     "data": {
      "text/plain": [
       "{1: '하나', 'A': ['data', 'science'], '숫자': 1234}"
      ]
     },
     "execution_count": 110,
     "metadata": {},
     "output_type": "execute_result"
    }
   ],
   "source": [
    "#데이터 수정\n",
    "dic[1] = \"하나\"\n",
    "dic"
   ]
  },
  {
   "cell_type": "markdown",
   "metadata": {},
   "source": [
    "### Quiz 4\n",
    "- 아래의 테이블 데이터를 딕셔너리 데이터 타입으로 선언하세요."
   ]
  },
  {
   "cell_type": "code",
   "execution_count": 113,
   "metadata": {},
   "outputs": [
    {
     "name": "stdout",
     "output_type": "stream",
     "text": [
      "{'name': 'python', 'addr': 'seoul', 'age': 25}\n"
     ]
    }
   ],
   "source": [
    "dic = {\n",
    "    \"name\":\"python\",\n",
    "    \"addr\":\"seoul\",\n",
    "    \"age\":25\n",
    "}\n",
    "print(dic)"
   ]
  },
  {
   "cell_type": "code",
   "execution_count": null,
   "metadata": {},
   "outputs": [],
   "source": [
    "#딕셔너리에서 키값으로 사용할 수 있는 데이터 타입은 문자열과 정수 데이터 타입만 사용 가능합니다."
   ]
  },
  {
   "cell_type": "code",
   "execution_count": 130,
   "metadata": {},
   "outputs": [
    {
     "data": {
      "text/plain": [
       "{'data1': 1, 'data2': 2, 'data3': 3}"
      ]
     },
     "execution_count": 130,
     "metadata": {},
     "output_type": "execute_result"
    }
   ],
   "source": [
    "# 딕셔너리에서는 오프셋 인덱스 사용불가\n",
    "dic = {\n",
    "    \"data1\":1, \"data2\":2,\"data3\":3}\n",
    "dic"
   ]
  },
  {
   "cell_type": "code",
   "execution_count": 115,
   "metadata": {},
   "outputs": [
    {
     "ename": "TypeError",
     "evalue": "'set' object is not subscriptable",
     "output_type": "error",
     "traceback": [
      "\u001b[1;31m---------------------------------------------------------------------------\u001b[0m",
      "\u001b[1;31mTypeError\u001b[0m                                 Traceback (most recent call last)",
      "\u001b[1;32m<ipython-input-115-44fd7baa145e>\u001b[0m in \u001b[0;36m<module>\u001b[1;34m\u001b[0m\n\u001b[1;32m----> 1\u001b[1;33m \u001b[0mdic\u001b[0m\u001b[1;33m[\u001b[0m\u001b[1;36m1\u001b[0m\u001b[1;33m]\u001b[0m\u001b[1;33m\u001b[0m\u001b[1;33m\u001b[0m\u001b[0m\n\u001b[0m",
      "\u001b[1;31mTypeError\u001b[0m: 'set' object is not subscriptable"
     ]
    }
   ],
   "source": [
    "dic[1]"
   ]
  },
  {
   "cell_type": "markdown",
   "metadata": {},
   "source": [
    "# 딕셔너리 함수\n",
    "- keys() : 키 데이터만 가져오는 함수\n",
    "- values() : 값 데이터만 가져오는 함수\n",
    "- items() : 키와 값을 가져오는 함수\n",
    "- update() : 두 개의 딕셔너리를 합쳐주는 함수"
   ]
  },
  {
   "cell_type": "code",
   "execution_count": 131,
   "metadata": {},
   "outputs": [
    {
     "data": {
      "text/plain": [
       "{'data1': 1, 'data2': 2, 'data3': 3}"
      ]
     },
     "execution_count": 131,
     "metadata": {},
     "output_type": "execute_result"
    }
   ],
   "source": [
    "dic = {\n",
    "    \"data1\":1,\n",
    "    \"data2\":2,\n",
    "    \"data3\":3,\n",
    "}\n",
    "dic"
   ]
  },
  {
   "cell_type": "code",
   "execution_count": 132,
   "metadata": {},
   "outputs": [
    {
     "name": "stdout",
     "output_type": "stream",
     "text": [
      "<class 'dict_keys'> dict_keys(['data1', 'data2', 'data3'])\n"
     ]
    }
   ],
   "source": [
    "# keys\n",
    "result = dic.keys()\n",
    "print(type(result), result)"
   ]
  },
  {
   "cell_type": "code",
   "execution_count": 133,
   "metadata": {},
   "outputs": [
    {
     "data": {
      "text/plain": [
       "dict_values([1, 2, 3])"
      ]
     },
     "execution_count": 133,
     "metadata": {},
     "output_type": "execute_result"
    }
   ],
   "source": [
    "# Values\n",
    "result = dic.values()\n",
    "result"
   ]
  },
  {
   "cell_type": "code",
   "execution_count": 134,
   "metadata": {},
   "outputs": [
    {
     "data": {
      "text/plain": [
       "dict_items([('data1', 1), ('data2', 2), ('data3', 3)])"
      ]
     },
     "execution_count": 134,
     "metadata": {},
     "output_type": "execute_result"
    }
   ],
   "source": [
    "# items\n",
    "result = dic.items()\n",
    "result"
   ]
  },
  {
   "cell_type": "code",
   "execution_count": 136,
   "metadata": {},
   "outputs": [
    {
     "name": "stdout",
     "output_type": "stream",
     "text": [
      "{1: 'a', 2: 'b', 3: 'c', 4: 'd'}\n"
     ]
    }
   ],
   "source": [
    "# update\n",
    "dic1 = {1:\"a\",2:\"b\"}\n",
    "dic2 = {3:\"c\",4:\"d\"}\n",
    "# dic3 = \n",
    "dic1.update(dic2)\n",
    "dic3 = dic1\n",
    "print(dic3)"
   ]
  },
  {
   "cell_type": "markdown",
   "metadata": {},
   "source": [
    "### Quiz 5\n",
    "- \"국어 점수는 80점, 영어 점수는 90점, 수학 점수는 70점\"이 데이터를 리스트, 튜플, 딕셔너리 데이터 타입으로 나타내세요."
   ]
  },
  {
   "cell_type": "code",
   "execution_count": 143,
   "metadata": {},
   "outputs": [
    {
     "ename": "SyntaxError",
     "evalue": "cannot assign to literal (<ipython-input-143-81ea8dcfeae2>, line 1)",
     "output_type": "error",
     "traceback": [
      "\u001b[1;36m  File \u001b[1;32m\"<ipython-input-143-81ea8dcfeae2>\"\u001b[1;36m, line \u001b[1;32m1\u001b[0m\n\u001b[1;33m    ls = [80,90,70] = \"korean\",\"english\",\"math\"\u001b[0m\n\u001b[1;37m         ^\u001b[0m\n\u001b[1;31mSyntaxError\u001b[0m\u001b[1;31m:\u001b[0m cannot assign to literal\n"
     ]
    }
   ],
   "source": [
    "ls = [80,90,70] = \"korean\",\"english\",\"math\"\n",
    "tp = (\"korean\",\"english\",\"math\") = 80,90,70\n",
    "dic = {\n",
    "    \"korean\":80,\n",
    "    \"english\":90,\n",
    "    \"math\":70\n",
    "}\n"
   ]
  },
  {
   "cell_type": "code",
   "execution_count": 91,
   "metadata": {},
   "outputs": [],
   "source": [
    "# list1\n",
    "subjects = [\"국어\",\"영어\",\"수학\"]\n",
    "points= [80,90,70]\n",
    "\n",
    "# list2\n",
    "data = [(\"국어\",80),(\"영어\",90),(\"수학\",70)]\n",
    "\n",
    "# tuple\n",
    "data = ((\"국어\",80),(\"영어\",90),(\"수학\",70))\n",
    "\n",
    "#dict\n",
    "dic = {\n",
    "    \"korean\":80,\n",
    "    \"english\":90,\n",
    "    \"math\":70,\n",
    "}"
   ]
  },
  {
   "cell_type": "markdown",
   "metadata": {},
   "source": [
    "### quiz 3\n",
    "- \"Beautiful is better than ugly.\" 단어의 길이가 긴 순서대로 재정려래서 문장을 다시 만드는 코드를 작성해주세요.\n",
    "- 결과\n",
    "```\n",
    "Beautiful better ugly than is\n",
    "```\n",
    "- '<list변수>.sort(key=len)'\n",
    "\n",
    "result => Beautiful better ugly than is."
   ]
  },
  {
   "cell_type": "code",
   "execution_count": 27,
   "metadata": {},
   "outputs": [
    {
     "name": "stdout",
     "output_type": "stream",
     "text": [
      "Beautiful better ugly than is.\n"
     ]
    }
   ],
   "source": [
    "a = \"Beautiful is better than ugly.\"\n",
    "a = a.lower()\n",
    "a = a[:-1].split(\" \")\n",
    "a.sort(key=len)\n",
    "a.reverse()\n",
    "result = \" \".join(a)\n",
    "print(result[0].upper() + result[1:] + \".\" )"
   ]
  },
  {
   "cell_type": "code",
   "execution_count": 35,
   "metadata": {},
   "outputs": [
    {
     "name": "stdout",
     "output_type": "stream",
     "text": [
      "Beautiful better ugly than is.\n"
     ]
    }
   ],
   "source": [
    "a = \"Beautiful is better than ugly.\"\n",
    "a = a.lower()\n",
    "a = a[:-1].split(\" \")\n",
    "a.sort(key=len)\n",
    "a.reverse()\n",
    "result = \" \".join(a)\n",
    "print(result[0].upper() + result[1:] + \".\")"
   ]
  },
  {
   "cell_type": "code",
   "execution_count": 54,
   "metadata": {},
   "outputs": [
    {
     "name": "stdout",
     "output_type": "stream",
     "text": [
      "['beautiful', 'better', 'ugly', 'than', 'is']\n",
      "Beautiful better ugly than is.\n"
     ]
    }
   ],
   "source": [
    "a = \"Beautiful is better than ugly.\"\n",
    "a= a.lower()\n",
    "a= a[:-1].split(\" \")\n",
    "a.sort(key=len)\n",
    "a.reverse()\n",
    "result = \" \".join(a)\n",
    "print(a)\n",
    "print(result[0].upper() + result[1:] + \".\")"
   ]
  },
  {
   "cell_type": "code",
   "execution_count": 60,
   "metadata": {},
   "outputs": [
    {
     "name": "stdout",
     "output_type": "stream",
     "text": [
      "['beautiful', 'better', 'ugly', 'than', 'is']\n",
      "Beautiful better ugly than is.\n"
     ]
    }
   ],
   "source": [
    "a = \"Beautiful is better than ugly.\"\n",
    "a= a.lower()\n",
    "a= a[:-1].split(\" \")\n",
    "a.sort(key=len)\n",
    "a.reverse()\n",
    "result = \" \".join(a)\n",
    "print(a)\n",
    "print(result[0].upper() + result[1:] + \".\" )"
   ]
  },
  {
   "cell_type": "code",
   "execution_count": 65,
   "metadata": {},
   "outputs": [
    {
     "name": "stdout",
     "output_type": "stream",
     "text": [
      "['beautiful', 'better', 'ugly', 'than', 'is']\n",
      "Beautiful better ugly than is.\n"
     ]
    }
   ],
   "source": [
    "a = \"Beautiful is better than ugly.\"\n",
    "a= a.lower()\n",
    "a = a[:-1].split(\" \")\n",
    "a.sort(key =len)\n",
    "a.reverse()\n",
    "result = \" \".join(a)\n",
    "print(a)\n",
    "print(result[0].upper ()+ result[1:]+\".\")"
   ]
  },
  {
   "cell_type": "markdown",
   "metadata": {},
   "source": [
    "### Quiz 1\n",
    "- 리스트 데이터를 문자열로 합쳐서 문장으로 만들어 주세요.\n",
    "- 가장 앞글자는 대문자, 마지막에는 마침표를 찍어주세요.\n",
    "```\n",
    "ls = [\"python\", \"is\", \"best\", \"programming\", \"language\"]\n",
    "```"
   ]
  },
  {
   "cell_type": "code",
   "execution_count": 80,
   "metadata": {},
   "outputs": [
    {
     "name": "stdout",
     "output_type": "stream",
     "text": [
      "Python is best programming language.\n"
     ]
    }
   ],
   "source": [
    "ls = [\"python\", \"is\", \"best\", \"programming\", \"language\"]\n",
    "a = \" \".join(ls)\n",
    "print(a[0].upper() + a[1:]+ \".\")"
   ]
  },
  {
   "cell_type": "markdown",
   "metadata": {},
   "source": [
    "### Quiz 2\n",
    "- 홀수 데이터를 거꾸로 출력하세요.\n",
    "- 오프셋을 사용하세요\n",
    "```\n",
    "Is = [0,1,2,3,4,5,6,7,8,9]\n",
    "```"
   ]
  },
  {
   "cell_type": "code",
   "execution_count": 90,
   "metadata": {},
   "outputs": [
    {
     "data": {
      "text/plain": [
       "[9, 7, 5, 3, 1]"
      ]
     },
     "execution_count": 90,
     "metadata": {},
     "output_type": "execute_result"
    }
   ],
   "source": [
    "a = [0,1,2,3,4,5,6,7,8,9]\n",
    "a[1::2][::-1]\n"
   ]
  },
  {
   "cell_type": "code",
   "execution_count": null,
   "metadata": {},
   "outputs": [],
   "source": []
  }
 ],
 "metadata": {
  "kernelspec": {
   "display_name": "Python 3",
   "language": "python",
   "name": "python3"
  },
  "language_info": {
   "codemirror_mode": {
    "name": "ipython",
    "version": 3
   },
   "file_extension": ".py",
   "mimetype": "text/x-python",
   "name": "python",
   "nbconvert_exporter": "python",
   "pygments_lexer": "ipython3",
   "version": "3.8.3"
  }
 },
 "nbformat": 4,
 "nbformat_minor": 4
}
