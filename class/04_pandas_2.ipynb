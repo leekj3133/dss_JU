{
 "cells": [
  {
   "cell_type": "markdown",
   "metadata": {},
   "source": [
    "### summary\n",
    "- pandas\n",
    "    - 데이터 분석: 데이터 전처리 파트\n",
    "    - 테이블 형태의 데이터를 처리할때 사용하는 python 라이브러리\n",
    "    - Series, DataFrame\n",
    "    - Series\n",
    "        - 생성, 선택, 수정 방법\n",
    "    - DataFrame\n",
    "        - 생성 방법 1 : 딕셔너리의 리스트 : 리스트 -> 컬럼\n",
    "        - 생성 방법 2 : 리스트의 딕셔너리 : 딕셔너리 -> 로우데이터\n",
    "        - row 선택 : `df.loc[idx]`\n",
    "        - column 선택 : `df[column name]`\n",
    "        - row, column 선택 : `df.loc[idx. column]`\n",
    "        - 함수\n",
    "            - apply, append, concat\n",
    "            - groupby, merge"
   ]
  },
  {
   "cell_type": "code",
   "execution_count": null,
   "metadata": {},
   "outputs": [],
   "source": [
    "import makedata"
   ]
  },
  {
   "cell_type": "code",
   "execution_count": null,
   "metadata": {},
   "outputs": [],
   "source": [
    "makedata.get_age(), makedata.get_name()"
   ]
  },
  {
   "cell_type": "code",
   "execution_count": null,
   "metadata": {},
   "outputs": [],
   "source": [
    "makedata.make_data()"
   ]
  },
  {
   "cell_type": "markdown",
   "metadata": {},
   "source": [
    "### Quiz \n",
    "- makedata 모듈을 이용해서 DataFrame을 만들기\n",
    "- user_df \n",
    "    - 8명의 데이터가 있는 데이터 프레임을 만드세요,\n",
    "    - user ID : 1~8\n",
    "    - Name : makedata.get_name()\n",
    "    - Age : makedata.get_age\n",
    "    - 중복되는 값이 없도록"
   ]
  },
  {
   "cell_type": "code",
   "execution_count": null,
   "metadata": {},
   "outputs": [],
   "source": [
    "from makedata import *"
   ]
  },
  {
   "cell_type": "code",
   "execution_count": null,
   "metadata": {},
   "outputs": [],
   "source": [
    "# 딕셔너리의 리스트: UserID, Name, Age\n",
    "datas = {}\n",
    "datas[\"UserID\"] = list(range(1,9))\n",
    "datas[\"Age\"] = [makedata.get_age() for _ in range(8)]\n",
    "names = []\n",
    "while True:\n",
    "    \n",
    "    name = makedata.get_name()\n",
    "    if name not in names:\n",
    "        names.append(name)\n",
    "    \n",
    "    if len(names) >= 8:\n",
    "        break\n",
    "    \n",
    "datas[\"Name\"] = names\n",
    "        \n",
    "user_df = pd.DataFrame(datas)\n",
    "user_df\n",
    "# for _ 사용하는 이유 넘어오는 데이터를 for문에서 사용하지 않지만 뭔가 변수로 받는게 있을때 사용함\n"
   ]
  },
  {
   "cell_type": "code",
   "execution_count": null,
   "metadata": {},
   "outputs": [],
   "source": [
    "def test():\n",
    "    return 1,2\n",
    "a,_ = test()\n",
    "a\n",
    "# _ 사용하지 않는 변수"
   ]
  },
  {
   "cell_type": "code",
   "execution_count": null,
   "metadata": {},
   "outputs": [],
   "source": [
    "# 리스트의 딕셔너리 : UserID, Name, Age\n",
    "# 딕셔너리 데이터를 데이터 프레임에 하나씩 추가하기 : UserID, Name, Age\n",
    "user_df = pd.DataFrame(columns = [\"UserID\",\"Name\",\"Age\"])\n",
    "\n",
    "\n",
    "for idx in range(1,9):\n",
    "    \n",
    "    name = makedata.get_name()\n",
    "    while name in list(user_df[\"Name\"]):\n",
    "        name = makedata.get_name()\n",
    "        # 중복되는 것이 없게 중복되면 다시 새로 되게 만듬\n",
    "    data = {\"Name\":name, \"UserID\":idx, \"Age\":makedata.get_age()}\n",
    "    \n",
    "    user_df.loc[len(user_df)] =data\n",
    "\n",
    "user_df"
   ]
  },
  {
   "cell_type": "markdown",
   "metadata": {},
   "source": [
    "#### Quiz \n",
    "- money_df 만들기\n",
    "- 15개의 데이터가 있습니다.\n",
    "- ID : 1 ~ 8 랜덤한 숫자 데이터\n",
    "- Money : 1000원 단위로 1000원 ~ 200000원까지의 숫자가 저장\n"
   ]
  },
  {
   "cell_type": "code",
   "execution_count": null,
   "metadata": {},
   "outputs": [],
   "source": [
    "datas = {}\n",
    "datas[\"UserID\"] = list(range(1,9))\n",
    "datas[\"Age\"] = [makedata.get_age() for _ in range(8)]\n",
    "names = []\n",
    "while True:\n",
    "    \n",
    "    name = makedata.get_name()\n",
    "    if name not in names:\n",
    "        names.append(name)\n",
    "    \n",
    "    if len(names) >= 8:\n",
    "        break\n",
    "    \n",
    "datas[\"Name\"] = names\n",
    "        \n",
    "user_df = pd.DataFrame(datas)\n",
    "user_df"
   ]
  },
  {
   "cell_type": "code",
   "execution_count": null,
   "metadata": {},
   "outputs": [],
   "source": [
    "money_df = pd.DataFrame(columns = [\"ID\",\"Money\"])\n",
    "for _ in range(15):\n",
    "    money_df.loc[len(money_df)] = {\n",
    "        \"ID\" :np.random.randint(1,9),\n",
    "        \"Money\" :np.random.randint(1,21)*1000,\n",
    "    }\n",
    "    \n",
    "\n",
    "\n",
    "\n",
    "ids = money_df[\"ID\"].unique()\n",
    "ids.sort()\n",
    "ids"
   ]
  },
  {
   "cell_type": "code",
   "execution_count": null,
   "metadata": {},
   "outputs": [],
   "source": [
    "money_df"
   ]
  },
  {
   "cell_type": "code",
   "execution_count": null,
   "metadata": {},
   "outputs": [],
   "source": [
    "user_df"
   ]
  },
  {
   "cell_type": "markdown",
   "metadata": {},
   "source": [
    "### 1. merge"
   ]
  },
  {
   "cell_type": "code",
   "execution_count": null,
   "metadata": {},
   "outputs": [],
   "source": [
    "user_df.merge(money_df, left_on=\"UserID\", right_on=\"ID\")"
   ]
  },
  {
   "cell_type": "code",
   "execution_count": null,
   "metadata": {},
   "outputs": [],
   "source": [
    "# 컬럼명 변경\n",
    "user_df.rename(columns={\"UserID\":\"ID\"}, inplace = True)\n",
    "user_df.tail(1)"
   ]
  },
  {
   "cell_type": "code",
   "execution_count": null,
   "metadata": {},
   "outputs": [],
   "source": [
    "user_df.merge(money_df).tail(2)"
   ]
  },
  {
   "cell_type": "code",
   "execution_count": null,
   "metadata": {},
   "outputs": [],
   "source": [
    "result_df = pd.merge(money_df, user_df)\n",
    "result_df.tail()"
   ]
  },
  {
   "cell_type": "code",
   "execution_count": null,
   "metadata": {},
   "outputs": [],
   "source": [
    "# groupby sum, size, min ... 함수:Series\n",
    "money_list = result_df.groupby(\"Name\").sum()[\"Money\"].reset_index()\n",
    "money_list"
   ]
  },
  {
   "cell_type": "code",
   "execution_count": null,
   "metadata": {},
   "outputs": [],
   "source": [
    "# groupby :agg(\"sum\"),agg(\"mean\") ... : DataFrame\n",
    "money_list = result_df.groupby(\"Name\").agg(\"sum\").reset_index()[[\"Name\", \"Money\"]]\n",
    "money_list"
   ]
  },
  {
   "cell_type": "code",
   "execution_count": null,
   "metadata": {},
   "outputs": [],
   "source": [
    "# merge : money_list, user_df:outer"
   ]
  },
  {
   "cell_type": "code",
   "execution_count": null,
   "metadata": {},
   "outputs": [],
   "source": [
    "result = pd.merge(user_df,money_list, how=\"outer\")\n",
    "result"
   ]
  },
  {
   "cell_type": "code",
   "execution_count": null,
   "metadata": {},
   "outputs": [],
   "source": [
    "# fillna : NaN 을 특정 데이터로 채워줌"
   ]
  },
  {
   "cell_type": "code",
   "execution_count": null,
   "metadata": {},
   "outputs": [],
   "source": [
    "result.fillna(value = 0 , inplace=True)\n",
    "result"
   ]
  },
  {
   "cell_type": "code",
   "execution_count": 210,
   "metadata": {},
   "outputs": [
    {
     "data": {
      "text/plain": [
       "ID       float64\n",
       "Age      float64\n",
       "Name      object\n",
       "Money    float64\n",
       "dtype: object"
      ]
     },
     "execution_count": 210,
     "metadata": {},
     "output_type": "execute_result"
    }
   ],
   "source": [
    "# money 컬럼을 정수로 데이터 타입을 변경\n",
    "result.dtypes"
   ]
  },
  {
   "cell_type": "code",
   "execution_count": null,
   "metadata": {},
   "outputs": [],
   "source": [
    "result[\"Money\"] = result[\"Money\"].astype(\"int\")\n",
    "result"
   ]
  },
  {
   "cell_type": "code",
   "execution_count": null,
   "metadata": {},
   "outputs": [],
   "source": [
    "result.sort_values(\"Money\",ascending=False)"
   ]
  },
  {
   "cell_type": "code",
   "execution_count": null,
   "metadata": {},
   "outputs": [],
   "source": [
    "result.sort_values(\"Money\",ascending=False)[:3]"
   ]
  },
  {
   "cell_type": "code",
   "execution_count": null,
   "metadata": {},
   "outputs": [],
   "source": [
    "np.average(result.sort_values(\"Money\",ascending=False)[:3][\"Money\"])"
   ]
  },
  {
   "cell_type": "code",
   "execution_count": null,
   "metadata": {},
   "outputs": [],
   "source": [
    "np.average(result.sort_values(\"Money\",ascending=False)[:3][\"Age\"])"
   ]
  },
  {
   "cell_type": "code",
   "execution_count": null,
   "metadata": {},
   "outputs": [],
   "source": []
  },
  {
   "cell_type": "code",
   "execution_count": null,
   "metadata": {},
   "outputs": [],
   "source": []
  },
  {
   "cell_type": "code",
   "execution_count": null,
   "metadata": {},
   "outputs": [],
   "source": []
  },
  {
   "cell_type": "code",
   "execution_count": null,
   "metadata": {},
   "outputs": [],
   "source": []
  },
  {
   "cell_type": "code",
   "execution_count": null,
   "metadata": {},
   "outputs": [],
   "source": []
  }
 ],
 "metadata": {
  "hide_input": false,
  "kernelspec": {
   "display_name": "Python 3",
   "language": "python",
   "name": "python3"
  },
  "language_info": {
   "codemirror_mode": {
    "name": "ipython",
    "version": 3
   },
   "file_extension": ".py",
   "mimetype": "text/x-python",
   "name": "python",
   "nbconvert_exporter": "python",
   "pygments_lexer": "ipython3",
   "version": "3.8.5"
  }
 },
 "nbformat": 4,
 "nbformat_minor": 4
}
