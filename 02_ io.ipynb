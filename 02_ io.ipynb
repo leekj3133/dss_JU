{
 "cells": [
  {
   "cell_type": "markdown",
   "metadata": {},
   "source": [
    "### Input Output\n",
    "- RAM에 저장되어있는 변수를 HDD, SDD로 저장하는 방법\n",
    "- 학습된 모델을 저장하고 로드해서 사용할때 많이 사용`"
   ]
  },
  {
   "cell_type": "markdown",
   "metadata": {},
   "source": [
    "#### 1. IO\n",
    "- 파일을 읽거나 쓰는 방법"
   ]
  },
  {
   "cell_type": "code",
   "execution_count": null,
   "metadata": {},
   "outputs": [],
   "source": [
    "# 1. 파일쓰기 : txt, binary"
   ]
  },
  {
   "cell_type": "code",
   "execution_count": 222,
   "metadata": {},
   "outputs": [],
   "source": [
    "data = \"\"\"jupyter \n",
    "notebook\n",
    "python\"\"\""
   ]
  },
  {
   "cell_type": "code",
   "execution_count": 223,
   "metadata": {},
   "outputs": [
    {
     "name": "stderr",
     "output_type": "stream",
     "text": [
      "하위 디렉터리 또는 파일 file이(가) 이미 있습니다.\n"
     ]
    }
   ],
   "source": [
    "!mkdir file"
   ]
  },
  {
   "cell_type": "code",
   "execution_count": 82,
   "metadata": {},
   "outputs": [
    {
     "name": "stdout",
     "output_type": "stream",
     "text": [
      " C 드라이브의 볼륨에는 이름이 없습니다.\n",
      " 볼륨 일련 번호: 0A77-9793\n",
      "\n",
      " C:\\Code\\본강의\\02_numpy_python 디렉터리\n",
      "\n",
      "2020-12-23  오후 03:52    <DIR>          .\n",
      "2020-12-23  오후 03:52    <DIR>          ..\n",
      "2020-12-23  오후 03:22    <DIR>          .ipynb_checkpoints\n",
      "2020-12-22  오후 04:25    <DIR>          __pycache__\n",
      "2020-12-22  오후 02:55             1,280 _ipython_config.ipynb\n",
      "2020-12-21  오후 03:55            13,961 01_numpy.ipynb\n",
      "2020-12-23  오후 03:22            12,741 01_python_summary.ipynb\n",
      "2020-12-23  오후 03:52            21,267 02_ io.ipynb\n",
      "2020-12-22  오후 02:47            23,897 02_numpy_2.ipynb\n",
      "2020-12-22  오후 05:17            90,905 03_pandas_1.ipynb\n",
      "2020-12-23  오후 01:57            68,400 04_pandas_2.ipynb\n",
      "2020-12-23  오후 02:05               552 05_pandas_03.ipynb\n",
      "2020-12-21  오후 03:59    <DIR>          datas\n",
      "2020-12-23  오후 03:48    <DIR>          dir\n",
      "2020-12-21  오후 09:48            14,792 exam_01_correlation_coefficient_pearson.ipynb\n",
      "2019-10-11  오전 02:57            18,266 exam_01_correlation_coefficient_pearson_full.ipynb\n",
      "2019-10-18  오전 01:03             8,138 exam_02_liner_regression.ipynb\n",
      "2020-12-23  오후 03:49    <DIR>          file\n",
      "2020-12-21  오후 03:54               616 makedata.py\n",
      "2020-12-21  오후 04:00    <DIR>          quiz\n",
      "              12개 파일             274,815 바이트\n",
      "               8개 디렉터리  167,777,583,104 바이트 남음\n"
     ]
    }
   ],
   "source": [
    "%ls"
   ]
  },
  {
   "cell_type": "code",
   "execution_count": 84,
   "metadata": {},
   "outputs": [],
   "source": [
    "file = open(\"file/test.txt\",\"wt\")\n",
    "file.write(data)  # write :매서드\n",
    "file.close()"
   ]
  },
  {
   "cell_type": "code",
   "execution_count": 85,
   "metadata": {},
   "outputs": [
    {
     "name": "stdout",
     "output_type": "stream",
     "text": [
      " C 드라이브의 볼륨에는 이름이 없습니다.\n",
      " 볼륨 일련 번호: 0A77-9793\n",
      "\n",
      " C:\\Code\\본강의\\02_numpy_python\\file 디렉터리\n",
      "\n",
      "2020-12-23  오후 03:49    <DIR>          .\n",
      "2020-12-23  오후 03:49    <DIR>          ..\n",
      "2020-12-23  오후 03:54                26 test.txt\n",
      "2020-12-23  오후 03:44                43 test2.pkl\n",
      "               2개 파일                  69 바이트\n",
      "               2개 디렉터리  167,777,452,032 바이트 남음\n"
     ]
    }
   ],
   "source": [
    "%ls file"
   ]
  },
  {
   "cell_type": "code",
   "execution_count": 86,
   "metadata": {},
   "outputs": [
    {
     "name": "stdout",
     "output_type": "stream",
     "text": [
      "jupyter \n",
      "notebook\n",
      "python\n"
     ]
    }
   ],
   "source": [
    "!cat file/test.txt "
   ]
  },
  {
   "cell_type": "code",
   "execution_count": null,
   "metadata": {},
   "outputs": [],
   "source": [
    " #파일안에 있는 내용 출력\n",
    "# %는 맥에서만 사용 가능하고 윈도우에서는 안됨\n",
    "# 주석과 같이 쓸경우 실행되지 않음"
   ]
  },
  {
   "cell_type": "code",
   "execution_count": 26,
   "metadata": {},
   "outputs": [],
   "source": [
    "# 바이너리 파일 쓰기\n",
    "# 바이트 포멧의 데이터만 저장이 가능\n",
    "# RAM(파일형태) != SSD(파일형태)\n",
    "# 직렬화 : RAM의 파일 모멧을 SSD(HDD) 파일 포멧으로 변환해서 저장"
   ]
  },
  {
   "cell_type": "code",
   "execution_count": 87,
   "metadata": {},
   "outputs": [],
   "source": [
    "data = bytes(range(5,10))\n",
    "file = open(\"file/test.b\",\"wb\")\n",
    "file.write(data)\n",
    "file.close()"
   ]
  },
  {
   "cell_type": "code",
   "execution_count": 88,
   "metadata": {},
   "outputs": [
    {
     "data": {
      "text/plain": [
       "b'\\x05\\x06\\x07\\x08\\t'"
      ]
     },
     "execution_count": 88,
     "metadata": {},
     "output_type": "execute_result"
    }
   ],
   "source": [
    "data"
   ]
  },
  {
   "cell_type": "code",
   "execution_count": 89,
   "metadata": {},
   "outputs": [],
   "source": [
    "# 2. 파일읽기 : txt, binary"
   ]
  },
  {
   "cell_type": "code",
   "execution_count": 90,
   "metadata": {},
   "outputs": [],
   "source": [
    "file = open(\"file/test.txt\",\"rt\") # read text\n",
    "data = file.read()\n",
    "file.close()"
   ]
  },
  {
   "cell_type": "code",
   "execution_count": 91,
   "metadata": {},
   "outputs": [
    {
     "name": "stdout",
     "output_type": "stream",
     "text": [
      "jupyter \n",
      "notebook\n",
      "python\n"
     ]
    }
   ],
   "source": [
    "print(data)"
   ]
  },
  {
   "cell_type": "code",
   "execution_count": 92,
   "metadata": {},
   "outputs": [],
   "source": [
    "with open(\"file/test.txt\",\"rt\") as f:  # open close를 계속 진행해야하므로\n",
    "                                        #with로 대신 사용하는 경우가 많음\n",
    "    data = f.read()"
   ]
  },
  {
   "cell_type": "code",
   "execution_count": 93,
   "metadata": {},
   "outputs": [
    {
     "name": "stdout",
     "output_type": "stream",
     "text": [
      "jupyter \n",
      "notebook\n",
      "python\n"
     ]
    }
   ],
   "source": [
    "print(data)"
   ]
  },
  {
   "cell_type": "code",
   "execution_count": null,
   "metadata": {},
   "outputs": [],
   "source": [
    "# 바이너리 파일 읽어오기"
   ]
  },
  {
   "cell_type": "code",
   "execution_count": 108,
   "metadata": {},
   "outputs": [],
   "source": [
    "with open(\"file/test.txt\",\"rb\") as f:\n",
    "    data = f.read()"
   ]
  },
  {
   "cell_type": "code",
   "execution_count": null,
   "metadata": {},
   "outputs": [],
   "source": []
  },
  {
   "cell_type": "code",
   "execution_count": null,
   "metadata": {},
   "outputs": [],
   "source": [
    "# 3. pickle\n",
    "# open 함수로 만든 file 객체로 입출력하는 것보다 속도가 빠릅니다.\n",
    "# 직렬화를 자동으로 해줍니다."
   ]
  },
  {
   "cell_type": "code",
   "execution_count": 95,
   "metadata": {},
   "outputs": [],
   "source": [
    "data = bytes(range(5,10))\n",
    "file = open(\"file/test.b\",\"wb\")\n",
    "file.write(data)\n",
    "file.close()"
   ]
  },
  {
   "cell_type": "code",
   "execution_count": 96,
   "metadata": {},
   "outputs": [],
   "source": [
    "import pickle"
   ]
  },
  {
   "cell_type": "code",
   "execution_count": 97,
   "metadata": {},
   "outputs": [],
   "source": [
    "data = range(5,10)\n",
    "\n",
    "with open(\"file/test2.pkl\", \"wb\") as file:\n",
    "    pickle.dump(data,file)"
   ]
  },
  {
   "cell_type": "code",
   "execution_count": 98,
   "metadata": {},
   "outputs": [],
   "source": [
    "with open(\"file/test2.pkl\", \"rb\") as file:\n",
    "    load_data = pickle.load(file)"
   ]
  },
  {
   "cell_type": "code",
   "execution_count": 99,
   "metadata": {},
   "outputs": [
    {
     "data": {
      "text/plain": [
       "[5, 6, 7, 8, 9]"
      ]
     },
     "execution_count": 99,
     "metadata": {},
     "output_type": "execute_result"
    }
   ],
   "source": [
    "list(load_data)"
   ]
  },
  {
   "cell_type": "markdown",
   "metadata": {},
   "source": [
    "#### 2. OS\n",
    "- 파이썬 코드로 파일시스템(디렉토리와 파일들)을 다루는 방법"
   ]
  },
  {
   "cell_type": "code",
   "execution_count": 100,
   "metadata": {},
   "outputs": [],
   "source": [
    "import os"
   ]
  },
  {
   "cell_type": "code",
   "execution_count": 47,
   "metadata": {},
   "outputs": [],
   "source": [
    "# 디렉토리 만들기"
   ]
  },
  {
   "cell_type": "code",
   "execution_count": 101,
   "metadata": {},
   "outputs": [
    {
     "name": "stdout",
     "output_type": "stream",
     "text": [
      " C 드라이브의 볼륨에는 이름이 없습니다.\n",
      " 볼륨 일련 번호: 0A77-9793\n",
      "\n",
      " C:\\Code\\본강의\\02_numpy_python 디렉터리\n",
      "\n",
      "2020-12-23  오후 03:54    <DIR>          .\n",
      "2020-12-23  오후 03:54    <DIR>          ..\n",
      "2020-12-23  오후 03:22    <DIR>          .ipynb_checkpoints\n",
      "2020-12-22  오후 04:25    <DIR>          __pycache__\n",
      "2020-12-22  오후 02:55             1,280 _ipython_config.ipynb\n",
      "2020-12-21  오후 03:55            13,961 01_numpy.ipynb\n",
      "2020-12-23  오후 03:22            12,741 01_python_summary.ipynb\n",
      "2020-12-23  오후 03:54            21,528 02_ io.ipynb\n",
      "2020-12-22  오후 02:47            23,897 02_numpy_2.ipynb\n",
      "2020-12-22  오후 05:17            90,905 03_pandas_1.ipynb\n",
      "2020-12-23  오후 01:57            68,400 04_pandas_2.ipynb\n",
      "2020-12-23  오후 02:05               552 05_pandas_03.ipynb\n",
      "2020-12-21  오후 03:59    <DIR>          datas\n",
      "2020-12-23  오후 03:48    <DIR>          dir\n",
      "2020-12-21  오후 09:48            14,792 exam_01_correlation_coefficient_pearson.ipynb\n",
      "2019-10-11  오전 02:57            18,266 exam_01_correlation_coefficient_pearson_full.ipynb\n",
      "2019-10-18  오전 01:03             8,138 exam_02_liner_regression.ipynb\n",
      "2020-12-23  오후 03:54    <DIR>          file\n",
      "2020-12-21  오후 03:54               616 makedata.py\n",
      "2020-12-21  오후 04:00    <DIR>          quiz\n",
      "              12개 파일             275,076 바이트\n",
      "               8개 디렉터리  167,777,239,040 바이트 남음\n"
     ]
    }
   ],
   "source": [
    "%ls"
   ]
  },
  {
   "cell_type": "code",
   "execution_count": 102,
   "metadata": {},
   "outputs": [
    {
     "ename": "FileExistsError",
     "evalue": "[WinError 183] 파일이 이미 있으므로 만들 수 없습니다: 'dir'",
     "output_type": "error",
     "traceback": [
      "\u001b[1;31m---------------------------------------------------------------------------\u001b[0m",
      "\u001b[1;31mFileExistsError\u001b[0m                           Traceback (most recent call last)",
      "\u001b[1;32m<ipython-input-102-0eeed9aa0a22>\u001b[0m in \u001b[0;36m<module>\u001b[1;34m\u001b[0m\n\u001b[1;32m----> 1\u001b[1;33m \u001b[0mos\u001b[0m\u001b[1;33m.\u001b[0m\u001b[0mmakedirs\u001b[0m\u001b[1;33m(\u001b[0m\u001b[1;34m\"dir\"\u001b[0m\u001b[1;33m)\u001b[0m\u001b[1;33m\u001b[0m\u001b[1;33m\u001b[0m\u001b[0m\n\u001b[0m",
      "\u001b[1;32mC:\\Anaconda3\\lib\\os.py\u001b[0m in \u001b[0;36mmakedirs\u001b[1;34m(name, mode, exist_ok)\u001b[0m\n\u001b[0;32m    221\u001b[0m             \u001b[1;32mreturn\u001b[0m\u001b[1;33m\u001b[0m\u001b[1;33m\u001b[0m\u001b[0m\n\u001b[0;32m    222\u001b[0m     \u001b[1;32mtry\u001b[0m\u001b[1;33m:\u001b[0m\u001b[1;33m\u001b[0m\u001b[1;33m\u001b[0m\u001b[0m\n\u001b[1;32m--> 223\u001b[1;33m         \u001b[0mmkdir\u001b[0m\u001b[1;33m(\u001b[0m\u001b[0mname\u001b[0m\u001b[1;33m,\u001b[0m \u001b[0mmode\u001b[0m\u001b[1;33m)\u001b[0m\u001b[1;33m\u001b[0m\u001b[1;33m\u001b[0m\u001b[0m\n\u001b[0m\u001b[0;32m    224\u001b[0m     \u001b[1;32mexcept\u001b[0m \u001b[0mOSError\u001b[0m\u001b[1;33m:\u001b[0m\u001b[1;33m\u001b[0m\u001b[1;33m\u001b[0m\u001b[0m\n\u001b[0;32m    225\u001b[0m         \u001b[1;31m# Cannot rely on checking for EEXIST, since the operating system\u001b[0m\u001b[1;33m\u001b[0m\u001b[1;33m\u001b[0m\u001b[1;33m\u001b[0m\u001b[0m\n",
      "\u001b[1;31mFileExistsError\u001b[0m: [WinError 183] 파일이 이미 있으므로 만들 수 없습니다: 'dir'"
     ]
    }
   ],
   "source": [
    "os.makedirs(\"dir\")"
   ]
  },
  {
   "cell_type": "code",
   "execution_count": 103,
   "metadata": {},
   "outputs": [
    {
     "name": "stdout",
     "output_type": "stream",
     "text": [
      " C 드라이브의 볼륨에는 이름이 없습니다.\n",
      " 볼륨 일련 번호: 0A77-9793\n",
      "\n",
      " C:\\Code\\본강의\\02_numpy_python 디렉터리\n",
      "\n",
      "2020-12-23  오후 03:54    <DIR>          .\n",
      "2020-12-23  오후 03:54    <DIR>          ..\n",
      "2020-12-23  오후 03:22    <DIR>          .ipynb_checkpoints\n",
      "2020-12-22  오후 04:25    <DIR>          __pycache__\n",
      "2020-12-22  오후 02:55             1,280 _ipython_config.ipynb\n",
      "2020-12-21  오후 03:55            13,961 01_numpy.ipynb\n",
      "2020-12-23  오후 03:22            12,741 01_python_summary.ipynb\n",
      "2020-12-23  오후 03:54            21,528 02_ io.ipynb\n",
      "2020-12-22  오후 02:47            23,897 02_numpy_2.ipynb\n",
      "2020-12-22  오후 05:17            90,905 03_pandas_1.ipynb\n",
      "2020-12-23  오후 01:57            68,400 04_pandas_2.ipynb\n",
      "2020-12-23  오후 02:05               552 05_pandas_03.ipynb\n",
      "2020-12-21  오후 03:59    <DIR>          datas\n",
      "2020-12-23  오후 03:48    <DIR>          dir\n",
      "2020-12-21  오후 09:48            14,792 exam_01_correlation_coefficient_pearson.ipynb\n",
      "2019-10-11  오전 02:57            18,266 exam_01_correlation_coefficient_pearson_full.ipynb\n",
      "2019-10-18  오전 01:03             8,138 exam_02_liner_regression.ipynb\n",
      "2020-12-23  오후 03:54    <DIR>          file\n",
      "2020-12-21  오후 03:54               616 makedata.py\n",
      "2020-12-21  오후 04:00    <DIR>          quiz\n",
      "              12개 파일             275,076 바이트\n",
      "               8개 디렉터리  167,777,239,040 바이트 남음\n"
     ]
    }
   ],
   "source": [
    "%ls"
   ]
  },
  {
   "cell_type": "code",
   "execution_count": 78,
   "metadata": {},
   "outputs": [],
   "source": [
    "# 파일리스트 읽기"
   ]
  },
  {
   "cell_type": "code",
   "execution_count": 104,
   "metadata": {},
   "outputs": [
    {
     "data": {
      "text/plain": [
       "['test.b', 'test.txt', 'test2.pkl']"
      ]
     },
     "execution_count": 104,
     "metadata": {},
     "output_type": "execute_result"
    }
   ],
   "source": [
    "os.listdir(\"file\")"
   ]
  },
  {
   "cell_type": "code",
   "execution_count": 49,
   "metadata": {},
   "outputs": [],
   "source": [
    "# 파일 삭제"
   ]
  },
  {
   "cell_type": "code",
   "execution_count": 105,
   "metadata": {},
   "outputs": [],
   "source": [
    "os.remove(\"file/test.b\")"
   ]
  },
  {
   "cell_type": "code",
   "execution_count": 106,
   "metadata": {},
   "outputs": [
    {
     "data": {
      "text/plain": [
       "['test.txt', 'test2.pkl']"
      ]
     },
     "execution_count": 106,
     "metadata": {},
     "output_type": "execute_result"
    }
   ],
   "source": [
    "os.listdir(\"file\")"
   ]
  },
  {
   "cell_type": "code",
   "execution_count": 50,
   "metadata": {},
   "outputs": [],
   "source": [
    "# 디렉토리 삭제"
   ]
  },
  {
   "cell_type": "code",
   "execution_count": 110,
   "metadata": {},
   "outputs": [
    {
     "name": "stdout",
     "output_type": "stream",
     "text": [
      " C 드라이브의 볼륨에는 이름이 없습니다.\n",
      " 볼륨 일련 번호: 0A77-9793\n",
      "\n",
      " C:\\Code\\본강의\\02_numpy_python 디렉터리\n",
      "\n",
      "2020-12-23  오후 04:02    <DIR>          .\n",
      "2020-12-23  오후 04:02    <DIR>          ..\n",
      "2020-12-23  오후 03:22    <DIR>          .ipynb_checkpoints\n",
      "2020-12-22  오후 04:25    <DIR>          __pycache__\n",
      "2020-12-22  오후 02:55             1,280 _ipython_config.ipynb\n",
      "2020-12-21  오후 03:55            13,961 01_numpy.ipynb\n",
      "2020-12-23  오후 03:22            12,741 01_python_summary.ipynb\n",
      "2020-12-23  오후 04:02            21,550 02_ io.ipynb\n",
      "2020-12-22  오후 02:47            23,897 02_numpy_2.ipynb\n",
      "2020-12-22  오후 05:17            90,905 03_pandas_1.ipynb\n",
      "2020-12-23  오후 01:57            68,400 04_pandas_2.ipynb\n",
      "2020-12-23  오후 02:05               552 05_pandas_03.ipynb\n",
      "2020-12-21  오후 03:59    <DIR>          datas\n",
      "2020-12-23  오후 03:48    <DIR>          dir\n",
      "2020-12-21  오후 09:48            14,792 exam_01_correlation_coefficient_pearson.ipynb\n",
      "2019-10-11  오전 02:57            18,266 exam_01_correlation_coefficient_pearson_full.ipynb\n",
      "2019-10-18  오전 01:03             8,138 exam_02_liner_regression.ipynb\n",
      "2020-12-23  오후 03:54    <DIR>          file\n",
      "2020-12-21  오후 03:54               616 makedata.py\n",
      "2020-12-21  오후 04:00    <DIR>          quiz\n",
      "              12개 파일             275,098 바이트\n",
      "               8개 디렉터리  167,773,286,400 바이트 남음\n"
     ]
    }
   ],
   "source": [
    "%ls"
   ]
  },
  {
   "cell_type": "code",
   "execution_count": 111,
   "metadata": {},
   "outputs": [],
   "source": [
    "os.removedirs(\"dir\")"
   ]
  },
  {
   "cell_type": "code",
   "execution_count": 112,
   "metadata": {},
   "outputs": [
    {
     "name": "stdout",
     "output_type": "stream",
     "text": [
      " C 드라이브의 볼륨에는 이름이 없습니다.\n",
      " 볼륨 일련 번호: 0A77-9793\n",
      "\n",
      " C:\\Code\\본강의\\02_numpy_python 디렉터리\n",
      "\n",
      "2020-12-23  오후 04:03    <DIR>          .\n",
      "2020-12-23  오후 04:03    <DIR>          ..\n",
      "2020-12-23  오후 03:22    <DIR>          .ipynb_checkpoints\n",
      "2020-12-22  오후 04:25    <DIR>          __pycache__\n",
      "2020-12-22  오후 02:55             1,280 _ipython_config.ipynb\n",
      "2020-12-21  오후 03:55            13,961 01_numpy.ipynb\n",
      "2020-12-23  오후 03:22            12,741 01_python_summary.ipynb\n",
      "2020-12-23  오후 04:02            21,550 02_ io.ipynb\n",
      "2020-12-22  오후 02:47            23,897 02_numpy_2.ipynb\n",
      "2020-12-22  오후 05:17            90,905 03_pandas_1.ipynb\n",
      "2020-12-23  오후 01:57            68,400 04_pandas_2.ipynb\n",
      "2020-12-23  오후 02:05               552 05_pandas_03.ipynb\n",
      "2020-12-21  오후 03:59    <DIR>          datas\n",
      "2020-12-21  오후 09:48            14,792 exam_01_correlation_coefficient_pearson.ipynb\n",
      "2019-10-11  오전 02:57            18,266 exam_01_correlation_coefficient_pearson_full.ipynb\n",
      "2019-10-18  오전 01:03             8,138 exam_02_liner_regression.ipynb\n",
      "2020-12-23  오후 03:54    <DIR>          file\n",
      "2020-12-21  오후 03:54               616 makedata.py\n",
      "2020-12-21  오후 04:00    <DIR>          quiz\n",
      "              12개 파일             275,098 바이트\n",
      "               7개 디렉터리  167,773,220,864 바이트 남음\n"
     ]
    }
   ],
   "source": [
    "%ls"
   ]
  },
  {
   "cell_type": "code",
   "execution_count": 113,
   "metadata": {},
   "outputs": [
    {
     "ename": "OSError",
     "evalue": "[WinError 145] 디렉터리가 비어 있지 않습니다: 'file'",
     "output_type": "error",
     "traceback": [
      "\u001b[1;31m---------------------------------------------------------------------------\u001b[0m",
      "\u001b[1;31mOSError\u001b[0m                                   Traceback (most recent call last)",
      "\u001b[1;32m<ipython-input-113-69e112a10ace>\u001b[0m in \u001b[0;36m<module>\u001b[1;34m\u001b[0m\n\u001b[1;32m----> 1\u001b[1;33m \u001b[0mos\u001b[0m\u001b[1;33m.\u001b[0m\u001b[0mremovedirs\u001b[0m\u001b[1;33m(\u001b[0m\u001b[1;34m\"file\"\u001b[0m\u001b[1;33m)\u001b[0m\u001b[1;33m\u001b[0m\u001b[1;33m\u001b[0m\u001b[0m\n\u001b[0m",
      "\u001b[1;32mC:\\Anaconda3\\lib\\os.py\u001b[0m in \u001b[0;36mremovedirs\u001b[1;34m(name)\u001b[0m\n\u001b[0;32m    239\u001b[0m \u001b[1;33m\u001b[0m\u001b[0m\n\u001b[0;32m    240\u001b[0m     \"\"\"\n\u001b[1;32m--> 241\u001b[1;33m     \u001b[0mrmdir\u001b[0m\u001b[1;33m(\u001b[0m\u001b[0mname\u001b[0m\u001b[1;33m)\u001b[0m\u001b[1;33m\u001b[0m\u001b[1;33m\u001b[0m\u001b[0m\n\u001b[0m\u001b[0;32m    242\u001b[0m     \u001b[0mhead\u001b[0m\u001b[1;33m,\u001b[0m \u001b[0mtail\u001b[0m \u001b[1;33m=\u001b[0m \u001b[0mpath\u001b[0m\u001b[1;33m.\u001b[0m\u001b[0msplit\u001b[0m\u001b[1;33m(\u001b[0m\u001b[0mname\u001b[0m\u001b[1;33m)\u001b[0m\u001b[1;33m\u001b[0m\u001b[1;33m\u001b[0m\u001b[0m\n\u001b[0;32m    243\u001b[0m     \u001b[1;32mif\u001b[0m \u001b[1;32mnot\u001b[0m \u001b[0mtail\u001b[0m\u001b[1;33m:\u001b[0m\u001b[1;33m\u001b[0m\u001b[1;33m\u001b[0m\u001b[0m\n",
      "\u001b[1;31mOSError\u001b[0m: [WinError 145] 디렉터리가 비어 있지 않습니다: 'file'"
     ]
    }
   ],
   "source": [
    "os.removedirs(\"file\")"
   ]
  },
  {
   "cell_type": "code",
   "execution_count": 114,
   "metadata": {},
   "outputs": [],
   "source": [
    "# 디렉토리 안에 있는 파일을 모두 삭제\n",
    "# 디렉토리 삭제"
   ]
  },
  {
   "cell_type": "code",
   "execution_count": 122,
   "metadata": {},
   "outputs": [],
   "source": [
    "def force_remove(dpath):\n",
    "    # 해당 디렉토리에 있는 파일 리스트\n",
    "    files_list = os.listdir(dpath)\n",
    "    # 파일 리스트의 파일 삭제\n",
    "    for file_name in files_list:\n",
    "        os.remove(\"{}/{}\".format(dpath,file_name))\n",
    "    # 디렉토리 삭제\n",
    "    os.removedirs(dpath)"
   ]
  },
  {
   "cell_type": "code",
   "execution_count": 133,
   "metadata": {},
   "outputs": [
    {
     "ename": "PermissionError",
     "evalue": "[WinError 32] 다른 프로세스가 파일을 사용 중이기 때문에 프로세스가 액세스 할 수 없습니다: 'file/test.txt'",
     "output_type": "error",
     "traceback": [
      "\u001b[1;31m---------------------------------------------------------------------------\u001b[0m",
      "\u001b[1;31mPermissionError\u001b[0m                           Traceback (most recent call last)",
      "\u001b[1;32m<ipython-input-133-598782699a5c>\u001b[0m in \u001b[0;36m<module>\u001b[1;34m\u001b[0m\n\u001b[1;32m----> 1\u001b[1;33m \u001b[0mforce_remove\u001b[0m\u001b[1;33m(\u001b[0m\u001b[1;34m\"file\"\u001b[0m\u001b[1;33m)\u001b[0m\u001b[1;33m\u001b[0m\u001b[1;33m\u001b[0m\u001b[0m\n\u001b[0m",
      "\u001b[1;32m<ipython-input-122-f1ad5976c1c8>\u001b[0m in \u001b[0;36mforce_remove\u001b[1;34m(dpath)\u001b[0m\n\u001b[0;32m      4\u001b[0m     \u001b[1;31m# 파일 리스트의 파일 삭제\u001b[0m\u001b[1;33m\u001b[0m\u001b[1;33m\u001b[0m\u001b[1;33m\u001b[0m\u001b[0m\n\u001b[0;32m      5\u001b[0m     \u001b[1;32mfor\u001b[0m \u001b[0mfile_name\u001b[0m \u001b[1;32min\u001b[0m \u001b[0mfiles_list\u001b[0m\u001b[1;33m:\u001b[0m\u001b[1;33m\u001b[0m\u001b[1;33m\u001b[0m\u001b[0m\n\u001b[1;32m----> 6\u001b[1;33m         \u001b[0mos\u001b[0m\u001b[1;33m.\u001b[0m\u001b[0mremove\u001b[0m\u001b[1;33m(\u001b[0m\u001b[1;34m\"{}/{}\"\u001b[0m\u001b[1;33m.\u001b[0m\u001b[0mformat\u001b[0m\u001b[1;33m(\u001b[0m\u001b[0mdpath\u001b[0m\u001b[1;33m,\u001b[0m\u001b[0mfile_name\u001b[0m\u001b[1;33m)\u001b[0m\u001b[1;33m)\u001b[0m\u001b[1;33m\u001b[0m\u001b[1;33m\u001b[0m\u001b[0m\n\u001b[0m\u001b[0;32m      7\u001b[0m     \u001b[1;31m# 디렉토리 삭제\u001b[0m\u001b[1;33m\u001b[0m\u001b[1;33m\u001b[0m\u001b[1;33m\u001b[0m\u001b[0m\n\u001b[0;32m      8\u001b[0m     \u001b[0mos\u001b[0m\u001b[1;33m.\u001b[0m\u001b[0mremovedirs\u001b[0m\u001b[1;33m(\u001b[0m\u001b[0mdpath\u001b[0m\u001b[1;33m)\u001b[0m\u001b[1;33m\u001b[0m\u001b[1;33m\u001b[0m\u001b[0m\n",
      "\u001b[1;31mPermissionError\u001b[0m: [WinError 32] 다른 프로세스가 파일을 사용 중이기 때문에 프로세스가 액세스 할 수 없습니다: 'file/test.txt'"
     ]
    }
   ],
   "source": [
    "force_remove(\"file\")"
   ]
  },
  {
   "cell_type": "code",
   "execution_count": 134,
   "metadata": {},
   "outputs": [
    {
     "name": "stdout",
     "output_type": "stream",
     "text": [
      " C 드라이브의 볼륨에는 이름이 없습니다.\n",
      " 볼륨 일련 번호: 0A77-9793\n",
      "\n",
      " C:\\Code\\본강의\\02_numpy_python 디렉터리\n",
      "\n",
      "2020-12-23  오후 04:14    <DIR>          .\n",
      "2020-12-23  오후 04:14    <DIR>          ..\n",
      "2020-12-23  오후 03:22    <DIR>          .ipynb_checkpoints\n",
      "2020-12-22  오후 04:25    <DIR>          __pycache__\n",
      "2020-12-22  오후 02:55             1,280 _ipython_config.ipynb\n",
      "2020-12-21  오후 03:55            13,961 01_numpy.ipynb\n",
      "2020-12-23  오후 03:22            12,741 01_python_summary.ipynb\n",
      "2020-12-23  오후 04:14            31,300 02_ io.ipynb\n",
      "2020-12-22  오후 02:47            23,897 02_numpy_2.ipynb\n",
      "2020-12-22  오후 05:17            90,905 03_pandas_1.ipynb\n",
      "2020-12-23  오후 01:57            68,400 04_pandas_2.ipynb\n",
      "2020-12-23  오후 02:05               552 05_pandas_03.ipynb\n",
      "2020-12-21  오후 03:59    <DIR>          datas\n",
      "2020-12-21  오후 09:48            14,792 exam_01_correlation_coefficient_pearson.ipynb\n",
      "2019-10-11  오전 02:57            18,266 exam_01_correlation_coefficient_pearson_full.ipynb\n",
      "2019-10-18  오전 01:03             8,138 exam_02_liner_regression.ipynb\n",
      "2020-12-23  오후 03:54    <DIR>          file\n",
      "2020-12-23  오후 04:16    <DIR>          files\n",
      "2020-12-21  오후 03:54               616 makedata.py\n",
      "2020-12-21  오후 04:00    <DIR>          quiz\n",
      "              12개 파일             284,848 바이트\n",
      "               8개 디렉터리  167,776,600,064 바이트 남음\n"
     ]
    }
   ],
   "source": [
    "%ls"
   ]
  },
  {
   "cell_type": "code",
   "execution_count": 137,
   "metadata": {},
   "outputs": [
    {
     "ename": "FileNotFoundError",
     "evalue": "[WinError 2] 지정된 파일을 찾을 수 없습니다: 'file/test.b'",
     "output_type": "error",
     "traceback": [
      "\u001b[1;31m---------------------------------------------------------------------------\u001b[0m",
      "\u001b[1;31mFileNotFoundError\u001b[0m                         Traceback (most recent call last)",
      "\u001b[1;32m<ipython-input-137-f0487e4a1f73>\u001b[0m in \u001b[0;36m<module>\u001b[1;34m\u001b[0m\n\u001b[0;32m      1\u001b[0m \u001b[0mos\u001b[0m\u001b[1;33m.\u001b[0m\u001b[0mlistdir\u001b[0m\u001b[1;33m(\u001b[0m\u001b[1;34m\"file\"\u001b[0m\u001b[1;33m)\u001b[0m\u001b[1;33m\u001b[0m\u001b[1;33m\u001b[0m\u001b[0m\n\u001b[1;32m----> 2\u001b[1;33m \u001b[0mos\u001b[0m\u001b[1;33m.\u001b[0m\u001b[0mremove\u001b[0m\u001b[1;33m(\u001b[0m\u001b[1;34m\"file/test.b\"\u001b[0m\u001b[1;33m)\u001b[0m\u001b[1;33m\u001b[0m\u001b[1;33m\u001b[0m\u001b[0m\n\u001b[0m\u001b[0;32m      3\u001b[0m \u001b[0mos\u001b[0m\u001b[1;33m.\u001b[0m\u001b[0mremovedirs\u001b[0m\u001b[1;33m(\u001b[0m\u001b[1;34m\"dir\"\u001b[0m\u001b[1;33m)\u001b[0m\u001b[1;33m\u001b[0m\u001b[1;33m\u001b[0m\u001b[0m\n",
      "\u001b[1;31mFileNotFoundError\u001b[0m: [WinError 2] 지정된 파일을 찾을 수 없습니다: 'file/test.b'"
     ]
    }
   ],
   "source": [
    "os.listdir(\"file\")\n",
    "os.remove(\"file/test.b\")\n",
    "os.removedirs(\"dir\")"
   ]
  },
  {
   "cell_type": "code",
   "execution_count": 150,
   "metadata": {},
   "outputs": [],
   "source": [
    "os.makedirs(\"files\")"
   ]
  },
  {
   "cell_type": "code",
   "execution_count": 151,
   "metadata": {},
   "outputs": [],
   "source": [
    "data = \"1234\"\n",
    "with open(\"files/test1.txt\",\"wt\") as file:\n",
    "    file.write(data)\n",
    "with open(\"files/test2.csv\",\"wt\") as file:\n",
    "    file.write(data)"
   ]
  },
  {
   "cell_type": "code",
   "execution_count": 152,
   "metadata": {},
   "outputs": [
    {
     "name": "stdout",
     "output_type": "stream",
     "text": [
      "test1.txt\n",
      "test2.csv\n"
     ]
    }
   ],
   "source": [
    "!ls files"
   ]
  },
  {
   "cell_type": "code",
   "execution_count": 141,
   "metadata": {},
   "outputs": [],
   "source": [
    "import shutil"
   ]
  },
  {
   "cell_type": "code",
   "execution_count": 147,
   "metadata": {},
   "outputs": [],
   "source": [
    "shutil.rmtree(\"files\")"
   ]
  },
  {
   "cell_type": "code",
   "execution_count": 148,
   "metadata": {},
   "outputs": [
    {
     "ename": "PermissionError",
     "evalue": "[WinError 32] 다른 프로세스가 파일을 사용 중이기 때문에 프로세스가 액세스 할 수 없습니다: 'file\\\\test.txt'",
     "output_type": "error",
     "traceback": [
      "\u001b[1;31m---------------------------------------------------------------------------\u001b[0m",
      "\u001b[1;31mPermissionError\u001b[0m                           Traceback (most recent call last)",
      "\u001b[1;32m<ipython-input-148-479f915ef3e0>\u001b[0m in \u001b[0;36m<module>\u001b[1;34m\u001b[0m\n\u001b[1;32m----> 1\u001b[1;33m \u001b[0mshutil\u001b[0m\u001b[1;33m.\u001b[0m\u001b[0mrmtree\u001b[0m\u001b[1;33m(\u001b[0m\u001b[1;34m\"file\"\u001b[0m\u001b[1;33m)\u001b[0m\u001b[1;33m\u001b[0m\u001b[1;33m\u001b[0m\u001b[0m\n\u001b[0m",
      "\u001b[1;32mC:\\Anaconda3\\lib\\shutil.py\u001b[0m in \u001b[0;36mrmtree\u001b[1;34m(path, ignore_errors, onerror)\u001b[0m\n\u001b[0;32m    735\u001b[0m             \u001b[1;31m# can't continue even if onerror hook returns\u001b[0m\u001b[1;33m\u001b[0m\u001b[1;33m\u001b[0m\u001b[1;33m\u001b[0m\u001b[0m\n\u001b[0;32m    736\u001b[0m             \u001b[1;32mreturn\u001b[0m\u001b[1;33m\u001b[0m\u001b[1;33m\u001b[0m\u001b[0m\n\u001b[1;32m--> 737\u001b[1;33m         \u001b[1;32mreturn\u001b[0m \u001b[0m_rmtree_unsafe\u001b[0m\u001b[1;33m(\u001b[0m\u001b[0mpath\u001b[0m\u001b[1;33m,\u001b[0m \u001b[0monerror\u001b[0m\u001b[1;33m)\u001b[0m\u001b[1;33m\u001b[0m\u001b[1;33m\u001b[0m\u001b[0m\n\u001b[0m\u001b[0;32m    738\u001b[0m \u001b[1;33m\u001b[0m\u001b[0m\n\u001b[0;32m    739\u001b[0m \u001b[1;31m# Allow introspection of whether or not the hardening against symlink\u001b[0m\u001b[1;33m\u001b[0m\u001b[1;33m\u001b[0m\u001b[1;33m\u001b[0m\u001b[0m\n",
      "\u001b[1;32mC:\\Anaconda3\\lib\\shutil.py\u001b[0m in \u001b[0;36m_rmtree_unsafe\u001b[1;34m(path, onerror)\u001b[0m\n\u001b[0;32m    613\u001b[0m                 \u001b[0mos\u001b[0m\u001b[1;33m.\u001b[0m\u001b[0munlink\u001b[0m\u001b[1;33m(\u001b[0m\u001b[0mfullname\u001b[0m\u001b[1;33m)\u001b[0m\u001b[1;33m\u001b[0m\u001b[1;33m\u001b[0m\u001b[0m\n\u001b[0;32m    614\u001b[0m             \u001b[1;32mexcept\u001b[0m \u001b[0mOSError\u001b[0m\u001b[1;33m:\u001b[0m\u001b[1;33m\u001b[0m\u001b[1;33m\u001b[0m\u001b[0m\n\u001b[1;32m--> 615\u001b[1;33m                 \u001b[0monerror\u001b[0m\u001b[1;33m(\u001b[0m\u001b[0mos\u001b[0m\u001b[1;33m.\u001b[0m\u001b[0munlink\u001b[0m\u001b[1;33m,\u001b[0m \u001b[0mfullname\u001b[0m\u001b[1;33m,\u001b[0m \u001b[0msys\u001b[0m\u001b[1;33m.\u001b[0m\u001b[0mexc_info\u001b[0m\u001b[1;33m(\u001b[0m\u001b[1;33m)\u001b[0m\u001b[1;33m)\u001b[0m\u001b[1;33m\u001b[0m\u001b[1;33m\u001b[0m\u001b[0m\n\u001b[0m\u001b[0;32m    616\u001b[0m     \u001b[1;32mtry\u001b[0m\u001b[1;33m:\u001b[0m\u001b[1;33m\u001b[0m\u001b[1;33m\u001b[0m\u001b[0m\n\u001b[0;32m    617\u001b[0m         \u001b[0mos\u001b[0m\u001b[1;33m.\u001b[0m\u001b[0mrmdir\u001b[0m\u001b[1;33m(\u001b[0m\u001b[0mpath\u001b[0m\u001b[1;33m)\u001b[0m\u001b[1;33m\u001b[0m\u001b[1;33m\u001b[0m\u001b[0m\n",
      "\u001b[1;32mC:\\Anaconda3\\lib\\shutil.py\u001b[0m in \u001b[0;36m_rmtree_unsafe\u001b[1;34m(path, onerror)\u001b[0m\n\u001b[0;32m    611\u001b[0m         \u001b[1;32melse\u001b[0m\u001b[1;33m:\u001b[0m\u001b[1;33m\u001b[0m\u001b[1;33m\u001b[0m\u001b[0m\n\u001b[0;32m    612\u001b[0m             \u001b[1;32mtry\u001b[0m\u001b[1;33m:\u001b[0m\u001b[1;33m\u001b[0m\u001b[1;33m\u001b[0m\u001b[0m\n\u001b[1;32m--> 613\u001b[1;33m                 \u001b[0mos\u001b[0m\u001b[1;33m.\u001b[0m\u001b[0munlink\u001b[0m\u001b[1;33m(\u001b[0m\u001b[0mfullname\u001b[0m\u001b[1;33m)\u001b[0m\u001b[1;33m\u001b[0m\u001b[1;33m\u001b[0m\u001b[0m\n\u001b[0m\u001b[0;32m    614\u001b[0m             \u001b[1;32mexcept\u001b[0m \u001b[0mOSError\u001b[0m\u001b[1;33m:\u001b[0m\u001b[1;33m\u001b[0m\u001b[1;33m\u001b[0m\u001b[0m\n\u001b[0;32m    615\u001b[0m                 \u001b[0monerror\u001b[0m\u001b[1;33m(\u001b[0m\u001b[0mos\u001b[0m\u001b[1;33m.\u001b[0m\u001b[0munlink\u001b[0m\u001b[1;33m,\u001b[0m \u001b[0mfullname\u001b[0m\u001b[1;33m,\u001b[0m \u001b[0msys\u001b[0m\u001b[1;33m.\u001b[0m\u001b[0mexc_info\u001b[0m\u001b[1;33m(\u001b[0m\u001b[1;33m)\u001b[0m\u001b[1;33m)\u001b[0m\u001b[1;33m\u001b[0m\u001b[1;33m\u001b[0m\u001b[0m\n",
      "\u001b[1;31mPermissionError\u001b[0m: [WinError 32] 다른 프로세스가 파일을 사용 중이기 때문에 프로세스가 액세스 할 수 없습니다: 'file\\\\test.txt'"
     ]
    }
   ],
   "source": [
    "shutil.rmtree(\"file\")"
   ]
  },
  {
   "cell_type": "code",
   "execution_count": 143,
   "metadata": {},
   "outputs": [
    {
     "name": "stdout",
     "output_type": "stream",
     "text": [
      " C 드라이브의 볼륨에는 이름이 없습니다.\n",
      " 볼륨 일련 번호: 0A77-9793\n",
      "\n",
      " C:\\Code\\본강의\\02_numpy_python 디렉터리\n",
      "\n",
      "2020-12-23  오후 04:16    <DIR>          .\n",
      "2020-12-23  오후 04:16    <DIR>          ..\n",
      "2020-12-23  오후 03:22    <DIR>          .ipynb_checkpoints\n",
      "2020-12-22  오후 04:25    <DIR>          __pycache__\n",
      "2020-12-22  오후 02:55             1,280 _ipython_config.ipynb\n",
      "2020-12-21  오후 03:55            13,961 01_numpy.ipynb\n",
      "2020-12-23  오후 03:22            12,741 01_python_summary.ipynb\n",
      "2020-12-23  오후 04:16            35,232 02_ io.ipynb\n",
      "2020-12-22  오후 02:47            23,897 02_numpy_2.ipynb\n",
      "2020-12-22  오후 05:17            90,905 03_pandas_1.ipynb\n",
      "2020-12-23  오후 01:57            68,400 04_pandas_2.ipynb\n",
      "2020-12-23  오후 02:05               552 05_pandas_03.ipynb\n",
      "2020-12-21  오후 03:59    <DIR>          datas\n",
      "2020-12-21  오후 09:48            14,792 exam_01_correlation_coefficient_pearson.ipynb\n",
      "2019-10-11  오전 02:57            18,266 exam_01_correlation_coefficient_pearson_full.ipynb\n",
      "2019-10-18  오전 01:03             8,138 exam_02_liner_regression.ipynb\n",
      "2020-12-23  오후 03:54    <DIR>          file\n",
      "2020-12-21  오후 03:54               616 makedata.py\n",
      "2020-12-21  오후 04:00    <DIR>          quiz\n",
      "              12개 파일             288,780 바이트\n",
      "               7개 디렉터리  167,775,981,568 바이트 남음\n"
     ]
    }
   ],
   "source": [
    "%ls"
   ]
  },
  {
   "cell_type": "code",
   "execution_count": 51,
   "metadata": {},
   "outputs": [],
   "source": [
    "# 파일 복사하기"
   ]
  },
  {
   "cell_type": "code",
   "execution_count": 154,
   "metadata": {},
   "outputs": [
    {
     "name": "stdout",
     "output_type": "stream",
     "text": [
      " C 드라이브의 볼륨에는 이름이 없습니다.\n",
      " 볼륨 일련 번호: 0A77-9793\n",
      "\n",
      " C:\\Code\\본강의\\02_numpy_python\\files 디렉터리\n",
      "\n",
      "2020-12-23  오후 04:20    <DIR>          .\n",
      "2020-12-23  오후 04:20    <DIR>          ..\n",
      "2020-12-23  오후 04:20                 4 test1.txt\n",
      "2020-12-23  오후 04:20                 4 test2.csv\n",
      "               2개 파일                   8 바이트\n",
      "               2개 디렉터리  167,776,837,632 바이트 남음\n"
     ]
    }
   ],
   "source": [
    "%ls files"
   ]
  },
  {
   "cell_type": "code",
   "execution_count": 155,
   "metadata": {},
   "outputs": [
    {
     "name": "stderr",
     "output_type": "stream",
     "text": [
      "하위 디렉터리 또는 파일 copy이(가) 이미 있습니다.\n"
     ]
    }
   ],
   "source": [
    "!mkdir copy"
   ]
  },
  {
   "cell_type": "code",
   "execution_count": 156,
   "metadata": {},
   "outputs": [
    {
     "data": {
      "text/plain": [
       "'copy/test.txt'"
      ]
     },
     "execution_count": 156,
     "metadata": {},
     "output_type": "execute_result"
    }
   ],
   "source": [
    "shutil.copy(\"files/test2.csv\",\"copy/test.txt\")"
   ]
  },
  {
   "cell_type": "code",
   "execution_count": 157,
   "metadata": {},
   "outputs": [
    {
     "name": "stdout",
     "output_type": "stream",
     "text": [
      " C 드라이브의 볼륨에는 이름이 없습니다.\n",
      " 볼륨 일련 번호: 0A77-9793\n",
      "\n",
      " C:\\Code\\본강의\\02_numpy_python\\copy 디렉터리\n",
      "\n",
      "2020-12-23  오후 04:20    <DIR>          .\n",
      "2020-12-23  오후 04:20    <DIR>          ..\n",
      "2020-12-23  오후 04:20                 4 test.txt\n",
      "               1개 파일                   4 바이트\n",
      "               2개 디렉터리  167,776,837,632 바이트 남음\n"
     ]
    }
   ],
   "source": [
    "%ls copy"
   ]
  },
  {
   "cell_type": "code",
   "execution_count": 158,
   "metadata": {},
   "outputs": [
    {
     "name": "stdout",
     "output_type": "stream",
     "text": [
      "1234\n"
     ]
    }
   ],
   "source": [
    "!cat copy/test.txt"
   ]
  },
  {
   "cell_type": "code",
   "execution_count": 52,
   "metadata": {},
   "outputs": [],
   "source": [
    "# 파일 이름변경"
   ]
  },
  {
   "cell_type": "code",
   "execution_count": 159,
   "metadata": {},
   "outputs": [
    {
     "name": "stdout",
     "output_type": "stream",
     "text": [
      "test1.txt\n",
      "test2.csv\n"
     ]
    }
   ],
   "source": [
    "!ls files"
   ]
  },
  {
   "cell_type": "code",
   "execution_count": 162,
   "metadata": {},
   "outputs": [],
   "source": [
    "os.rename(\"files/test2.csv\",\"files/test2.txt\")"
   ]
  },
  {
   "cell_type": "code",
   "execution_count": 163,
   "metadata": {},
   "outputs": [
    {
     "name": "stdout",
     "output_type": "stream",
     "text": [
      " C 드라이브의 볼륨에는 이름이 없습니다.\n",
      " 볼륨 일련 번호: 0A77-9793\n",
      "\n",
      " C:\\Code\\본강의\\02_numpy_python\\files 디렉터리\n",
      "\n",
      "2020-12-23  오후 04:21    <DIR>          .\n",
      "2020-12-23  오후 04:21    <DIR>          ..\n",
      "2020-12-23  오후 04:20                 4 test1.txt\n",
      "2020-12-23  오후 04:20                 4 test2.txt\n",
      "               2개 파일                   8 바이트\n",
      "               2개 디렉터리  167,776,894,976 바이트 남음\n"
     ]
    }
   ],
   "source": [
    "%ls files"
   ]
  },
  {
   "cell_type": "code",
   "execution_count": 53,
   "metadata": {},
   "outputs": [],
   "source": [
    "# 권한설정"
   ]
  },
  {
   "cell_type": "code",
   "execution_count": 165,
   "metadata": {},
   "outputs": [
    {
     "name": "stderr",
     "output_type": "stream",
     "text": [
      "명령 구문이 올바르지 않습니다.\n"
     ]
    }
   ],
   "source": [
    "!mkdir files/test"
   ]
  },
  {
   "cell_type": "code",
   "execution_count": 166,
   "metadata": {},
   "outputs": [
    {
     "name": "stdout",
     "output_type": "stream",
     "text": [
      "total 6\n",
      "drwxr-xr-x 1 二쇱쁺 197121 0 12�썡 23 16:21 .\n",
      "drwxr-xr-x 1 二쇱쁺 197121 0 12�썡 23 16:20 ..\n",
      "-rw-r--r-- 1 二쇱쁺 197121 4 12�썡 23 16:20 test1.txt\n",
      "-rw-r--r-- 1 二쇱쁺 197121 4 12�썡 23 16:20 test2.txt\n"
     ]
    }
   ],
   "source": [
    "!ls -al files"
   ]
  },
  {
   "cell_type": "code",
   "execution_count": null,
   "metadata": {},
   "outputs": [],
   "source": [
    "#rw- 소유자에 대한 권한\n",
    "#2번째 r-- 그룹에 대한 사용자 권한\n",
    "#3번째 r-- 모든 사용자에 대한 권한"
   ]
  },
  {
   "cell_type": "code",
   "execution_count": 167,
   "metadata": {},
   "outputs": [
    {
     "ename": "SyntaxError",
     "evalue": "invalid syntax (<ipython-input-167-b1519bac03e0>, line 2)",
     "output_type": "error",
     "traceback": [
      "\u001b[1;36m  File \u001b[1;32m\"<ipython-input-167-b1519bac03e0>\"\u001b[1;36m, line \u001b[1;32m2\u001b[0m\n\u001b[1;33m    A(a,b,c) B(d,e)\u001b[0m\n\u001b[1;37m             ^\u001b[0m\n\u001b[1;31mSyntaxError\u001b[0m\u001b[1;31m:\u001b[0m invalid syntax\n"
     ]
    }
   ],
   "source": [
    "root\n",
    "A(a,b,c) B(d,e)# read 만가능"
   ]
  },
  {
   "cell_type": "code",
   "execution_count": null,
   "metadata": {},
   "outputs": [],
   "source": [
    "# rwx rwx rwx : (8)"
   ]
  },
  {
   "cell_type": "code",
   "execution_count": 170,
   "metadata": {},
   "outputs": [],
   "source": [
    "os.chmod(\"files/test1.txt\",0o765)"
   ]
  },
  {
   "cell_type": "code",
   "execution_count": null,
   "metadata": {},
   "outputs": [],
   "source": [
    "# 8진수의  약자 :o"
   ]
  },
  {
   "cell_type": "code",
   "execution_count": 171,
   "metadata": {},
   "outputs": [
    {
     "name": "stdout",
     "output_type": "stream",
     "text": [
      "-rw-r--r-- 1 二쇱쁺 197121 4 12�썡 23 16:20 files/test1.txt\n"
     ]
    }
   ],
   "source": [
    "!ls -al files/test1.txt"
   ]
  },
  {
   "cell_type": "code",
   "execution_count": null,
   "metadata": {},
   "outputs": [],
   "source": [
    "# rwx(7:111) rw-(6:110) r-x(5:101) : (8) read write excute"
   ]
  },
  {
   "cell_type": "markdown",
   "metadata": {},
   "source": [
    "#### 기사 카테고리 분류해서 각 디렉토리로 파일 복사하기\n",
    "- text : 기사가 txt 파일로 저장\n",
    "- model.pkl : 텍스트 문장의 카테고리를 분류해주는 모델 객체 (AI)\n",
    "- 6가지의 카테고리 : 100,101,102,103,104,105\n",
    "- text 디렉토리에 있는 .txt 파일을 model로 카테고리를 분류해서 해당 디렉토리에 저장하기"
   ]
  },
  {
   "cell_type": "code",
   "execution_count": 173,
   "metadata": {},
   "outputs": [
    {
     "name": "stdout",
     "output_type": "stream",
     "text": [
      "model.pkl\n",
      "texts\n"
     ]
    }
   ],
   "source": [
    "!ls articles/"
   ]
  },
  {
   "cell_type": "code",
   "execution_count": 174,
   "metadata": {},
   "outputs": [
    {
     "data": {
      "text/plain": [
       "{100: '정치', 101: '경제', 102: '사회', 103: '생활/문화', 104: '세계', 105: 'IT/과학'}"
      ]
     },
     "execution_count": 174,
     "metadata": {},
     "output_type": "execute_result"
    }
   ],
   "source": [
    "categories = {100: \"정치\", 101: \"경제\", 102: \"사회\", 103: \"생활/문화\", 104: \"세계\", 105: \"IT/과학\"}\n",
    "categories"
   ]
  },
  {
   "cell_type": "code",
   "execution_count": null,
   "metadata": {},
   "outputs": [],
   "source": [
    "# 1. 카테고리별 디렉토리 만들기"
   ]
  },
  {
   "cell_type": "code",
   "execution_count": 180,
   "metadata": {},
   "outputs": [
    {
     "ename": "FileExistsError",
     "evalue": "[WinError 183] 파일이 이미 있으므로 만들 수 없습니다: 'articles/100'",
     "output_type": "error",
     "traceback": [
      "\u001b[1;31m---------------------------------------------------------------------------\u001b[0m",
      "\u001b[1;31mFileExistsError\u001b[0m                           Traceback (most recent call last)",
      "\u001b[1;32m<ipython-input-180-546c8a513537>\u001b[0m in \u001b[0;36m<module>\u001b[1;34m\u001b[0m\n\u001b[0;32m      1\u001b[0m \u001b[1;32mfor\u001b[0m \u001b[0mdname\u001b[0m \u001b[1;32min\u001b[0m \u001b[0mcategories\u001b[0m\u001b[1;33m.\u001b[0m\u001b[0mkeys\u001b[0m\u001b[1;33m(\u001b[0m\u001b[1;33m)\u001b[0m\u001b[1;33m:\u001b[0m\u001b[1;33m\u001b[0m\u001b[1;33m\u001b[0m\u001b[0m\n\u001b[1;32m----> 2\u001b[1;33m     \u001b[0mos\u001b[0m\u001b[1;33m.\u001b[0m\u001b[0mmakedirs\u001b[0m\u001b[1;33m(\u001b[0m\u001b[1;34m\"articles/{}\"\u001b[0m\u001b[1;33m.\u001b[0m\u001b[0mformat\u001b[0m\u001b[1;33m(\u001b[0m\u001b[0mdname\u001b[0m\u001b[1;33m)\u001b[0m\u001b[1;33m)\u001b[0m\u001b[1;33m\u001b[0m\u001b[1;33m\u001b[0m\u001b[0m\n\u001b[0m",
      "\u001b[1;32mC:\\Anaconda3\\lib\\os.py\u001b[0m in \u001b[0;36mmakedirs\u001b[1;34m(name, mode, exist_ok)\u001b[0m\n\u001b[0;32m    221\u001b[0m             \u001b[1;32mreturn\u001b[0m\u001b[1;33m\u001b[0m\u001b[1;33m\u001b[0m\u001b[0m\n\u001b[0;32m    222\u001b[0m     \u001b[1;32mtry\u001b[0m\u001b[1;33m:\u001b[0m\u001b[1;33m\u001b[0m\u001b[1;33m\u001b[0m\u001b[0m\n\u001b[1;32m--> 223\u001b[1;33m         \u001b[0mmkdir\u001b[0m\u001b[1;33m(\u001b[0m\u001b[0mname\u001b[0m\u001b[1;33m,\u001b[0m \u001b[0mmode\u001b[0m\u001b[1;33m)\u001b[0m\u001b[1;33m\u001b[0m\u001b[1;33m\u001b[0m\u001b[0m\n\u001b[0m\u001b[0;32m    224\u001b[0m     \u001b[1;32mexcept\u001b[0m \u001b[0mOSError\u001b[0m\u001b[1;33m:\u001b[0m\u001b[1;33m\u001b[0m\u001b[1;33m\u001b[0m\u001b[0m\n\u001b[0;32m    225\u001b[0m         \u001b[1;31m# Cannot rely on checking for EEXIST, since the operating system\u001b[0m\u001b[1;33m\u001b[0m\u001b[1;33m\u001b[0m\u001b[1;33m\u001b[0m\u001b[0m\n",
      "\u001b[1;31mFileExistsError\u001b[0m: [WinError 183] 파일이 이미 있으므로 만들 수 없습니다: 'articles/100'"
     ]
    }
   ],
   "source": [
    "for dname in categories.keys():\n",
    "    os.makedirs(\"articles/{}\".format(dname))"
   ]
  },
  {
   "cell_type": "code",
   "execution_count": 182,
   "metadata": {},
   "outputs": [
    {
     "name": "stdout",
     "output_type": "stream",
     "text": [
      "100\n",
      "101\n",
      "102\n",
      "103\n",
      "104\n",
      "105\n",
      "model.pkl\n",
      "texts\n"
     ]
    }
   ],
   "source": [
    "!ls articles/"
   ]
  },
  {
   "cell_type": "code",
   "execution_count": null,
   "metadata": {},
   "outputs": [],
   "source": [
    "# 2. 텍스트 리스트 불러오기 : texts 디렉토리안에 있는 txt 파일 리스트"
   ]
  },
  {
   "cell_type": "code",
   "execution_count": 184,
   "metadata": {},
   "outputs": [
    {
     "data": {
      "text/plain": [
       "(237,\n",
       " ['100_115일째법안처리한건도안한여야“20대국회는끝났다”.txt', '100_7월국회앞두고도여야추경-안보네탓공방만(종합).txt'])"
      ]
     },
     "execution_count": 184,
     "metadata": {},
     "output_type": "execute_result"
    }
   ],
   "source": [
    "articles = os.listdir(\"articles/texts/\")\n",
    "len(articles), articles[:2]"
   ]
  },
  {
   "cell_type": "code",
   "execution_count": null,
   "metadata": {},
   "outputs": [],
   "source": [
    "# 3. 모델 객체 불러오기"
   ]
  },
  {
   "cell_type": "code",
   "execution_count": 185,
   "metadata": {},
   "outputs": [
    {
     "name": "stderr",
     "output_type": "stream",
     "text": [
      "C:\\Anaconda3\\lib\\site-packages\\sklearn\\base.py:329: UserWarning: Trying to unpickle estimator TfidfTransformer from version 0.22.2.post1 when using version 0.23.1. This might lead to breaking code or invalid results. Use at your own risk.\n",
      "  warnings.warn(\n",
      "C:\\Anaconda3\\lib\\site-packages\\sklearn\\base.py:329: UserWarning: Trying to unpickle estimator TfidfVectorizer from version 0.22.2.post1 when using version 0.23.1. This might lead to breaking code or invalid results. Use at your own risk.\n",
      "  warnings.warn(\n",
      "C:\\Anaconda3\\lib\\site-packages\\sklearn\\base.py:329: UserWarning: Trying to unpickle estimator MultinomialNB from version 0.22.2.post1 when using version 0.23.1. This might lead to breaking code or invalid results. Use at your own risk.\n",
      "  warnings.warn(\n",
      "C:\\Anaconda3\\lib\\site-packages\\sklearn\\base.py:329: UserWarning: Trying to unpickle estimator Pipeline from version 0.22.2.post1 when using version 0.23.1. This might lead to breaking code or invalid results. Use at your own risk.\n",
      "  warnings.warn(\n"
     ]
    }
   ],
   "source": [
    "with open(\"articles/model.pkl\",\"rb\") as file:\n",
    "    model = pickle.load(file)"
   ]
  },
  {
   "cell_type": "code",
   "execution_count": 191,
   "metadata": {},
   "outputs": [
    {
     "data": {
      "text/plain": [
       "(103, '생활/문화')"
      ]
     },
     "execution_count": 191,
     "metadata": {},
     "output_type": "execute_result"
    }
   ],
   "source": [
    "result = model.predict([\"115일째법안처리한건도안한여야“20대국회는끝났다\"])[0]\n",
    "result, categories[result]"
   ]
  },
  {
   "cell_type": "code",
   "execution_count": 196,
   "metadata": {},
   "outputs": [],
   "source": [
    "# 4. 텍스트 리스트에 파일을 변수에 불러오기"
   ]
  },
  {
   "cell_type": "code",
   "execution_count": 197,
   "metadata": {},
   "outputs": [
    {
     "data": {
      "text/plain": [
       "'100_115일째법안처리한건도안한여야“20대국회는끝났다”.txt'"
      ]
     },
     "execution_count": 197,
     "metadata": {},
     "output_type": "execute_result"
    }
   ],
   "source": [
    "articles[0]"
   ]
  },
  {
   "cell_type": "code",
   "execution_count": 199,
   "metadata": {},
   "outputs": [
    {
     "ename": "UnicodeDecodeError",
     "evalue": "'cp949' codec can't decode byte 0xe2 in position 0: illegal multibyte sequence",
     "output_type": "error",
     "traceback": [
      "\u001b[1;31m---------------------------------------------------------------------------\u001b[0m",
      "\u001b[1;31mUnicodeDecodeError\u001b[0m                        Traceback (most recent call last)",
      "\u001b[1;32m<ipython-input-199-da651e6ede88>\u001b[0m in \u001b[0;36m<module>\u001b[1;34m\u001b[0m\n\u001b[0;32m      1\u001b[0m \u001b[1;32mwith\u001b[0m \u001b[0mopen\u001b[0m\u001b[1;33m(\u001b[0m\u001b[1;34m\"articles/texts/{}\"\u001b[0m\u001b[1;33m.\u001b[0m\u001b[0mformat\u001b[0m\u001b[1;33m(\u001b[0m\u001b[0marticles\u001b[0m\u001b[1;33m[\u001b[0m\u001b[1;36m0\u001b[0m\u001b[1;33m]\u001b[0m\u001b[1;33m)\u001b[0m\u001b[1;33m,\u001b[0m \u001b[1;34m\"rt\"\u001b[0m\u001b[1;33m)\u001b[0m \u001b[1;32mas\u001b[0m \u001b[0mfile\u001b[0m\u001b[1;33m:\u001b[0m\u001b[1;33m\u001b[0m\u001b[1;33m\u001b[0m\u001b[0m\n\u001b[1;32m----> 2\u001b[1;33m     \u001b[0mtxt\u001b[0m \u001b[1;33m=\u001b[0m \u001b[0mfile\u001b[0m\u001b[1;33m.\u001b[0m\u001b[0mread\u001b[0m\u001b[1;33m(\u001b[0m\u001b[1;33m)\u001b[0m\u001b[1;33m\u001b[0m\u001b[1;33m\u001b[0m\u001b[0m\n\u001b[0m\u001b[0;32m      3\u001b[0m \u001b[1;33m\u001b[0m\u001b[0m\n\u001b[0;32m      4\u001b[0m \u001b[0mtxt\u001b[0m\u001b[1;33m[\u001b[0m\u001b[1;33m:\u001b[0m\u001b[1;36m100\u001b[0m\u001b[1;33m]\u001b[0m\u001b[1;33m\u001b[0m\u001b[1;33m\u001b[0m\u001b[0m\n",
      "\u001b[1;31mUnicodeDecodeError\u001b[0m: 'cp949' codec can't decode byte 0xe2 in position 0: illegal multibyte sequence"
     ]
    }
   ],
   "source": [
    "with open(\"articles/texts/{}\".format(articles[0]), \"rt\") as file:\n",
    "    txt = file.read()\n",
    "\n",
    "txt[:100]"
   ]
  },
  {
   "cell_type": "code",
   "execution_count": null,
   "metadata": {},
   "outputs": [],
   "source": []
  },
  {
   "cell_type": "code",
   "execution_count": 195,
   "metadata": {},
   "outputs": [],
   "source": [
    "# 5. 불러온 텍스트 데이터를 모델로 예측하기"
   ]
  },
  {
   "cell_type": "code",
   "execution_count": 200,
   "metadata": {},
   "outputs": [
    {
     "ename": "NameError",
     "evalue": "name 'txt' is not defined",
     "output_type": "error",
     "traceback": [
      "\u001b[1;31m---------------------------------------------------------------------------\u001b[0m",
      "\u001b[1;31mNameError\u001b[0m                                 Traceback (most recent call last)",
      "\u001b[1;32m<ipython-input-200-7d1e1bbba1cf>\u001b[0m in \u001b[0;36m<module>\u001b[1;34m\u001b[0m\n\u001b[1;32m----> 1\u001b[1;33m \u001b[0mresult\u001b[0m \u001b[1;33m=\u001b[0m \u001b[0mmodel\u001b[0m\u001b[1;33m.\u001b[0m\u001b[0mpredict\u001b[0m\u001b[1;33m(\u001b[0m\u001b[1;33m[\u001b[0m\u001b[0mtxt\u001b[0m\u001b[1;33m]\u001b[0m\u001b[1;33m)\u001b[0m\u001b[1;33m[\u001b[0m\u001b[1;36m0\u001b[0m\u001b[1;33m]\u001b[0m\u001b[1;33m\u001b[0m\u001b[1;33m\u001b[0m\u001b[0m\n\u001b[0m\u001b[0;32m      2\u001b[0m \u001b[0mresult\u001b[0m\u001b[1;33m,\u001b[0m \u001b[0mcategories\u001b[0m\u001b[1;33m[\u001b[0m\u001b[0mresult\u001b[0m\u001b[1;33m]\u001b[0m\u001b[1;33m\u001b[0m\u001b[1;33m\u001b[0m\u001b[0m\n",
      "\u001b[1;31mNameError\u001b[0m: name 'txt' is not defined"
     ]
    }
   ],
   "source": [
    "result = model.predict([txt])[0]\n",
    "result, categories[result]"
   ]
  },
  {
   "cell_type": "code",
   "execution_count": 175,
   "metadata": {},
   "outputs": [],
   "source": [
    "# 6. 파일을 해당 카테고리의 디렉토리로 복사하기"
   ]
  },
  {
   "cell_type": "code",
   "execution_count": 201,
   "metadata": {},
   "outputs": [
    {
     "data": {
      "text/plain": [
       "'articles/texts/100_115일째법안처리한건도안한여야“20대국회는끝났다”.txt'"
      ]
     },
     "execution_count": 201,
     "metadata": {},
     "output_type": "execute_result"
    }
   ],
   "source": [
    "\"articles/texts/{}\".format(articles[0])"
   ]
  },
  {
   "cell_type": "code",
   "execution_count": 202,
   "metadata": {},
   "outputs": [
    {
     "name": "stdout",
     "output_type": "stream",
     "text": [
      "100\n",
      "101\n",
      "102\n",
      "103\n",
      "104\n",
      "105\n",
      "model.pkl\n",
      "texts\n"
     ]
    }
   ],
   "source": [
    "!ls articles"
   ]
  },
  {
   "cell_type": "code",
   "execution_count": 203,
   "metadata": {},
   "outputs": [
    {
     "ename": "TypeError",
     "evalue": "copy() missing 1 required positional argument: 'dst'",
     "output_type": "error",
     "traceback": [
      "\u001b[1;31m---------------------------------------------------------------------------\u001b[0m",
      "\u001b[1;31mTypeError\u001b[0m                                 Traceback (most recent call last)",
      "\u001b[1;32m<ipython-input-203-e8e32ff728f0>\u001b[0m in \u001b[0;36m<module>\u001b[1;34m\u001b[0m\n\u001b[1;32m----> 1\u001b[1;33m \u001b[0mshutil\u001b[0m\u001b[1;33m.\u001b[0m\u001b[0mcopy\u001b[0m\u001b[1;33m(\u001b[0m\u001b[1;34m\"articles/txt/{}\"\u001b[0m\u001b[1;33m.\u001b[0m\u001b[0mformat\u001b[0m\u001b[1;33m(\u001b[0m\u001b[0marticles\u001b[0m\u001b[1;33m[\u001b[0m\u001b[1;36m0\u001b[0m\u001b[1;33m]\u001b[0m\u001b[1;33m)\u001b[0m\u001b[1;33m)\u001b[0m\u001b[1;33m,\u001b[0m \u001b[1;34m\"articles/{}/{}\"\u001b[0m\u001b[1;33m.\u001b[0m\u001b[0mformat\u001b[0m\u001b[1;33m(\u001b[0m\u001b[0mresult\u001b[0m\u001b[1;33m,\u001b[0m\u001b[0marticles\u001b[0m\u001b[1;33m[\u001b[0m\u001b[1;36m0\u001b[0m\u001b[1;33m]\u001b[0m\u001b[1;33m)\u001b[0m\u001b[1;33m\u001b[0m\u001b[1;33m\u001b[0m\u001b[0m\n\u001b[0m",
      "\u001b[1;31mTypeError\u001b[0m: copy() missing 1 required positional argument: 'dst'"
     ]
    }
   ],
   "source": [
    "shutil.copy(\"articles/txt/{}\".format(articles[0])), \"articles/{}/{}\".format(result,articles[0])"
   ]
  },
  {
   "cell_type": "code",
   "execution_count": 204,
   "metadata": {},
   "outputs": [],
   "source": [
    "!ls articles/101"
   ]
  },
  {
   "cell_type": "code",
   "execution_count": 206,
   "metadata": {},
   "outputs": [],
   "source": [
    "# 7. 반복문으로 만들기"
   ]
  },
  {
   "cell_type": "code",
   "execution_count": 207,
   "metadata": {},
   "outputs": [
    {
     "data": {
      "text/plain": [
       "{100: '정치', 101: '경제', 102: '사회', 103: '생활/문화', 104: '세계', 105: 'IT/과학'}"
      ]
     },
     "execution_count": 207,
     "metadata": {},
     "output_type": "execute_result"
    }
   ],
   "source": [
    "categories"
   ]
  },
  {
   "cell_type": "code",
   "execution_count": 208,
   "metadata": {},
   "outputs": [
    {
     "data": {
      "text/plain": [
       "['100_115일째법안처리한건도안한여야“20대국회는끝났다”.txt', '100_7월국회앞두고도여야추경-안보네탓공방만(종합).txt']"
      ]
     },
     "execution_count": 208,
     "metadata": {},
     "output_type": "execute_result"
    }
   ],
   "source": [
    "articles[:2]"
   ]
  },
  {
   "cell_type": "code",
   "execution_count": 209,
   "metadata": {},
   "outputs": [
    {
     "data": {
      "text/plain": [
       "Pipeline(steps=[('vect', TfidfVectorizer()),\n",
       "                ('clf', MultinomialNB(alpha=0.01))])"
      ]
     },
     "execution_count": 209,
     "metadata": {},
     "output_type": "execute_result"
    }
   ],
   "source": [
    "model"
   ]
  },
  {
   "cell_type": "code",
   "execution_count": 217,
   "metadata": {
    "scrolled": true
   },
   "outputs": [
    {
     "ename": "UnicodeDecodeError",
     "evalue": "'cp949' codec can't decode byte 0xe2 in position 0: illegal multibyte sequence",
     "output_type": "error",
     "traceback": [
      "\u001b[1;31m---------------------------------------------------------------------------\u001b[0m",
      "\u001b[1;31mUnicodeDecodeError\u001b[0m                        Traceback (most recent call last)",
      "\u001b[1;32m<ipython-input-217-c45bf9f97f2c>\u001b[0m in \u001b[0;36m<module>\u001b[1;34m\u001b[0m\n\u001b[0;32m      3\u001b[0m     \u001b[1;31m# 1. 기사 파일을 읽어오기\u001b[0m\u001b[1;33m\u001b[0m\u001b[1;33m\u001b[0m\u001b[1;33m\u001b[0m\u001b[0m\n\u001b[0;32m      4\u001b[0m     \u001b[1;32mwith\u001b[0m \u001b[0mopen\u001b[0m\u001b[1;33m(\u001b[0m\u001b[1;34m\"articles/texts/{}\"\u001b[0m\u001b[1;33m.\u001b[0m\u001b[0mformat\u001b[0m\u001b[1;33m(\u001b[0m\u001b[0mfilename\u001b[0m\u001b[1;33m)\u001b[0m\u001b[1;33m,\u001b[0m \u001b[1;34m\"rt\"\u001b[0m\u001b[1;33m)\u001b[0m \u001b[1;32mas\u001b[0m \u001b[0mfile\u001b[0m\u001b[1;33m:\u001b[0m\u001b[1;33m\u001b[0m\u001b[1;33m\u001b[0m\u001b[0m\n\u001b[1;32m----> 5\u001b[1;33m         \u001b[0mtxt\u001b[0m \u001b[1;33m=\u001b[0m \u001b[0mfile\u001b[0m\u001b[1;33m.\u001b[0m\u001b[0mread\u001b[0m\u001b[1;33m(\u001b[0m\u001b[1;33m)\u001b[0m\u001b[1;33m\u001b[0m\u001b[1;33m\u001b[0m\u001b[0m\n\u001b[0m\u001b[0;32m      6\u001b[0m \u001b[1;33m\u001b[0m\u001b[0m\n\u001b[0;32m      7\u001b[0m     \u001b[1;31m# 2. 모델로 카테고리를 예측하기\u001b[0m\u001b[1;33m\u001b[0m\u001b[1;33m\u001b[0m\u001b[1;33m\u001b[0m\u001b[0m\n",
      "\u001b[1;31mUnicodeDecodeError\u001b[0m: 'cp949' codec can't decode byte 0xe2 in position 0: illegal multibyte sequence"
     ]
    }
   ],
   "source": [
    "for idx, filename in enumerate(articles):\n",
    "    \n",
    "    # 1. 기사 파일을 읽어오기\n",
    "    with open(\"articles/texts/{}\".format(filename), \"rt\") as file:\n",
    "        txt = file.read()\n",
    "    \n",
    "    # 2. 모델로 카테고리를 예측하기\n",
    "    result = model.predict([txt])[0]\n",
    "    \n",
    "    # 3. 파일 이동하기\n",
    "    shutil.copy(\"articles/texts/{}\".format(filename), \"articles/{}/{}\".format(result, filename))\n",
    "    \n",
    "    print(idx, end=\" \")\n"
   ]
  },
  {
   "cell_type": "code",
   "execution_count": 221,
   "metadata": {},
   "outputs": [],
   "source": [
    "!ls articles/103"
   ]
  }
 ],
 "metadata": {
  "kernelspec": {
   "display_name": "Python 3",
   "language": "python",
   "name": "python3"
  },
  "language_info": {
   "codemirror_mode": {
    "name": "ipython",
    "version": 3
   },
   "file_extension": ".py",
   "mimetype": "text/x-python",
   "name": "python",
   "nbconvert_exporter": "python",
   "pygments_lexer": "ipython3",
   "version": "3.8.3"
  }
 },
 "nbformat": 4,
 "nbformat_minor": 4
}
