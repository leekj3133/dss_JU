{
 "cells": [
  {
   "cell_type": "markdown",
   "metadata": {
    "id": "ctxghwjGMH98"
   },
   "source": [
    "# Pre-School 과제 - Python\n",
    "\n",
    "----\n",
    "1. 아래의 과제를 보고 코드를 작성하시면 됩니다.\n",
    "2. 클래스 매니저님께서 과제에 대한 코드를 실행한 후에 정량적/정성적으로 평가할 예정입니다.\n",
    "3. 과제에 대한 점수는 100점 만점으로 진행이 됩니다.\n",
    "4. 퀴즈 및 과제기한은 11월 29일(일) 저녁 10시 까지 입니다.\n",
    "6. 반드시 코드 작성란에만 코드를 작성하시고, 그 외에는 절대로 내용을 수정하지 마세요.\n",
    "7. 작성란에 작성된 코드가 동작하는지 반드시 확인하세요. 코드가 동작하지 않으면 0점 처리됩니다. (예 : Syntax error 등 코드가 작동되지 않을 때)\n",
    "8. ***예시 입출력이 주어진 경우, 최소한 예시 입력에 대해 출력이 정상적으로 이루어져야 점수가 주어집니다. 예시 입력에 대해 동작시키는 것은 과제 제출의 최소 조건입니다.***\n",
    "----"
   ]
  },
  {
   "cell_type": "markdown",
   "metadata": {
    "id": "C73aTqaR5Tp2"
   },
   "source": []
  },
  {
   "cell_type": "markdown",
   "metadata": {
    "id": "qnQSO49ku2ra"
   },
   "source": [
    "### 1. 전화번호에서 지역번호만 가져오기\n",
    "(10 점)\n",
    "\n",
    "아래 tel 이라는 변수에 전화번호가 저장되어 있습니다. 여기에서 **인덱스 값**을 활용하여 지역번호만 code 라는 변수에 저장하는 코드를 작성해주세요."
   ]
  },
  {
   "cell_type": "code",
   "execution_count": 12,
   "metadata": {
    "id": "vG4J0kw9NAnW"
   },
   "outputs": [
    {
     "name": "stdout",
     "output_type": "stream",
     "text": [
      "031\n"
     ]
    }
   ],
   "source": [
    "tel = \"031-1111-2222\"\n",
    "\n",
    "# 코드 작성란\n",
    "code = tel[:3]\n",
    "print(code)"
   ]
  },
  {
   "cell_type": "code",
   "execution_count": null,
   "metadata": {
    "colab": {
     "base_uri": "https://localhost:8080/",
     "height": 34
    },
    "id": "Qw-OtX_kvH90",
    "outputId": "90f24ef9-358d-48b6-8116-8967e7d5b544"
   },
   "outputs": [
    {
     "name": "stdout",
     "output_type": "stream",
     "text": [
      "031\n"
     ]
    }
   ],
   "source": [
    "# 결과를 확인해보는 코드입니다. \n",
    "\n",
    "print(code)"
   ]
  },
  {
   "cell_type": "markdown",
   "metadata": {
    "id": "vzNYO1cXy0go"
   },
   "source": [
    "### 2. 반대로 순서를 뒤집기\n",
    "(10 점)\n",
    "\n",
    "order 라는 변수에 1,2,3,4,5,6,7,8,9 문자열이 저장되어 있습니다. 이를 거꾸로 출력하는 코드를 작성해주세요. \n",
    "\n",
    "**반드시 인덱스 기능을 활용해야 합니다.**"
   ]
  },
  {
   "cell_type": "code",
   "execution_count": 5,
   "metadata": {
    "id": "O3LnlOsZNDpL"
   },
   "outputs": [
    {
     "data": {
      "text/plain": [
       "'9,8,7,6,5,4,3,2,1'"
      ]
     },
     "execution_count": 5,
     "metadata": {},
     "output_type": "execute_result"
    }
   ],
   "source": [
    "order = \"1,2,3,4,5,6,7,8,9\"\n",
    "\n",
    "# 코드 작성란\n",
    "order[::-1]\n"
   ]
  },
  {
   "cell_type": "code",
   "execution_count": null,
   "metadata": {
    "colab": {
     "base_uri": "https://localhost:8080/",
     "height": 34
    },
    "id": "fkdXf_nCy1XW",
    "outputId": "d6f29562-cf9d-4b77-aef9-82962c0c6935"
   },
   "outputs": [
    {
     "data": {
      "text/plain": [
       "'9,8,7,6,5,4,3,2,1'"
      ]
     },
     "execution_count": 6,
     "metadata": {
      "tags": []
     },
     "output_type": "execute_result"
    }
   ],
   "source": [
    "# 결과를 확인해보는 코드입니다.\n",
    "print(order)"
   ]
  },
  {
   "cell_type": "markdown",
   "metadata": {
    "id": "M2CnSSMdcjP4"
   },
   "source": [
    "### 3. 리스트에서 가장 마지막 값을 뽑아내기(마지막 값은 뽑은 후 삭제되도록)\n",
    "(10 점)\n",
    "\n",
    "노트북을 구매하기 위해 4개의 제품을 선택했고 이를 리스트에 저장했습니다.\n",
    "\n",
    "products = [\"A\", \"B\", \"C\", \"D\"]\n",
    "\n",
    "여기에서 리스트에 있는 **함수**를 활용하여 가장 마지막 제품을 하나 뽑아서 c 라는 변수에 저장해주세요.\n",
    "\n",
    "참고 : c 변수에는 마지막 \"D\" 가 저장되고, products 는 \"A\", \"B\", \"C\" 가 있어야 합니다."
   ]
  },
  {
   "cell_type": "code",
   "execution_count": 22,
   "metadata": {
    "id": "y2Pr7aC0gfF6"
   },
   "outputs": [
    {
     "name": "stdout",
     "output_type": "stream",
     "text": [
      "['D'] ['A', 'B', 'C']\n"
     ]
    }
   ],
   "source": [
    "products = [\"A\", \"B\", \"C\", \"D\"]\n",
    "\n",
    "# 코드 작성란\n",
    "c = []\n",
    "c.append(products[-1])\n",
    "products = products[:3]\n",
    "print(c,products)\n"
   ]
  },
  {
   "cell_type": "markdown",
   "metadata": {
    "id": "LIUHCxGwcLYF"
   },
   "source": [
    "### 4. 형변환\n",
    "(10 점)\n",
    "\n",
    "아래 4개의 변수에는 각각 설문 응답여부를 1(응답), 0(미응답) 형태로 저장되어 있습니다.\n",
    "이를 boolean 타입을 변경하려 합니다. 형변환을 통해 boolean 타입으로 같은 이름의 변수에 덮어써주세요.\n",
    "\n",
    "즉 1(응답) 이면 True, 0(미응답) 은 False 로 출력 해주세요.\n",
    "\n"
   ]
  },
  {
   "cell_type": "code",
   "execution_count": 14,
   "metadata": {
    "colab": {
     "base_uri": "https://localhost:8080/",
     "height": 34
    },
    "id": "PpuKfTfhaw9G",
    "outputId": "5f191e7c-42c6-4ac9-938e-8095d36ebdfb"
   },
   "outputs": [
    {
     "data": {
      "text/plain": [
       "(True, False, False, True)"
      ]
     },
     "execution_count": 14,
     "metadata": {},
     "output_type": "execute_result"
    }
   ],
   "source": [
    "# 아래 4줄 코드는 수정하지 마세요.\n",
    "check1 = 1\n",
    "check2 = 0\n",
    "check3 = 0\n",
    "check4 = 1\n",
    "\n",
    "# 코드 작성란\n",
    "bool(check1),bool(check2),bool(check3),bool(check4)"
   ]
  },
  {
   "cell_type": "markdown",
   "metadata": {
    "id": "1CctPnWBi6o5"
   },
   "source": [
    "### 5. 나이에 따른 버스 요금\n",
    "(10 점)\n",
    "\n",
    "사용자에게 나이(변수명 : age)를 입력받은 후, 아래의 운임요금(변수명 : fare) 기준에 맞게 버스 요금을 계산해주세요.\n",
    "\n",
    "- 7세 이하 : 0원\n",
    "- 8세 이상 ~ 20세 이하 : 700원\n",
    "- 21세 이상 : 1200원\n"
   ]
  },
  {
   "cell_type": "code",
   "execution_count": 1,
   "metadata": {
    "id": "3f_ud59eisE4"
   },
   "outputs": [
    {
     "name": "stdout",
     "output_type": "stream",
     "text": [
      "나이: 7\n",
      "7세 0원\n"
     ]
    }
   ],
   "source": [
    "# 코드 작성란\n",
    "age, fare = int(input(\"나이: \")),0\n",
    "if age<=7:\n",
    "    print(\"{}세\".format(age),\"{}원\".format(fare + 0 ))\n",
    "elif age<=20:\n",
    "    print(\"{}세\".format(age),\"{}원\".format(fare + 700 ))\n",
    "else:\n",
    "    print(\"{}세\".format(age),\"{}원\".format(fare + 0 ))"
   ]
  },
  {
   "cell_type": "markdown",
   "metadata": {
    "id": "XoALAT15M2nh"
   },
   "source": [
    "### 6. 4번째 고객마다 상품권 증정 \n",
    "\n",
    "(10 점)\n",
    "\n",
    "방문하는 고객 중 5번째 마다 상품권을 증정( status = \"상품권 증정\" ) 하는 코드를 작성해주세요."
   ]
  },
  {
   "cell_type": "code",
   "execution_count": 15,
   "metadata": {
    "id": "bHxCD-woK00t"
   },
   "outputs": [
    {
     "name": "stdout",
     "output_type": "stream",
     "text": [
      "count : 1\n",
      "count : 1 , 증정하지 않음\n"
     ]
    }
   ],
   "source": [
    "# 코드 작성란\n",
    "data = int(input(\"count : \"))\n",
    "if not data%5:\n",
    "    print(\"count : {}\".format(data),\",\", \"상품권 증정\")\n",
    "else:\n",
    "    print(\"count : {}\".format(data),\",\", \"증정하지 않음\")"
   ]
  },
  {
   "cell_type": "code",
   "execution_count": 14,
   "metadata": {},
   "outputs": [
    {
     "name": "stdout",
     "output_type": "stream",
     "text": [
      "count : 4\n",
      "count : 4 , 증정하지 않음\n"
     ]
    }
   ],
   "source": [
    "data = int(input(\"count : \"))\n",
    "if not data%5:\n",
    "    print(\"count : {}\".format(data),\",\", \"상품권 증정\")\n",
    "else:\n",
    "    print(\"count : {}\".format(data),\",\", \"증정하지 않음\")"
   ]
  },
  {
   "cell_type": "code",
   "execution_count": 13,
   "metadata": {},
   "outputs": [
    {
     "name": "stdout",
     "output_type": "stream",
     "text": [
      "count : 5\n",
      "count : 5 , 상품권 증정\n"
     ]
    }
   ],
   "source": [
    "data = int(input(\"count : \"))\n",
    "if not data%5:\n",
    "    print(\"count : {}\".format(data),\",\", \"상품권 증정\")\n",
    "else:\n",
    "    print(\"count : {}\".format(data),\",\", \"증정하지 않음\")"
   ]
  },
  {
   "cell_type": "code",
   "execution_count": 12,
   "metadata": {},
   "outputs": [
    {
     "name": "stdout",
     "output_type": "stream",
     "text": [
      "count : 10\n",
      "count : 10 , 상품권 증정\n"
     ]
    }
   ],
   "source": [
    "data = int(input(\"count : \"))\n",
    "if not data%5:\n",
    "    print(\"count : {}\".format(data),\",\", \"상품권 증정\")\n",
    "else:\n",
    "    print(\"count : {}\".format(data),\",\", \"증정하지 않음\")"
   ]
  },
  {
   "cell_type": "code",
   "execution_count": 11,
   "metadata": {},
   "outputs": [
    {
     "name": "stdout",
     "output_type": "stream",
     "text": [
      "count : 15\n",
      "count : 15 , 상품권 증정\n"
     ]
    }
   ],
   "source": [
    "data = int(input(\"count : \"))\n",
    "if not data%5:\n",
    "    print(\"count : {}\".format(data),\",\", \"상품권 증정\")\n",
    "else:\n",
    "    print(\"count : {}\".format(data),\",\", \"증정하지 않음\")"
   ]
  },
  {
   "cell_type": "code",
   "execution_count": 10,
   "metadata": {},
   "outputs": [
    {
     "name": "stdout",
     "output_type": "stream",
     "text": [
      "count : 20\n",
      "count : 20 , 상품권 증정\n"
     ]
    }
   ],
   "source": [
    "data = int(input(\"count : \"))\n",
    "if not data%5:\n",
    "    print(\"count : {}\".format(data),\",\", \"상품권 증정\")\n",
    "else:\n",
    "    print(\"count : {}\".format(data),\",\", \"증정하지 않음\")"
   ]
  },
  {
   "cell_type": "code",
   "execution_count": 8,
   "metadata": {},
   "outputs": [
    {
     "name": "stdout",
     "output_type": "stream",
     "text": [
      "count : 8\n",
      "count : 8 , 증정하지 않음\n"
     ]
    }
   ],
   "source": [
    "data = int(input(\"count : \"))\n",
    "if not data%5:\n",
    "    print(\"count : {}\".format(data),\",\", \"상품권 증정\")\n",
    "else:\n",
    "    print(\"count : {}\".format(data),\",\", \"증정하지 않음\")"
   ]
  },
  {
   "cell_type": "code",
   "execution_count": 9,
   "metadata": {},
   "outputs": [
    {
     "name": "stdout",
     "output_type": "stream",
     "text": [
      "count : 7\n",
      "count : 7 , 증정하지 않음\n"
     ]
    }
   ],
   "source": [
    "data = int(input(\"count : \"))\n",
    "if not data%5:\n",
    "    print(\"count : {}\".format(data),\",\", \"상품권 증정\")\n",
    "else:\n",
    "    print(\"count : {}\".format(data),\",\", \"증정하지 않음\")"
   ]
  },
  {
   "cell_type": "code",
   "execution_count": null,
   "metadata": {
    "colab": {
     "base_uri": "https://localhost:8080/",
     "height": 167
    },
    "id": "bLLgz0DnRGmw",
    "outputId": "b6cc3b57-58b5-4dcb-a39b-74c990657ca5"
   },
   "outputs": [
    {
     "name": "stdout",
     "output_type": "stream",
     "text": [
      "count : 1 , 증정하지 않음\n",
      "count : 4 , 증정하지 않음\n",
      "count : 5 , 상품권 증정\n",
      "count : 10 , 상품권 증정\n",
      "count : 15 , 상품권 증정\n",
      "count : 20 , 상품권 증정\n",
      "count : 8 , 증정하지 않음\n",
      "count : 7 , 증정하지 않음\n"
     ]
    }
   ],
   "source": [
    "# 출력 결과 예"
   ]
  },
  {
   "cell_type": "markdown",
   "metadata": {
    "id": "xqzt3MvfJa1z"
   },
   "source": [
    "### 7. Dictionary 에 계좌 잔액을 모두 더하는 코드 작성\n",
    "\n",
    "(10 점)\n",
    "\n",
    "accounts 라는 딕셔너리의 잔액 (value) 을 total 이라는 변수에 모두 더하여 출력해주세요.\n"
   ]
  },
  {
   "cell_type": "code",
   "execution_count": 3,
   "metadata": {
    "id": "9b5XdvuhK2X-"
   },
   "outputs": [
    {
     "name": "stdout",
     "output_type": "stream",
     "text": [
      "43653000\n"
     ]
    }
   ],
   "source": [
    "# 아래 accounts dictionary 는 수정하지 마세요.\n",
    "accounts = {\"A계좌\": 2322000, \"B계좌\": 34443000, \"C계좌\": 6888000}\n",
    "\n",
    "# 코드 작성란\n",
    "total = sum(accounts.values())\n",
    "print(total)"
   ]
  },
  {
   "cell_type": "code",
   "execution_count": null,
   "metadata": {
    "colab": {
     "base_uri": "https://localhost:8080/",
     "height": 36
    },
    "id": "-UBEUlbFKU4w",
    "outputId": "faf5b35b-ac6a-49b3-96db-7ab83cc07591"
   },
   "outputs": [
    {
     "name": "stdout",
     "output_type": "stream",
     "text": [
      "43653000\n"
     ]
    }
   ],
   "source": [
    "# 결과를 확인해보는 코드입니다.\n",
    "\n",
    "print(total)"
   ]
  },
  {
   "cell_type": "markdown",
   "metadata": {
    "id": "KzujwTCLGiBs"
   },
   "source": [
    "### 8. List Comprehension 으로 코드 작성해보기\n",
    "\n",
    "(10 점)\n",
    "\n",
    "아래와 같이 리스트 요소 중에  '음수' 가 있다면 0 으로 바꿔주는 코드를 **List Comprehension** 으로 작성해보세요. (이외에 방법으로 구현하면 부분배점 5점)\n",
    "\n"
   ]
  },
  {
   "cell_type": "code",
   "execution_count": 1,
   "metadata": {},
   "outputs": [],
   "source": [
    "numbers = [100, 200, -100, -50, 400, 700]\n",
    "\n",
    "# 코드 작성란\n"
   ]
  },
  {
   "cell_type": "code",
   "execution_count": null,
   "metadata": {},
   "outputs": [],
   "source": [
    "numbers = [100, 200, -100, -50, 400, 700]\n",
    "\n",
    "# 코드 작성란\n",
    "results,count = [],0\n",
    "for data in numbers:\n",
    "    if numbers[count] > 0:\n",
    "        print(numbers[count])\n",
    "        results.append(data)\n",
    "    \n",
    "    else:\n",
    "        print(0)\n",
    "        results.append(data)\n",
    "        \n",
    "    count +=1\n",
    "results\n",
    "\n",
    "# for은 맞으나 results 실행시 코드 다름"
   ]
  },
  {
   "cell_type": "code",
   "execution_count": 96,
   "metadata": {},
   "outputs": [
    {
     "name": "stdout",
     "output_type": "stream",
     "text": [
      "[100, 200, 0, 0, 400, 700]\n"
     ]
    }
   ],
   "source": [
    "results = [x if not x < 0 else 0 for x in numbers ] \n",
    "print(results)"
   ]
  },
  {
   "cell_type": "code",
   "execution_count": null,
   "metadata": {
    "colab": {
     "base_uri": "https://localhost:8080/",
     "height": 36
    },
    "id": "PcNxDpdAH0kh",
    "outputId": "3482ec56-9676-4732-8300-cc3c7d745df9"
   },
   "outputs": [
    {
     "name": "stdout",
     "output_type": "stream",
     "text": [
      "[100, 200, 0, 0, 400, 700]\n"
     ]
    }
   ],
   "source": [
    "# 결과를 확인해보는 코드입니다.\n",
    "\n",
    "print(results)"
   ]
  },
  {
   "cell_type": "markdown",
   "metadata": {
    "id": "wu6mICa-98r0"
   },
   "source": [
    "### 9. lambda 함수로 구현하기\n",
    "\n",
    "(10 점)\n",
    "\n",
    "아래 함수를 lambda 형식으로 구현해보세요. (이외에 방법으로 구현시 부분배점 5점)"
   ]
  },
  {
   "cell_type": "code",
   "execution_count": null,
   "metadata": {
    "colab": {
     "base_uri": "https://localhost:8080/",
     "height": 34
    },
    "id": "wvMD7m8E5M_M",
    "outputId": "8355abf1-630c-4151-c05a-c34e146a267f"
   },
   "outputs": [
    {
     "name": "stdout",
     "output_type": "stream",
     "text": [
      "15\n"
     ]
    }
   ],
   "source": [
    "def add(num):\n",
    "  return num + 10\n",
    "\n",
    "print(add(5))"
   ]
  },
  {
   "cell_type": "code",
   "execution_count": 27,
   "metadata": {
    "id": "A3CkMnOELQEY"
   },
   "outputs": [
    {
     "name": "stdout",
     "output_type": "stream",
     "text": [
      "15\n"
     ]
    }
   ],
   "source": [
    "# 여기에 위 add 함수와 같은 기능을 하는 lambda 함수를 구현해보세요. \n",
    "# 코드 작성란\n",
    "add_lambda = lambda x: x+10\n",
    "\n",
    "print(add_lambda(5))"
   ]
  },
  {
   "cell_type": "code",
   "execution_count": null,
   "metadata": {
    "colab": {
     "base_uri": "https://localhost:8080/",
     "height": 34
    },
    "id": "XzhTh3Zl-WnQ",
    "outputId": "c780e6e1-c879-4d1b-e4a1-9931e12f0556"
   },
   "outputs": [
    {
     "name": "stdout",
     "output_type": "stream",
     "text": [
      "15\n"
     ]
    }
   ],
   "source": [
    "# 결과를 확인해보는 코드입니다.\n",
    "\n",
    "print(add_lambda(5))"
   ]
  },
  {
   "cell_type": "markdown",
   "metadata": {
    "id": "iDv2jACTPP4d"
   },
   "source": [
    "### 10. callback function 으로 계산기 만들기\n",
    "\n",
    "(10 점)\n",
    "\n",
    "지난 시간에 만들어 보았던 \"더하기\", \"곱하기\" 를 계산해주는 함수를 callback function 으로 구현해보세요.\n",
    "\n",
    "#### 코드\n",
    "```python\n",
    "def calc(option, num1 = 100, num2 = 100):\n",
    "\n",
    "  if option == \"더하기\":\n",
    "    total = num1 + num2\n",
    "  elif option == \"곱하기\":\n",
    "    total = num1 * num2\n",
    "  else:\n",
    "    total = 0\n",
    "\n",
    "  return total\n",
    "```\n",
    "\n",
    "#### callback function 으로 구현할 때 지켜야 할 사항\n",
    "1. \"더하기\" 는 add(), \"곱하기\" 는 mul() 라는 함수를 만듭니다.\n",
    "2. 실제 사용자가 더하기 혹은 곱하기 계산을 시키기 위해 사용할 함수 이름은 calc() 입니다.\n",
    "3. 위 샘플 함수내에 조건문에 else 는 무시합니다.\n",
    "4. 위 샘플 함수처럼 숫자값을 입력하지 않으면 기본적으로 각각 100 을 할당하게 해주세요.\n"
   ]
  },
  {
   "cell_type": "code",
   "execution_count": 124,
   "metadata": {
    "id": "gKQnUR3pQaK7",
    "scrolled": true
   },
   "outputs": [
    {
     "data": {
      "text/plain": [
       "200"
      ]
     },
     "execution_count": 124,
     "metadata": {},
     "output_type": "execute_result"
    }
   ],
   "source": [
    "# 코드 작성란\n",
    "def calc(option, num1 = 100, num2 = 100):\n",
    "\n",
    "    if option == add:\n",
    "        total = num1 + num2\n",
    "        \n",
    "    elif option == mul:\n",
    "        total = num1 * num2\n",
    "        \n",
    "    return total\n",
    "\n",
    "def add(num1,num2):\n",
    "    return num1 + num2\n",
    "\n",
    "def mul(num1,num2):\n",
    "    return num1 * num2\n",
    "   \n",
    "calc(add)"
   ]
  },
  {
   "cell_type": "code",
   "execution_count": 125,
   "metadata": {},
   "outputs": [
    {
     "data": {
      "text/plain": [
       "9"
      ]
     },
     "execution_count": 125,
     "metadata": {},
     "output_type": "execute_result"
    }
   ],
   "source": [
    "# 코드 작성란\n",
    "def calc(option, num1 = 100, num2 = 100):\n",
    "\n",
    "    if option == add:\n",
    "        total = num1 + num2\n",
    "        \n",
    "    elif option == mul:\n",
    "        total = num1 * num2\n",
    "        \n",
    "        return total\n",
    "\n",
    "def add(num1,num2):\n",
    "    return num1 + num2\n",
    "\n",
    "def mul(num1,num2):\n",
    "    return num1 * num2\n",
    "   \n",
    "calc(mul,3,3)"
   ]
  },
  {
   "cell_type": "code",
   "execution_count": null,
   "metadata": {
    "colab": {
     "base_uri": "https://localhost:8080/",
     "height": 36
    },
    "id": "Fkv2-I4uQoXc",
    "outputId": "cd0338fd-05e2-48ba-c220-a0442aea0b40"
   },
   "outputs": [
    {
     "data": {
      "text/plain": [
       "200"
      ]
     },
     "execution_count": 2,
     "metadata": {
      "tags": []
     },
     "output_type": "execute_result"
    }
   ],
   "source": [
    "# 코드 실행 예\n",
    "\n",
    "calc(add)"
   ]
  },
  {
   "cell_type": "code",
   "execution_count": null,
   "metadata": {
    "colab": {
     "base_uri": "https://localhost:8080/",
     "height": 36
    },
    "id": "5Yu89EijQtvj",
    "outputId": "a9f4391b-bab7-4bb1-a582-0a2c1064f4c4"
   },
   "outputs": [
    {
     "data": {
      "text/plain": [
       "9"
      ]
     },
     "execution_count": 4,
     "metadata": {
      "tags": []
     },
     "output_type": "execute_result"
    }
   ],
   "source": [
    "# 코드 실행 예\n",
    "\n",
    "calc(mul, 3, 3)"
   ]
  }
 ],
 "metadata": {
  "colab": {
   "collapsed_sections": [],
   "name": "1주차 과제 - 데이터 사이언스 온라인 완주반.ipynb",
   "provenance": []
  },
  "kernelspec": {
   "display_name": "Python 3",
   "language": "python",
   "name": "python3"
  },
  "language_info": {
   "codemirror_mode": {
    "name": "ipython",
    "version": 3
   },
   "file_extension": ".py",
   "mimetype": "text/x-python",
   "name": "python",
   "nbconvert_exporter": "python",
   "pygments_lexer": "ipython3",
   "version": "3.8.3"
  }
 },
 "nbformat": 4,
 "nbformat_minor": 1
}
