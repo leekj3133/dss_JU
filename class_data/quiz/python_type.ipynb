{
 "cells": [
  {
   "cell_type": "markdown",
   "metadata": {},
   "source": [
    "### 파이썬 문법\n",
    "- 변수 선언\n",
    "    - RAM에 데이터를 저장하는 방법\n",
    "- 데아터 타입\n",
    "        - 효율적으로  RAM 공간을 사용하기 위한 방법\n",
    "        - int, float, str....\n",
    "        -  숫자는 작은 공간 사용, 문자열은 큰공간 사용\n",
    "- 연산자\n",
    "     - CPU 자원을 사용하기 위한 문법\n",
    "     - 산술 연산자, 할당연산자, 비교연산자, 논리 연산자, 멤버 연산자\n",
    "- 조건문\n",
    "    - 특정 조건에 달라서 코드를 실행\n",
    "    - if, else, elif\n",
    "- 반복문\n",
    "    - 특정 코드를 여러번 실행\n",
    "    - while, for, break, continue\n",
    "- 함수\n",
    "    - 중복되는 코드를 묶어서 사용하는 방법\n",
    "    - def\n",
    "    \n",
    "-> 여기까지 하면 알고리즘 가능\n",
    "- 클래스\n",
    "    - 변수, 함수를 묶어서 사용하는 방법\n",
    "    - class\n",
    "- 모듈\n",
    "    - 코드를 하나의 파일로 묶어서 사용하는 방법\n",
    "- 패키지\n",
    "    -여러개의 모듈을 디렉토리로 구분해서 사용하는 방법\n",
    "    \n",
    "-> 여기까지 배울거임\n",
    "- 예외 처리\n",
    "     - 코드의 실행에서 에러가 발생하는 경우 에러를 처리하는 방법\n",
    "- 입출력(I/O)\n",
    "    - RAM 저장공간과 Hard  Disk  저장 공간 사이에 입력과 출력하는 방법\n",
    "- 정규표현식\n",
    "    - 문자열 데이터를 패턴으로 처리하는 방법"
   ]
  },
  {
   "cell_type": "code",
   "execution_count": null,
   "metadata": {},
   "outputs": [],
   "source": []
  },
  {
   "cell_type": "code",
   "execution_count": null,
   "metadata": {},
   "outputs": [],
   "source": []
  },
  {
   "cell_type": "code",
   "execution_count": null,
   "metadata": {},
   "outputs": [],
   "source": []
  }
 ],
 "metadata": {
  "kernelspec": {
   "display_name": "Python 3",
   "language": "python",
   "name": "python3"
  },
  "language_info": {
   "codemirror_mode": {
    "name": "ipython",
    "version": 3
   },
   "file_extension": ".py",
   "mimetype": "text/x-python",
   "name": "python",
   "nbconvert_exporter": "python",
   "pygments_lexer": "ipython3",
   "version": "3.8.3"
  }
 },
 "nbformat": 4,
 "nbformat_minor": 4
}
