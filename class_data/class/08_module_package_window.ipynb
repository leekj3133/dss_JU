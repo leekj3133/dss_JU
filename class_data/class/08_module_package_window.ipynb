{
 "cells": [
  {
   "cell_type": "markdown",
   "metadata": {},
   "source": [
    "### summary\n",
    "- 상속: 다른 클래스를 받아서 기능을 추가해서 새로운 클래스를 만드는 방법\n",
    "- super : 부모 클래스에서 특정 함수의 코드를 가져오는 방법\n",
    "- getter, setter : 클래스로 만들어진 객체의 변수값을 수정할 때 특정 함수를 통해서 수정하고 출력하는 방법\n",
    "- non public(private) : mangling (__) `_(클래스명)` 이 붙은 변수로 객체를 생성할 때 변경이 되어서 생성\n",
    "- mangling과 getter setter를 같이 사용할 경우 특정 변수에 getter setter를 이용해서만 접근할 수 있게끔 클래스를 작성 할 수 있다.\n",
    "- is a / has a : 클래스를 설계하는 방법\n",
    "- is a : 상속을 받아서 클래스를 만드는 방법(name,email -> info)\n",
    "- has a : 클래스 안에 객체를 넣어서 객체를 가지고 함수를 만드는 방법\n",
    " (name,email 객체를 class생성자쪽에서 받아서 class를 만드는 방법)\n",
    "- 둘다 같이 혼합 사용, 하나만 사용하지 않음\n",
    "- magic(special) method\n",
    "    - 비교 \n",
    "        - `__eq__`(==),`__ne__`(!=),\n",
    "        - `__lt__`(<),`__gt__(>)`,`__le__`(<=),`__ge__`(>=)\n",
    "    - 연산 \n",
    "        - `__add__`(+),`__sub__`(-),`__mul__`(`*`),`__truediv__`(/),\n",
    "        - `__floordiv__`(//),`__mod__(%)`,`__pow__`(`**`)\n",
    "    - 그외 : `__repr__`, `__str__`"
   ]
  },
  {
   "cell_type": "code",
   "execution_count": 20,
   "metadata": {},
   "outputs": [],
   "source": [
    "# Integer 객체\n",
    "class Integer:\n",
    "    \n",
    "    def __init__(self, number):\n",
    "        self.number = number\n"
   ]
  },
  {
   "cell_type": "code",
   "execution_count": 21,
   "metadata": {},
   "outputs": [],
   "source": [
    "num1 = Integer(1)\n",
    "num2 = Integer(2)"
   ]
  },
  {
   "cell_type": "code",
   "execution_count": 22,
   "metadata": {},
   "outputs": [
    {
     "ename": "TypeError",
     "evalue": "unsupported operand type(s) for +: 'Integer' and 'Integer'",
     "output_type": "error",
     "traceback": [
      "\u001b[1;31m---------------------------------------------------------------------------\u001b[0m",
      "\u001b[1;31mTypeError\u001b[0m                                 Traceback (most recent call last)",
      "\u001b[1;32m<ipython-input-22-fc4e10997863>\u001b[0m in \u001b[0;36m<module>\u001b[1;34m\u001b[0m\n\u001b[1;32m----> 1\u001b[1;33m \u001b[0mnum1\u001b[0m \u001b[1;33m+\u001b[0m \u001b[0mnum2\u001b[0m\u001b[1;33m\u001b[0m\u001b[1;33m\u001b[0m\u001b[0m\n\u001b[0m",
      "\u001b[1;31mTypeError\u001b[0m: unsupported operand type(s) for +: 'Integer' and 'Integer'"
     ]
    }
   ],
   "source": [
    "num1 + num2"
   ]
  },
  {
   "cell_type": "code",
   "execution_count": 19,
   "metadata": {},
   "outputs": [],
   "source": [
    "# Integer 객체\n",
    "class Integer:\n",
    "    \n",
    "    def __init__(self, number):\n",
    "        self.number = number\n",
    "        \n",
    "    def __add__(self,obj):\n",
    "        return self.number + obj.number"
   ]
  },
  {
   "cell_type": "code",
   "execution_count": 7,
   "metadata": {},
   "outputs": [],
   "source": [
    "num1 = Integer(1)\n",
    "num2 = Integer(2)"
   ]
  },
  {
   "cell_type": "code",
   "execution_count": 9,
   "metadata": {},
   "outputs": [
    {
     "data": {
      "text/plain": [
       "3"
      ]
     },
     "execution_count": 9,
     "metadata": {},
     "output_type": "execute_result"
    }
   ],
   "source": [
    "num1 + num2"
   ]
  },
  {
   "cell_type": "code",
   "execution_count": 12,
   "metadata": {},
   "outputs": [],
   "source": [
    "a = 1"
   ]
  },
  {
   "cell_type": "code",
   "execution_count": 13,
   "metadata": {},
   "outputs": [
    {
     "data": {
      "text/plain": [
       "1"
      ]
     },
     "execution_count": 13,
     "metadata": {},
     "output_type": "execute_result"
    }
   ],
   "source": [
    "a"
   ]
  },
  {
   "cell_type": "code",
   "execution_count": 14,
   "metadata": {},
   "outputs": [
    {
     "name": "stdout",
     "output_type": "stream",
     "text": [
      "1\n"
     ]
    }
   ],
   "source": [
    "print(a)"
   ]
  },
  {
   "cell_type": "code",
   "execution_count": 15,
   "metadata": {},
   "outputs": [
    {
     "data": {
      "text/plain": [
       "<__main__.Integer at 0x1cea7b8c6a0>"
      ]
     },
     "execution_count": 15,
     "metadata": {},
     "output_type": "execute_result"
    }
   ],
   "source": [
    "num1"
   ]
  },
  {
   "cell_type": "code",
   "execution_count": 16,
   "metadata": {},
   "outputs": [
    {
     "name": "stdout",
     "output_type": "stream",
     "text": [
      "<__main__.Integer object at 0x000001CEA7B8C6A0>\n"
     ]
    }
   ],
   "source": [
    "print(num1)"
   ]
  },
  {
   "cell_type": "code",
   "execution_count": 28,
   "metadata": {},
   "outputs": [],
   "source": [
    "class Integer:\n",
    "    \n",
    "    def __init__(self, number):\n",
    "        self.number = number\n",
    "        \n",
    "    def __add__(self,obj):\n",
    "        return self.number + obj.number\n",
    "    \n",
    "    def __str__(self):\n",
    "        return str(self.number)\n",
    "    \n",
    "    def __repr__(self):\n",
    "        return str(self.number)\n",
    "    \n",
    "    # string data를 retrun 을 해줘야 정상적으로 작동이 됨!"
   ]
  },
  {
   "cell_type": "code",
   "execution_count": 29,
   "metadata": {},
   "outputs": [],
   "source": [
    "num1 = Integer(1)\n",
    "num2 = Integer(2)"
   ]
  },
  {
   "cell_type": "code",
   "execution_count": 30,
   "metadata": {},
   "outputs": [
    {
     "data": {
      "text/plain": [
       "3"
      ]
     },
     "execution_count": 30,
     "metadata": {},
     "output_type": "execute_result"
    }
   ],
   "source": [
    "num1 + num2"
   ]
  },
  {
   "cell_type": "code",
   "execution_count": 31,
   "metadata": {},
   "outputs": [
    {
     "data": {
      "text/plain": [
       "1"
      ]
     },
     "execution_count": 31,
     "metadata": {},
     "output_type": "execute_result"
    }
   ],
   "source": [
    "num1"
   ]
  },
  {
   "cell_type": "code",
   "execution_count": 32,
   "metadata": {},
   "outputs": [
    {
     "name": "stdout",
     "output_type": "stream",
     "text": [
      "1\n"
     ]
    }
   ],
   "source": [
    "print(num1)"
   ]
  },
  {
   "cell_type": "code",
   "execution_count": 34,
   "metadata": {},
   "outputs": [],
   "source": [
    "# 계좌 클래스 만들기\n",
    "# 변수 : 자산(asset), 이자율(interest)\n",
    "# 함수 : 안출(draw), 입금(insert), 이자추가(add_interest)\n",
    "# 인출시 자산이상의 돈을 인출할 수 없습니다."
   ]
  },
  {
   "cell_type": "code",
   "execution_count": 60,
   "metadata": {},
   "outputs": [],
   "source": [
    "class Account:\n",
    "    \n",
    "    def __init__(self, asset=0, interest= 1.05):\n",
    "        self.asset = asset\n",
    "        self.interest = interest\n",
    "        \n",
    "    def draw(self,money):\n",
    "        if self.asset >= money:\n",
    "            self.asset -= money\n",
    "            print(\"{}원이 인출되었습니다.\".format(money))\n",
    "        else:\n",
    "            print(\"인출금이 {}원 부족합니다.\".format(money-self.asset))\n",
    "            \n",
    "    def insert(self, money):\n",
    "        self.asset += money\n",
    "        print(\"{}원이 입금 되었습니다.\".format(money))\n",
    "    \n",
    "    def add_interest(self):\n",
    "        self.asset *= self.interest\n",
    "        print(\"이자가 지급되었습니다.\")\n",
    "\n",
    "    def __repr__(self):\n",
    "        return \"Account(asset:{}, interest{})\".format(self.asset,self.interest)"
   ]
  },
  {
   "cell_type": "code",
   "execution_count": 61,
   "metadata": {},
   "outputs": [],
   "source": [
    "account1 = Account(10000)"
   ]
  },
  {
   "cell_type": "code",
   "execution_count": 62,
   "metadata": {},
   "outputs": [
    {
     "data": {
      "text/plain": [
       "(10000, 1.05)"
      ]
     },
     "execution_count": 62,
     "metadata": {},
     "output_type": "execute_result"
    }
   ],
   "source": [
    "account1.asset, account1.interest"
   ]
  },
  {
   "cell_type": "code",
   "execution_count": 63,
   "metadata": {},
   "outputs": [
    {
     "data": {
      "text/plain": [
       "Account(asset:10000, interest1.05)"
      ]
     },
     "execution_count": 63,
     "metadata": {},
     "output_type": "execute_result"
    }
   ],
   "source": [
    "account1"
   ]
  },
  {
   "cell_type": "code",
   "execution_count": 64,
   "metadata": {},
   "outputs": [
    {
     "name": "stdout",
     "output_type": "stream",
     "text": [
      "인출금이 2000원 부족합니다.\n"
     ]
    }
   ],
   "source": [
    "account1.draw(12000)"
   ]
  },
  {
   "cell_type": "code",
   "execution_count": 65,
   "metadata": {},
   "outputs": [
    {
     "name": "stdout",
     "output_type": "stream",
     "text": [
      "3000원이 인출되었습니다.\n"
     ]
    }
   ],
   "source": [
    "account1.draw(3000)"
   ]
  },
  {
   "cell_type": "code",
   "execution_count": 66,
   "metadata": {},
   "outputs": [
    {
     "data": {
      "text/plain": [
       "Account(asset:7000, interest1.05)"
      ]
     },
     "execution_count": 66,
     "metadata": {},
     "output_type": "execute_result"
    }
   ],
   "source": [
    "account1"
   ]
  },
  {
   "cell_type": "code",
   "execution_count": 67,
   "metadata": {},
   "outputs": [
    {
     "name": "stdout",
     "output_type": "stream",
     "text": [
      "5000원이 입금 되었습니다.\n"
     ]
    }
   ],
   "source": [
    "account1.insert(5000)"
   ]
  },
  {
   "cell_type": "code",
   "execution_count": 68,
   "metadata": {},
   "outputs": [
    {
     "data": {
      "text/plain": [
       "Account(asset:12000, interest1.05)"
      ]
     },
     "execution_count": 68,
     "metadata": {},
     "output_type": "execute_result"
    }
   ],
   "source": [
    "account1"
   ]
  },
  {
   "cell_type": "code",
   "execution_count": 69,
   "metadata": {},
   "outputs": [
    {
     "name": "stdout",
     "output_type": "stream",
     "text": [
      "이자가 지급되었습니다.\n"
     ]
    }
   ],
   "source": [
    "account1.add_interest()"
   ]
  },
  {
   "cell_type": "code",
   "execution_count": 70,
   "metadata": {},
   "outputs": [
    {
     "data": {
      "text/plain": [
       "Account(asset:12600.0, interest1.05)"
      ]
     },
     "execution_count": 70,
     "metadata": {},
     "output_type": "execute_result"
    }
   ],
   "source": [
    "account1"
   ]
  },
  {
   "cell_type": "code",
   "execution_count": 71,
   "metadata": {},
   "outputs": [],
   "source": [
    "# 가독성이 좋은 방법: 리팩토링"
   ]
  },
  {
   "cell_type": "markdown",
   "metadata": {},
   "source": [
    "### Module Package\n",
    "- 모듈 : 변수, 함수, 클래스를 모아놓은 (.py) 확장자를 가진 파일\n",
    "- 클래스보다 조금 더 큰 규모\n",
    "- 패키지 : 모듈의 기능을 디렉토리별로 정리해 놓은 개념"
   ]
  },
  {
   "cell_type": "markdown",
   "metadata": {},
   "source": [
    "#### 1. 모듈\n",
    "- 모듈 생성\n",
    "- 모듈 호출"
   ]
  },
  {
   "cell_type": "code",
   "execution_count": 1,
   "metadata": {},
   "outputs": [
    {
     "name": "stdout",
     "output_type": "stream",
     "text": [
      "__pycache__\n",
      "01_io.ipynb\n",
      "01_jupyter notebook.ipynb\n",
      "02_basic_syntax.ipynb\n",
      "03_condition_loop.ipynb\n",
      "04_function.ipynb\n",
      "05_function_2.ipynb\n",
      "06_class.ipynb\n",
      "07_Class_2.ipynb\n",
      "08_module_package.ipynb\n",
      "08_module_package_.ipynb\n",
      "09_try_except.ipynb\n",
      "20.12.16 quiz.ipynb\n",
      "20.12.21 quiz.ipynb\n",
      "quiz_20_12_25.ipynb\n",
      "school\n"
     ]
    }
   ],
   "source": [
    "!ls"
   ]
  },
  {
   "cell_type": "code",
   "execution_count": 2,
   "metadata": {},
   "outputs": [
    {
     "name": "stdout",
     "output_type": "stream",
     "text": [
      "Writing dss.py\n"
     ]
    }
   ],
   "source": [
    "%%writefile dss.py\n",
    "\n",
    "num = 1234\n",
    "\n",
    "def disp1(msg):\n",
    "    print(\"disp1\",msg)\n",
    "    \n",
    "    \n",
    "def disp2(msg):\n",
    "    print(\"disp2\",msg)\n",
    "    \n",
    "class Calc:\n",
    "    def plus(self, *args):\n",
    "        return sum(args)"
   ]
  },
  {
   "cell_type": "code",
   "execution_count": 3,
   "metadata": {},
   "outputs": [
    {
     "name": "stdout",
     "output_type": "stream",
     "text": [
      "__pycache__\n",
      "01_io.ipynb\n",
      "01_jupyter notebook.ipynb\n",
      "02_basic_syntax.ipynb\n",
      "03_condition_loop.ipynb\n",
      "04_function.ipynb\n",
      "05_function_2.ipynb\n",
      "06_class.ipynb\n",
      "07_Class_2.ipynb\n",
      "08_module_package.ipynb\n",
      "08_module_package_.ipynb\n",
      "09_try_except.ipynb\n",
      "20.12.16 quiz.ipynb\n",
      "20.12.21 quiz.ipynb\n",
      "dss.py\n",
      "quiz_20_12_25.ipynb\n",
      "school\n"
     ]
    }
   ],
   "source": [
    "!ls\n",
    "\n"
   ]
  },
  {
   "cell_type": "code",
   "execution_count": 4,
   "metadata": {},
   "outputs": [
    {
     "name": "stdout",
     "output_type": "stream",
     "text": [
      "Once deleted, variables cannot be recovered. Proceed (y/[n])? y\n"
     ]
    }
   ],
   "source": [
    "%reset"
   ]
  },
  {
   "cell_type": "code",
   "execution_count": 5,
   "metadata": {},
   "outputs": [
    {
     "name": "stdout",
     "output_type": "stream",
     "text": [
      "Interactive namespace is empty.\n"
     ]
    }
   ],
   "source": [
    "%whos"
   ]
  },
  {
   "cell_type": "code",
   "execution_count": 6,
   "metadata": {},
   "outputs": [],
   "source": [
    "# 모듈 호출 : import\n",
    "import dss"
   ]
  },
  {
   "cell_type": "code",
   "execution_count": 7,
   "metadata": {},
   "outputs": [
    {
     "name": "stdout",
     "output_type": "stream",
     "text": [
      "Variable   Type      Data/Info\n",
      "------------------------------\n",
      "dss        module    <module 'dss' from 'C:\\\\C<...>\\본강의\\\\01_python\\\\dss.py'>\n"
     ]
    }
   ],
   "source": [
    "%whos"
   ]
  },
  {
   "cell_type": "code",
   "execution_count": 8,
   "metadata": {},
   "outputs": [
    {
     "data": {
      "text/plain": [
       "1234"
      ]
     },
     "execution_count": 8,
     "metadata": {},
     "output_type": "execute_result"
    }
   ],
   "source": [
    "dss.num"
   ]
  },
  {
   "cell_type": "code",
   "execution_count": 9,
   "metadata": {},
   "outputs": [
    {
     "name": "stdout",
     "output_type": "stream",
     "text": [
      "disp1 python\n"
     ]
    }
   ],
   "source": [
    "dss.disp1(\"python\")"
   ]
  },
  {
   "cell_type": "code",
   "execution_count": 10,
   "metadata": {},
   "outputs": [],
   "source": [
    "calc = dss.Calc()"
   ]
  },
  {
   "cell_type": "code",
   "execution_count": 11,
   "metadata": {},
   "outputs": [
    {
     "data": {
      "text/plain": [
       "10"
      ]
     },
     "execution_count": 11,
     "metadata": {},
     "output_type": "execute_result"
    }
   ],
   "source": [
    "calc.plus(1,2,3,4)"
   ]
  },
  {
   "cell_type": "code",
   "execution_count": 12,
   "metadata": {},
   "outputs": [],
   "source": [
    "import random"
   ]
  },
  {
   "cell_type": "code",
   "execution_count": 13,
   "metadata": {},
   "outputs": [
    {
     "data": {
      "text/plain": [
       "3"
      ]
     },
     "execution_count": 13,
     "metadata": {},
     "output_type": "execute_result"
    }
   ],
   "source": [
    "random.randint(1, 5)"
   ]
  },
  {
   "cell_type": "code",
   "execution_count": 16,
   "metadata": {},
   "outputs": [],
   "source": [
    "# 모듈 안에 특정 함수, 변수, 클래스 호출"
   ]
  },
  {
   "cell_type": "code",
   "execution_count": 14,
   "metadata": {},
   "outputs": [],
   "source": [
    "from dss import num, disp2"
   ]
  },
  {
   "cell_type": "code",
   "execution_count": 15,
   "metadata": {},
   "outputs": [
    {
     "name": "stdout",
     "output_type": "stream",
     "text": [
      "Variable   Type        Data/Info\n",
      "--------------------------------\n",
      "calc       Calc        <dss.Calc object at 0x0000025CA423C130>\n",
      "disp2      function    <function disp2 at 0x0000025CA1B3AB80>\n",
      "dss        module      <module 'dss' from 'C:\\\\C<...>\\본강의\\\\01_python\\\\dss.py'>\n",
      "num        int         1234\n",
      "random     module      <module 'random' from 'C:<...>ONDA3-1\\\\lib\\\\random.py'>\n"
     ]
    }
   ],
   "source": [
    "%whos"
   ]
  },
  {
   "cell_type": "code",
   "execution_count": 16,
   "metadata": {},
   "outputs": [
    {
     "data": {
      "text/plain": [
       "1234"
      ]
     },
     "execution_count": 16,
     "metadata": {},
     "output_type": "execute_result"
    }
   ],
   "source": [
    "dss.num"
   ]
  },
  {
   "cell_type": "code",
   "execution_count": 17,
   "metadata": {},
   "outputs": [
    {
     "data": {
      "text/plain": [
       "1234"
      ]
     },
     "execution_count": 17,
     "metadata": {},
     "output_type": "execute_result"
    }
   ],
   "source": [
    "num"
   ]
  },
  {
   "cell_type": "code",
   "execution_count": 52,
   "metadata": {},
   "outputs": [
    {
     "name": "stdout",
     "output_type": "stream",
     "text": [
      "Once deleted, variables cannot be recovered. Proceed (y/[n])? y\n"
     ]
    }
   ],
   "source": [
    "%reset"
   ]
  },
  {
   "cell_type": "code",
   "execution_count": 18,
   "metadata": {},
   "outputs": [],
   "source": [
    "# 모듈의 모든 변수를 가져옴"
   ]
  },
  {
   "cell_type": "code",
   "execution_count": 19,
   "metadata": {},
   "outputs": [],
   "source": [
    "from dss import *"
   ]
  },
  {
   "cell_type": "code",
   "execution_count": 20,
   "metadata": {},
   "outputs": [
    {
     "name": "stdout",
     "output_type": "stream",
     "text": [
      "Variable   Type        Data/Info\n",
      "--------------------------------\n",
      "Calc       type        <class 'dss.Calc'>\n",
      "calc       Calc        <dss.Calc object at 0x0000025CA423C130>\n",
      "disp1      function    <function disp1 at 0x0000025CA2BD9CA0>\n",
      "disp2      function    <function disp2 at 0x0000025CA1B3AB80>\n",
      "dss        module      <module 'dss' from 'C:\\\\C<...>\\본강의\\\\01_python\\\\dss.py'>\n",
      "num        int         1234\n",
      "random     module      <module 'random' from 'C:<...>ONDA3-1\\\\lib\\\\random.py'>\n"
     ]
    }
   ],
   "source": [
    "%whos"
   ]
  },
  {
   "cell_type": "markdown",
   "metadata": {},
   "source": [
    "### 2. Package\n",
    "- 패키지 생성\n",
    "- 패키지 호출\n",
    "- setup.py 패키지 설치 파일 만들기"
   ]
  },
  {
   "cell_type": "code",
   "execution_count": 55,
   "metadata": {},
   "outputs": [],
   "source": [
    "# 디렉토리 생성"
   ]
  },
  {
   "cell_type": "code",
   "execution_count": 24,
   "metadata": {
    "scrolled": true
   },
   "outputs": [
    {
     "name": "stderr",
     "output_type": "stream",
     "text": [
      "하위 디렉터리 또는 파일 school\\dss이(가) 이미 있습니다.\n"
     ]
    }
   ],
   "source": []
  },
  {
   "cell_type": "code",
   "execution_count": 25,
   "metadata": {},
   "outputs": [
    {
     "name": "stderr",
     "output_type": "stream",
     "text": [
      "하위 디렉터리 또는 파일 school\\web이(가) 이미 있습니다.\n"
     ]
    }
   ],
   "source": []
  },
  {
   "cell_type": "code",
   "execution_count": 26,
   "metadata": {},
   "outputs": [
    {
     "name": "stdout",
     "output_type": "stream",
     "text": [
      "폴더 PATH의 목록입니다.\n",
      "볼륨 일련 번호는 0A77-9793입니다.\n",
      "C:\\CODE\\본강의\\01_PYTHON\\SCHOOL\n",
      "├─dss\n",
      "│  └─__pycache__\n",
      "└─web\n",
      "    └─__pycache__\n"
     ]
    }
   ],
   "source": [
    "!tree school"
   ]
  },
  {
   "cell_type": "markdown",
   "metadata": {},
   "source": [
    "- tree 설치 mac\n",
    "    - homebrew : https://brew.sh/\n",
    "    - homebrew : osx 패키지 설치 관리툴\n",
    "    - `/usr/bin/ruby -e \"$(curl -fsSL https://raw.githubusercontent.com/Homebrew/install/master/install)\"`\n",
    "    - brew install tree"
   ]
  },
  {
   "cell_type": "code",
   "execution_count": 27,
   "metadata": {},
   "outputs": [],
   "source": [
    "# 패키지 사용시 디렉토리에 __init__.py 파일을 추가\n",
    "# python 3.3 버전 이상에서는 필요 없음"
   ]
  },
  {
   "cell_type": "code",
   "execution_count": 28,
   "metadata": {},
   "outputs": [],
   "source": []
  },
  {
   "cell_type": "code",
   "execution_count": 29,
   "metadata": {},
   "outputs": [
    {
     "name": "stdout",
     "output_type": "stream",
     "text": [
      "폴더 PATH의 목록입니다.\n",
      "볼륨 일련 번호는 0A77-9793입니다.\n",
      "C:\\CODE\\본강의\\01_PYTHON\\SCHOOL\n",
      "├─dss\n",
      "│  └─__pycache__\n",
      "└─web\n",
      "    └─__pycache__\n"
     ]
    }
   ],
   "source": []
  },
  {
   "cell_type": "code",
   "execution_count": 30,
   "metadata": {},
   "outputs": [
    {
     "name": "stdout",
     "output_type": "stream",
     "text": [
      "Overwriting school\\dss\\data1.py\n"
     ]
    }
   ],
   "source": [
    "\n",
    "def plus(*args):\n",
    "    print(\"data1\")\n",
    "    return sum(args)"
   ]
  },
  {
   "cell_type": "code",
   "execution_count": 31,
   "metadata": {},
   "outputs": [
    {
     "name": "stdout",
     "output_type": "stream",
     "text": [
      "Overwriting school\\dss\\data2.py\n"
     ]
    }
   ],
   "source": [
    "\n",
    "\n",
    "def plus2(*args):\n",
    "    print(\"data2\")\n",
    "    return sum(args)"
   ]
  },
  {
   "cell_type": "code",
   "execution_count": 64,
   "metadata": {},
   "outputs": [
    {
     "name": "stdout",
     "output_type": "stream",
     "text": [
      "Writing school\\web\\url.py\n"
     ]
    }
   ],
   "source": [
    "\n",
    "def make(url):\n",
    "    return url if url[:7] == \"http://\" else \"http://\" + url"
   ]
  },
  {
   "cell_type": "code",
   "execution_count": 65,
   "metadata": {},
   "outputs": [
    {
     "name": "stdout",
     "output_type": "stream",
     "text": [
      "폴더 PATH의 목록입니다.\n",
      "볼륨 일련 번호는 0A77-9793입니다.\n",
      "C:\\CODE\\본강의\\01_PYTHON\\SCHOOL\n",
      "├─dss\n",
      "└─web\n"
     ]
    }
   ],
   "source": [
    "!tree school\\"
   ]
  },
  {
   "cell_type": "code",
   "execution_count": 66,
   "metadata": {},
   "outputs": [
    {
     "name": "stdout",
     "output_type": "stream",
     "text": [
      "Once deleted, variables cannot be recovered. Proceed (y/[n])? y\n"
     ]
    }
   ],
   "source": [
    "%reset"
   ]
  },
  {
   "cell_type": "code",
   "execution_count": 67,
   "metadata": {},
   "outputs": [],
   "source": [
    "import school.dss.data1"
   ]
  },
  {
   "cell_type": "code",
   "execution_count": 68,
   "metadata": {},
   "outputs": [
    {
     "name": "stdout",
     "output_type": "stream",
     "text": [
      "Variable   Type      Data/Info\n",
      "------------------------------\n",
      "school     module    <module 'school' (namespace)>\n"
     ]
    }
   ],
   "source": [
    "whos"
   ]
  },
  {
   "cell_type": "code",
   "execution_count": 69,
   "metadata": {},
   "outputs": [
    {
     "name": "stdout",
     "output_type": "stream",
     "text": [
      "data1\n"
     ]
    },
    {
     "data": {
      "text/plain": [
       "6"
      ]
     },
     "execution_count": 69,
     "metadata": {},
     "output_type": "execute_result"
    }
   ],
   "source": [
    "school.dss.data1.plus(1,2,3)"
   ]
  },
  {
   "cell_type": "code",
   "execution_count": 70,
   "metadata": {},
   "outputs": [],
   "source": [
    "import school.dss.data1 as dss"
   ]
  },
  {
   "cell_type": "code",
   "execution_count": 71,
   "metadata": {},
   "outputs": [],
   "source": [
    "import numpy as np"
   ]
  },
  {
   "cell_type": "code",
   "execution_count": 72,
   "metadata": {},
   "outputs": [
    {
     "name": "stdout",
     "output_type": "stream",
     "text": [
      "data1\n"
     ]
    },
    {
     "data": {
      "text/plain": [
       "3"
      ]
     },
     "execution_count": 72,
     "metadata": {},
     "output_type": "execute_result"
    }
   ],
   "source": [
    "dss.plus(1,2)"
   ]
  },
  {
   "cell_type": "code",
   "execution_count": 73,
   "metadata": {},
   "outputs": [],
   "source": [
    "# school.web : 디렉토리\n",
    "# url : 모듈\n",
    "from school.web import url\n"
   ]
  },
  {
   "cell_type": "code",
   "execution_count": 74,
   "metadata": {},
   "outputs": [
    {
     "data": {
      "text/plain": [
       "'http://google.com'"
      ]
     },
     "execution_count": 74,
     "metadata": {},
     "output_type": "execute_result"
    }
   ],
   "source": [
    "url.make(\"google.com\")"
   ]
  },
  {
   "cell_type": "code",
   "execution_count": 75,
   "metadata": {},
   "outputs": [
    {
     "data": {
      "text/plain": [
       "'http://naver.com'"
      ]
     },
     "execution_count": 75,
     "metadata": {},
     "output_type": "execute_result"
    }
   ],
   "source": [
    "url.make(\"http://naver.com\")"
   ]
  },
  {
   "cell_type": "code",
   "execution_count": 101,
   "metadata": {},
   "outputs": [],
   "source": [
    "# 패키지의 위치 : 특정 디렉토리에 있는 패키지는 어디에서나 import 가능"
   ]
  },
  {
   "cell_type": "code",
   "execution_count": 76,
   "metadata": {},
   "outputs": [],
   "source": [
    "import random "
   ]
  },
  {
   "cell_type": "code",
   "execution_count": 77,
   "metadata": {},
   "outputs": [
    {
     "name": "stdout",
     "output_type": "stream",
     "text": [
      "__pycache__\n",
      "01_io.ipynb\n",
      "01_jupyter notebook.ipynb\n",
      "02_basic_syntax.ipynb\n",
      "03_condition_loop.ipynb\n",
      "04_function.ipynb\n",
      "05_function_2.ipynb\n",
      "06_class.ipynb\n",
      "07_Class_2.ipynb\n",
      "08_module_package.ipynb\n",
      "08_module_package_.ipynb\n",
      "09_try_except.ipynb\n",
      "20.12.16 quiz.ipynb\n",
      "20.12.21 quiz.ipynb\n",
      "dss.py\n",
      "quiz_20_12_25.ipynb\n",
      "school\n"
     ]
    }
   ],
   "source": [
    "!ls"
   ]
  },
  {
   "cell_type": "code",
   "execution_count": 78,
   "metadata": {},
   "outputs": [
    {
     "name": "stdout",
     "output_type": "stream",
     "text": [
      "C:\\Code\\본강의\\01_python\n",
      "C:\\ANACONDA3-1\\python38.zip\n",
      "C:\\ANACONDA3-1\\DLLs\n",
      "C:\\ANACONDA3-1\\lib\n",
      "C:\\ANACONDA3-1\n",
      "\n",
      "C:\\ANACONDA3-1\\lib\\site-packages\n",
      "C:\\ANACONDA3-1\\lib\\site-packages\\win32\n",
      "C:\\ANACONDA3-1\\lib\\site-packages\\win32\\lib\n",
      "C:\\ANACONDA3-1\\lib\\site-packages\\Pythonwin\n",
      "C:\\ANACONDA3-1\\lib\\site-packages\\IPython\\extensions\n",
      "C:\\Users\\YOUNG\\.ipython\n"
     ]
    }
   ],
   "source": [
    "import sys\n",
    "\n",
    "for path in sys.path:\n",
    "    print(path)"
   ]
  },
  {
   "cell_type": "code",
   "execution_count": 79,
   "metadata": {},
   "outputs": [
    {
     "name": "stdout",
     "output_type": "stream",
     "text": [
      "\\:\n",
      "!$kvF\n",
      "$Recycle.Bin\n",
      "$WINRE_BACKUP_PARTITION.MARKER\n",
      "$WinREAgent\n",
      "20.12.24 諛깆뾽\n",
      "AccountProfileFixer\n",
      "Anaconda3\n",
      "ANACONDA3-1\n",
      "C\n",
      "Code\n",
      "Config.Msi\n",
      "Documents and Settings\n",
      "DumpStack.log.tmp\n",
      "hiberfil.sys\n",
      "Intel\n",
      "Kings\n",
      "OneDriveTemp\n",
      "pagefile.sys\n",
      "PerfLogs\n",
      "Program Files\n",
      "Program Files (x86)\n",
      "ProgramData\n",
      "Recovery\n",
      "swapfile.sys\n",
      "SYSTAG.BIN\n",
      "System Volume Information\n",
      "Temp\n",
      "UkLog.dat\n",
      "Users\n",
      "Windows\n",
      "XecureSSL\n",
      "�뿰�뒿1\n",
      "�젙洹� �닔�뾽�옄猷�\n",
      "�뙣罹� 怨쇱젣\n",
      "�뙣罹좎닔�뾽\n",
      "\n",
      "C:\\ANACONDA3-1\\lib:\n",
      "__future__.py\n",
      "__phello__.foo.py\n",
      "__pycache__\n",
      "_bootlocale.py\n",
      "_collections_abc.py\n",
      "_compat_pickle.py\n",
      "_compression.py\n",
      "_dummy_thread.py\n",
      "_markupbase.py\n",
      "_nsis.py\n",
      "_osx_support.py\n",
      "_py_abc.py\n",
      "_pydecimal.py\n",
      "_pyio.py\n",
      "_sitebuiltins.py\n",
      "_strptime.py\n",
      "_system_path.py\n",
      "_threading_local.py\n",
      "_weakrefset.py\n",
      "abc.py\n",
      "aifc.py\n",
      "antigravity.py\n",
      "argparse.py\n",
      "ast.py\n",
      "asynchat.py\n",
      "asyncio\n",
      "asyncore.py\n",
      "base64.py\n",
      "bdb.py\n",
      "binhex.py\n",
      "bisect.py\n",
      "bz2.py\n",
      "calendar.py\n",
      "cgi.py\n",
      "cgitb.py\n",
      "chunk.py\n",
      "cmd.py\n",
      "code.py\n",
      "codecs.py\n",
      "codeop.py\n",
      "collections\n",
      "colorsys.py\n",
      "compileall.py\n",
      "concurrent\n",
      "configparser.py\n",
      "contextlib.py\n",
      "contextvars.py\n",
      "copy.py\n",
      "copyreg.py\n",
      "cProfile.py\n",
      "crypt.py\n",
      "csv.py\n",
      "ctypes\n",
      "curses\n",
      "dataclasses.py\n",
      "datetime.py\n",
      "dbm\n",
      "decimal.py\n",
      "difflib.py\n",
      "dis.py\n",
      "distutils\n",
      "doctest.py\n",
      "dummy_threading.py\n",
      "email\n",
      "encodings\n",
      "ensurepip\n",
      "enum.py\n",
      "filecmp.py\n",
      "fileinput.py\n",
      "fnmatch.py\n",
      "formatter.py\n",
      "fractions.py\n",
      "ftplib.py\n",
      "functools.py\n",
      "genericpath.py\n",
      "getopt.py\n",
      "getpass.py\n",
      "gettext.py\n",
      "glob.py\n",
      "gzip.py\n",
      "hashlib.py\n",
      "heapq.py\n",
      "hmac.py\n",
      "html\n",
      "http\n",
      "idlelib\n",
      "imaplib.py\n",
      "imghdr.py\n",
      "imp.py\n",
      "importlib\n",
      "inspect.py\n",
      "io.py\n",
      "ipaddress.py\n",
      "json\n",
      "keyword.py\n",
      "lib2to3\n",
      "libLIEF.dll\n",
      "libLIEF.lib\n",
      "linecache.py\n",
      "locale.py\n",
      "logging\n",
      "lzma.py\n",
      "mailbox.py\n",
      "mailcap.py\n",
      "mimetypes.py\n",
      "modulefinder.py\n",
      "msilib\n",
      "multiprocessing\n",
      "netrc.py\n",
      "nntplib.py\n",
      "ntpath.py\n",
      "nturl2path.py\n",
      "numbers.py\n",
      "opcode.py\n",
      "operator.py\n",
      "optparse.py\n",
      "os.py\n",
      "pathlib.py\n",
      "pdb.py\n",
      "pickle.py\n",
      "pickletools.py\n",
      "pipes.py\n",
      "pkgutil.py\n",
      "platform.py\n",
      "plistlib.py\n",
      "poplib.py\n",
      "posixpath.py\n",
      "pprint.py\n",
      "profile.py\n",
      "pstats.py\n",
      "pty.py\n",
      "py_compile.py\n",
      "pyclbr.py\n",
      "pydoc.py\n",
      "pydoc_data\n",
      "queue.py\n",
      "quopri.py\n",
      "random.py\n",
      "re.py\n",
      "reprlib.py\n",
      "rlcompleter.py\n",
      "runpy.py\n",
      "sched.py\n",
      "secrets.py\n",
      "selectors.py\n",
      "shelve.py\n",
      "shlex.py\n",
      "shutil.py\n",
      "signal.py\n",
      "site.py\n",
      "site-packages\n",
      "smtpd.py\n",
      "smtplib.py\n",
      "sndhdr.py\n",
      "socket.py\n",
      "socketserver.py\n",
      "sqlite3\n",
      "sre_compile.py\n",
      "sre_constants.py\n",
      "sre_parse.py\n",
      "ssl.py\n",
      "stat.py\n",
      "statistics.py\n",
      "string.py\n",
      "stringprep.py\n",
      "struct.py\n",
      "subprocess.py\n",
      "sunau.py\n",
      "symbol.py\n",
      "symtable.py\n",
      "sysconfig.py\n",
      "tabnanny.py\n",
      "tarfile.py\n",
      "telnetlib.py\n",
      "tempfile.py\n",
      "test\n",
      "textwrap.py\n",
      "this.py\n",
      "threading.py\n",
      "timeit.py\n",
      "tkinter\n",
      "token.py\n",
      "tokenize.py\n",
      "trace.py\n",
      "traceback.py\n",
      "tracemalloc.py\n",
      "tty.py\n",
      "turtle.py\n",
      "turtledemo\n",
      "types.py\n",
      "typing.py\n",
      "unittest\n",
      "urllib\n",
      "uu.py\n",
      "uuid.py\n",
      "venv\n",
      "warnings.py\n",
      "wave.py\n",
      "weakref.py\n",
      "webbrowser.py\n",
      "wsgiref\n",
      "xdrlib.py\n",
      "xml\n",
      "xmlrpc\n",
      "zipapp.py\n",
      "zipfile.py\n",
      "zipimport.py\n"
     ]
    }
   ],
   "source": []
  },
  {
   "cell_type": "code",
   "execution_count": 80,
   "metadata": {},
   "outputs": [
    {
     "data": {
      "text/plain": [
       "245"
      ]
     },
     "execution_count": 80,
     "metadata": {},
     "output_type": "execute_result"
    }
   ],
   "source": [
    "\n",
    "len(packages)"
   ]
  },
  {
   "cell_type": "code",
   "execution_count": 81,
   "metadata": {},
   "outputs": [
    {
     "data": {
      "text/plain": [
       "['xml', 'xmlrpc', 'zipapp.py', 'zipfile.py', 'zipimport.py']"
      ]
     },
     "execution_count": 81,
     "metadata": {},
     "output_type": "execute_result"
    }
   ],
   "source": [
    "packages[-5:]"
   ]
  },
  {
   "cell_type": "code",
   "execution_count": 82,
   "metadata": {},
   "outputs": [],
   "source": [
    "# setup.py 를 작성해서 패키지를 설치해서 사용\n",
    "# setuptools이용"
   ]
  },
  {
   "cell_type": "code",
   "execution_count": 83,
   "metadata": {},
   "outputs": [
    {
     "name": "stdout",
     "output_type": "stream",
     "text": [
      "폴더 PATH의 목록입니다.\n",
      "볼륨 일련 번호는 0A77-9793입니다.\n",
      "C:\\CODE\\본강의\\01_PYTHON\\SCHOOL\n",
      "├─dss\n",
      "│  └─__pycache__\n",
      "└─web\n",
      "    └─__pycache__\n"
     ]
    }
   ],
   "source": [
    "!tree school\\"
   ]
  },
  {
   "cell_type": "code",
   "execution_count": 4,
   "metadata": {},
   "outputs": [
    {
     "name": "stdout",
     "output_type": "stream",
     "text": [
      "Overwriting school\\dss\\__init__.py\n"
     ]
    }
   ],
   "source": [
    "\n",
    "\n",
    "__all__ = [\"data1\",\"data2\"]"
   ]
  },
  {
   "cell_type": "code",
   "execution_count": 2,
   "metadata": {},
   "outputs": [
    {
     "name": "stdout",
     "output_type": "stream",
     "text": [
      "Overwriting school\\setup.py\n"
     ]
    }
   ],
   "source": [
    "\n",
    "\n",
    "from setuptools import setup, find_pacakges\n",
    "\n",
    "setup(\n",
    "    name=\"dss\",\n",
    "    packages=find_packages(),\n",
    "    include_package_data=True,\n",
    "    version=\"0.0.1\",\n",
    "    author=\"JuyoungLee\",\n",
    "    author_email=\"leekj3133@naver.com\",\n",
    "    zip_safe=False,\n",
    ")"
   ]
  },
  {
   "cell_type": "code",
   "execution_count": 5,
   "metadata": {},
   "outputs": [
    {
     "name": "stderr",
     "output_type": "stream",
     "text": [
      "rm: cannot remove 'dss.py': No such file or directory\n"
     ]
    }
   ],
   "source": [
    "!rm dss.py"
   ]
  },
  {
   "cell_type": "code",
   "execution_count": 7,
   "metadata": {},
   "outputs": [],
   "source": [
    "# dss 모듈 삭제하는 것"
   ]
  },
  {
   "cell_type": "code",
   "execution_count": null,
   "metadata": {},
   "outputs": [],
   "source": [
    "# 패키지 설치 확인"
   ]
  },
  {
   "cell_type": "code",
   "execution_count": 8,
   "metadata": {},
   "outputs": [],
   "source": [
    "!pip list | grep dss"
   ]
  },
  {
   "cell_type": "code",
   "execution_count": 62,
   "metadata": {},
   "outputs": [],
   "source": [
    "# 패키지 설치\n",
    "# school $ python setup.py develop\n",
    "# 커널 리스타트 필요\n",
    "# develop : 개발자모드, 코드를 수정하면 설치된 패키지도 같이 수정\n",
    "# build : 일반모드, 코드로 수정하면 다시 설치해야 수정된 코드가 적용 "
   ]
  },
  {
   "cell_type": "code",
   "execution_count": 1,
   "metadata": {},
   "outputs": [],
   "source": [
    "!pip list | grep dss"
   ]
  },
  {
   "cell_type": "code",
   "execution_count": 113,
   "metadata": {},
   "outputs": [
    {
     "name": "stdout",
     "output_type": "stream",
     "text": [
      "numpy                              1.18.5\n",
      "numpydoc                           1.1.0\n"
     ]
    }
   ],
   "source": [
    "!pip list | grep numpy"
   ]
  },
  {
   "cell_type": "code",
   "execution_count": 4,
   "metadata": {},
   "outputs": [],
   "source": [
    "from dss import *"
   ]
  },
  {
   "cell_type": "code",
   "execution_count": 5,
   "metadata": {},
   "outputs": [
    {
     "name": "stdout",
     "output_type": "stream",
     "text": [
      "Variable   Type        Data/Info\n",
      "--------------------------------\n",
      "Calc       type        <class 'dss.Calc'>\n",
      "disp1      function    <function disp1 at 0x0000020F107BA160>\n",
      "disp2      function    <function disp2 at 0x0000020F107BA5E0>\n",
      "num        int         1234\n"
     ]
    }
   ],
   "source": [
    "%whos"
   ]
  },
  {
   "cell_type": "code",
   "execution_count": 3,
   "metadata": {},
   "outputs": [
    {
     "ename": "NameError",
     "evalue": "name 'dss' is not defined",
     "output_type": "error",
     "traceback": [
      "\u001b[1;31m---------------------------------------------------------------------------\u001b[0m",
      "\u001b[1;31mNameError\u001b[0m                                 Traceback (most recent call last)",
      "\u001b[1;32m<ipython-input-3-64564113ff6d>\u001b[0m in \u001b[0;36m<module>\u001b[1;34m\u001b[0m\n\u001b[1;32m----> 1\u001b[1;33m \u001b[0mdss\u001b[0m\u001b[1;33m.\u001b[0m\u001b[0mweb\u001b[0m\u001b[1;33m.\u001b[0m\u001b[0murl\u001b[0m\u001b[1;33m\u001b[0m\u001b[1;33m\u001b[0m\u001b[0m\n\u001b[0m",
      "\u001b[1;31mNameError\u001b[0m: name 'dss' is not defined"
     ]
    }
   ],
   "source": [
    "dss.web.url"
   ]
  },
  {
   "cell_type": "code",
   "execution_count": null,
   "metadata": {},
   "outputs": [],
   "source": [
    "data1.plus(1,2)"
   ]
  },
  {
   "cell_type": "code",
   "execution_count": null,
   "metadata": {},
   "outputs": [],
   "source": [
    "# uninstall\n",
    "# pip unistall dss"
   ]
  },
  {
   "cell_type": "code",
   "execution_count": null,
   "metadata": {},
   "outputs": [],
   "source": [
    "!pip list | grep dss"
   ]
  },
  {
   "cell_type": "code",
   "execution_count": null,
   "metadata": {},
   "outputs": [],
   "source": []
  },
  {
   "cell_type": "code",
   "execution_count": null,
   "metadata": {},
   "outputs": [],
   "source": []
  },
  {
   "cell_type": "code",
   "execution_count": null,
   "metadata": {},
   "outputs": [],
   "source": []
  },
  {
   "cell_type": "code",
   "execution_count": null,
   "metadata": {},
   "outputs": [],
   "source": []
  },
  {
   "cell_type": "code",
   "execution_count": null,
   "metadata": {},
   "outputs": [],
   "source": []
  },
  {
   "cell_type": "code",
   "execution_count": null,
   "metadata": {},
   "outputs": [],
   "source": []
  },
  {
   "cell_type": "code",
   "execution_count": null,
   "metadata": {},
   "outputs": [],
   "source": []
  },
  {
   "cell_type": "code",
   "execution_count": null,
   "metadata": {},
   "outputs": [],
   "source": []
  },
  {
   "cell_type": "code",
   "execution_count": null,
   "metadata": {},
   "outputs": [],
   "source": []
  },
  {
   "cell_type": "code",
   "execution_count": null,
   "metadata": {},
   "outputs": [],
   "source": []
  },
  {
   "cell_type": "code",
   "execution_count": null,
   "metadata": {},
   "outputs": [],
   "source": []
  },
  {
   "cell_type": "code",
   "execution_count": null,
   "metadata": {},
   "outputs": [],
   "source": []
  },
  {
   "cell_type": "code",
   "execution_count": null,
   "metadata": {},
   "outputs": [],
   "source": []
  },
  {
   "cell_type": "code",
   "execution_count": null,
   "metadata": {},
   "outputs": [],
   "source": []
  },
  {
   "cell_type": "code",
   "execution_count": null,
   "metadata": {},
   "outputs": [],
   "source": []
  },
  {
   "cell_type": "code",
   "execution_count": null,
   "metadata": {},
   "outputs": [],
   "source": []
  },
  {
   "cell_type": "code",
   "execution_count": null,
   "metadata": {},
   "outputs": [],
   "source": []
  },
  {
   "cell_type": "code",
   "execution_count": null,
   "metadata": {},
   "outputs": [],
   "source": []
  },
  {
   "cell_type": "code",
   "execution_count": null,
   "metadata": {},
   "outputs": [],
   "source": []
  },
  {
   "cell_type": "code",
   "execution_count": null,
   "metadata": {},
   "outputs": [],
   "source": []
  },
  {
   "cell_type": "code",
   "execution_count": null,
   "metadata": {},
   "outputs": [],
   "source": []
  },
  {
   "cell_type": "code",
   "execution_count": null,
   "metadata": {},
   "outputs": [],
   "source": []
  },
  {
   "cell_type": "code",
   "execution_count": null,
   "metadata": {},
   "outputs": [],
   "source": []
  },
  {
   "cell_type": "code",
   "execution_count": null,
   "metadata": {},
   "outputs": [],
   "source": []
  },
  {
   "cell_type": "code",
   "execution_count": null,
   "metadata": {},
   "outputs": [],
   "source": []
  },
  {
   "cell_type": "code",
   "execution_count": null,
   "metadata": {},
   "outputs": [],
   "source": []
  },
  {
   "cell_type": "code",
   "execution_count": null,
   "metadata": {},
   "outputs": [],
   "source": []
  },
  {
   "cell_type": "code",
   "execution_count": null,
   "metadata": {},
   "outputs": [],
   "source": []
  },
  {
   "cell_type": "code",
   "execution_count": null,
   "metadata": {},
   "outputs": [],
   "source": []
  },
  {
   "cell_type": "code",
   "execution_count": null,
   "metadata": {},
   "outputs": [],
   "source": []
  },
  {
   "cell_type": "code",
   "execution_count": null,
   "metadata": {},
   "outputs": [],
   "source": []
  },
  {
   "cell_type": "code",
   "execution_count": null,
   "metadata": {},
   "outputs": [],
   "source": []
  },
  {
   "cell_type": "code",
   "execution_count": null,
   "metadata": {},
   "outputs": [],
   "source": []
  },
  {
   "cell_type": "code",
   "execution_count": null,
   "metadata": {},
   "outputs": [],
   "source": []
  },
  {
   "cell_type": "code",
   "execution_count": null,
   "metadata": {},
   "outputs": [],
   "source": []
  },
  {
   "cell_type": "code",
   "execution_count": null,
   "metadata": {},
   "outputs": [],
   "source": []
  },
  {
   "cell_type": "code",
   "execution_count": null,
   "metadata": {},
   "outputs": [],
   "source": []
  },
  {
   "cell_type": "code",
   "execution_count": null,
   "metadata": {},
   "outputs": [],
   "source": []
  },
  {
   "cell_type": "code",
   "execution_count": null,
   "metadata": {},
   "outputs": [],
   "source": []
  },
  {
   "cell_type": "code",
   "execution_count": null,
   "metadata": {},
   "outputs": [],
   "source": []
  },
  {
   "cell_type": "code",
   "execution_count": null,
   "metadata": {},
   "outputs": [],
   "source": []
  },
  {
   "cell_type": "code",
   "execution_count": null,
   "metadata": {},
   "outputs": [],
   "source": []
  }
 ],
 "metadata": {
  "kernelspec": {
   "display_name": "Python 3",
   "language": "python",
   "name": "python3"
  },
  "language_info": {
   "codemirror_mode": {
    "name": "ipython",
    "version": 3
   },
   "file_extension": ".py",
   "mimetype": "text/x-python",
   "name": "python",
   "nbconvert_exporter": "python",
   "pygments_lexer": "ipython3",
   "version": "3.8.3"
  }
 },
 "nbformat": 4,
 "nbformat_minor": 4
}
