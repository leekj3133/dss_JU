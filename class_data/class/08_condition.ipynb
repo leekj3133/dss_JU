{
 "cells": [
  {
   "cell_type": "markdown",
   "metadata": {},
   "source": [
    "### 조건문\n",
    "- if \n",
    "- else\n",
    "- elif\n",
    "- 상황연산자"
   ]
  },
  {
   "cell_type": "markdown",
   "metadata": {},
   "source": [
    "### 1. if\n",
    "- 조건에 따라서 코드를 실행시키고 싶을때 사용\n",
    "- condition이 Ture이면 code_1이 실핼\n",
    "```\n",
    "if<condition> : \n",
    "    <code_1>\n",
    "```"
   ]
  },
  {
   "cell_type": "code",
   "execution_count": 2,
   "metadata": {},
   "outputs": [
    {
     "name": "stdout",
     "output_type": "stream",
     "text": [
      "if\n"
     ]
    }
   ],
   "source": [
    "state = True\n",
    "if state:\n",
    "    print(\"if\")"
   ]
  },
  {
   "cell_type": "code",
   "execution_count": 5,
   "metadata": {},
   "outputs": [],
   "source": [
    "state = False\n",
    "if state:\n",
    "    print(\"if\")\n",
    "    print(\"done\")"
   ]
  },
  {
   "cell_type": "code",
   "execution_count": 6,
   "metadata": {},
   "outputs": [
    {
     "name": "stdout",
     "output_type": "stream",
     "text": [
      "수박을 못산다\n"
     ]
    }
   ],
   "source": [
    "money = 10000\n",
    "if money>= 20000:\n",
    "    print(\"수박을 산다\")\n",
    "if money < 20000:\n",
    "    print(\"수박을 못산다\")"
   ]
  },
  {
   "cell_type": "markdown",
   "metadata": {},
   "source": [
    "### 2. else\n",
    "- condition이 False이면 code_2가 실행됩니다.\n",
    "```\n",
    "if <condition>:\n",
    "    <code_1>\n",
    "else:\n",
    "    <code_2>\n",
    "```"
   ]
  },
  {
   "cell_type": "code",
   "execution_count": 7,
   "metadata": {},
   "outputs": [
    {
     "name": "stdout",
     "output_type": "stream",
     "text": [
      "else\n"
     ]
    }
   ],
   "source": [
    "state = False\n",
    "if state:\n",
    "    print(\"if\")\n",
    "else:\n",
    "    print(\"else\")"
   ]
  },
  {
   "cell_type": "code",
   "execution_count": 8,
   "metadata": {},
   "outputs": [
    {
     "name": "stdout",
     "output_type": "stream",
     "text": [
      "수박을 못산다\n"
     ]
    }
   ],
   "source": [
    "money = 10000\n",
    "if money>= 20000:\n",
    "    print(\"수박을 산다\")\n",
    "else:\n",
    "    print(\"수박을 못산다\")"
   ]
  },
  {
   "cell_type": "markdown",
   "metadata": {},
   "source": [
    "### 3. elif\n",
    "- 조건이 여러개로 구분해서 코드를 실행할때 사용\n",
    "- condition_1이 True이면 code_1이 실행, condition_2이 True이면 code_2이 실행\n",
    "- condition_1과 condition_2가 둘다 False이면 code_3이 실행\n",
    "```\n",
    "if <condition_1>:\n",
    "    <code_1>\n",
    "elif<condition_2>:\n",
    "    <code_2>\n",
    "else:\n",
    "    <code_3>\n",
    "```"
   ]
  },
  {
   "cell_type": "code",
   "execution_count": 10,
   "metadata": {},
   "outputs": [
    {
     "name": "stdout",
     "output_type": "stream",
     "text": [
      "a == b\n"
     ]
    }
   ],
   "source": [
    "a, b = 30, 30\n",
    "if a < b:\n",
    "    print(\"a < b\")\n",
    "elif a == b:\n",
    "    print(\"a == b\")\n",
    "else:\n",
    "    print(\"a > b\")"
   ]
  },
  {
   "cell_type": "code",
   "execution_count": 11,
   "metadata": {},
   "outputs": [
    {
     "name": "stdout",
     "output_type": "stream",
     "text": [
      "a == b\n"
     ]
    }
   ],
   "source": [
    "a, b = 30, 30\n",
    "if a < b:\n",
    "    print(\"a < b\")\n",
    "if a == b:\n",
    "    print(\"a == b\")\n",
    "if a > b:\n",
    "    print(\"a > b\")"
   ]
  },
  {
   "cell_type": "markdown",
   "metadata": {},
   "source": [
    "#### Quiz1\n",
    "- 숫자를 입력받아서 짝수이면 even, 홀수이면 odd를 출력하는 코드를 작성하세요.\n",
    "```\n",
    "insert number : 13\n",
    "odd\n",
    "```"
   ]
  },
  {
   "cell_type": "code",
   "execution_count": 24,
   "metadata": {},
   "outputs": [
    {
     "name": "stdout",
     "output_type": "stream",
     "text": [
      "insert integer:13\n",
      "odd\n"
     ]
    }
   ],
   "source": [
    "value= input(\"insert integer:\")\n",
    "value=int(value)\n",
    "if value % 2 == 0:\n",
    "    print(\"even\")\n",
    "else:\n",
    "    print(\"odd\")"
   ]
  },
  {
   "cell_type": "code",
   "execution_count": 25,
   "metadata": {},
   "outputs": [
    {
     "data": {
      "text/plain": [
       "False"
      ]
     },
     "execution_count": 25,
     "metadata": {},
     "output_type": "execute_result"
    }
   ],
   "source": [
    "a = 0\n",
    "bool(a)"
   ]
  },
  {
   "cell_type": "code",
   "execution_count": 22,
   "metadata": {},
   "outputs": [
    {
     "name": "stdout",
     "output_type": "stream",
     "text": [
      "insert number:13\n",
      "odd\n"
     ]
    }
   ],
   "source": [
    "number = int(input(\"insert number:\"))\n",
    "if number %2 == 0:\n",
    "    print(\"even\")\n",
    "else:\n",
    "    print(\"odd\")"
   ]
  },
  {
   "cell_type": "code",
   "execution_count": 27,
   "metadata": {},
   "outputs": [
    {
     "name": "stdout",
     "output_type": "stream",
     "text": [
      "insert number:13\n",
      "odd\n"
     ]
    }
   ],
   "source": [
    "# a= o, bool(a)는 Flase가 된다. 그러므로 if number%2 는 false가 나온다. if not number%2는 True이므로 이것을 사용해도 된다,\n",
    "number = int(input(\"insert number:\"))\n",
    "if not number %2 :\n",
    "    print(\"even\")\n",
    "else:\n",
    "    print(\"odd\")"
   ]
  },
  {
   "cell_type": "markdown",
   "metadata": {},
   "source": [
    "#### Quiz 2\n",
    "- 점수를 입력 받아서 학점을 출력하는 코드를 작성하세요\n",
    "- 90~100 : A\n",
    "- 80~89 : B\n",
    "- 79~70 : C\n",
    "- 60~69 : D\n",
    "- 0~59 : F\n",
    "```\n",
    "insert point : 87\n",
    "    B\n",
    "```"
   ]
  },
  {
   "cell_type": "code",
   "execution_count": 29,
   "metadata": {},
   "outputs": [
    {
     "name": "stdout",
     "output_type": "stream",
     "text": [
      "insert point:87\n",
      "B\n"
     ]
    }
   ],
   "source": [
    "point = int(input(\"insert point:\"))\n",
    "if point>89:\n",
    "    print(\"A\")\n",
    "elif point>79:\n",
    "    print(\"B\")\n",
    "elif point>69:\n",
    "    print(\"C\")\n",
    "elif point>59:\n",
    "    print(\"D\")\n",
    "else :\n",
    "    print(\"F\")"
   ]
  },
  {
   "cell_type": "markdown",
   "metadata": {},
   "source": [
    "#### Quiz 3\n",
    "- 숫자를 입력받아 3의 배수이면 fizz, 5의 배수이면 buzz, 3과 5의 배수이면 fizzbuzz를 출력하고 3과 5의 배수이가 아나면 입력한 숫자를 출력하는 코드를 작성하세요.\n",
    "```\n",
    "결과\n",
    "insert number : 15\n",
    "fizzbuzz\n",
    "insert number : 11\n",
    "11\n",
    "```"
   ]
  },
  {
   "cell_type": "code",
   "execution_count": 2,
   "metadata": {},
   "outputs": [
    {
     "name": "stdout",
     "output_type": "stream",
     "text": [
      "insert number : 11\n",
      "11\n"
     ]
    }
   ],
   "source": [
    "number = int(input(\"insert number : \"))\n",
    "if number %3==0 and number%5!=0:\n",
    "    print(\"fizz\")\n",
    "elif number%5==0 and number%3!=0:\n",
    "    print(\"buzz\")\n",
    "elif number%3==0 and number%5==0:\n",
    "    print(\"fizzbuzz\")\n",
    "else:\n",
    "    print(number)"
   ]
  },
  {
   "cell_type": "code",
   "execution_count": 3,
   "metadata": {},
   "outputs": [
    {
     "name": "stdout",
     "output_type": "stream",
     "text": [
      "insert number : 10\n",
      "buzz\n"
     ]
    }
   ],
   "source": [
    "number = int(input(\"insert number : \"))\n",
    "\n",
    "if number % 15 == 0:\n",
    "    print(\"fizzbuzz\")\n",
    "elif number % 3 ==0:\n",
    "    print(\"fizz\")\n",
    "elif number % 5 ==0:\n",
    "    print(\"buzz\")\n",
    "else:\n",
    "    print(number)"
   ]
  },
  {
   "cell_type": "code",
   "execution_count": 1,
   "metadata": {},
   "outputs": [
    {
     "name": "stdout",
     "output_type": "stream",
     "text": [
      "insert number : 30\n",
      "fizzbuzz\n"
     ]
    }
   ],
   "source": [
    " number = int(input(\"insert number : \"))\n",
    "    \n",
    "if number % 3 == 0:\n",
    "    print(\"fizz\", end=\"\")\n",
    "if number % 5 == 0:\n",
    "    print(\"buzz\")\n",
    "if not ( (number % 3 == 0) or (number %5 == 0) ):\n",
    "    print(number)"
   ]
  },
  {
   "cell_type": "markdown",
   "metadata": {},
   "source": [
    "#### Quiz 4\n",
    "- 최초계좌에 10000원이 들어 있습니다.\n",
    "- 인출 금액을 입력받습니다.\n",
    "- 인출이 가능하면 True와 잔액을 출력하고 계좌에서 인출 금액을 차감시키세요.\n",
    "- 인출이 불가능하면 False를 출력하고 얼마를 인출할수 있는지 출력하세요.\n",
    "- 인출은 여러 번 가능합니다.\n",
    "```\n",
    "account=10000\n",
    "```\n",
    "#첫번째 인출\n",
    "-인출할 금액을 입력하세요:7000\n",
    "-True 잔액이 3000원 남겼습니다.\n",
    "\n",
    "#두번째 인출\n",
    "-인출할 금액을 입력하세요 : 5000\n",
    "-False 인출 금액이 2000원 부족합니다."
   ]
  },
  {
   "cell_type": "code",
   "execution_count": null,
   "metadata": {},
   "outputs": [
    {
     "name": "stdout",
     "output_type": "stream",
     "text": [
      "인출할 금액을 입력하세요: 7000\n",
      "True 잔액이 3000원 남았습니다.\n",
      "인출할 금액을 입력하세요: 5000\n",
      "False 인출 금액이 2000원 부족합니다.\n"
     ]
    }
   ],
   "source": [
    "account = 10000\n",
    "while True: \n",
    "    withdrwal = int(input(\"인출할 금액을 입력하세요: \"))\n",
    "    if withdrwal <= account :\n",
    "        print(True,\"잔액이 {}원 남았습니다.\".format(account - withdrwal))\n",
    "        account = account - withdrwal\n",
    "    else:\n",
    "        print(False, \"인출 금액이 {}원 부족합니다.\".format(withdrwal - account))\n"
   ]
  },
  {
   "cell_type": "code",
   "execution_count": 12,
   "metadata": {},
   "outputs": [
    {
     "name": "stdout",
     "output_type": "stream",
     "text": [
      "인출할 금액을 입력하세요 : 7000\n",
      "True 잔액이 3000 남았습니다.\n"
     ]
    }
   ],
   "source": [
    "account = 10000\n",
    "withdraw = int(input(\"인출할 금액을 입력하세요 : \"))\n",
    "\n",
    "if withdraw <= account :\n",
    "    account-= withdraw\n",
    "    print(True,\"잔액이 {} 남았습니다.\".format(account))\n",
    "else:\n",
    "    print(False,\"인출금액이 {}원 부족합니다.\".format(withdraw-account))"
   ]
  },
  {
   "cell_type": "code",
   "execution_count": 13,
   "metadata": {},
   "outputs": [
    {
     "name": "stdout",
     "output_type": "stream",
     "text": [
      "인출할 금액을 입력하세요 : 5000\n",
      "False 인출금액이 2000원 부족합니다.\n"
     ]
    }
   ],
   "source": [
    "withdraw = int(input(\"인출할 금액을 입력하세요 : \"))\n",
    "\n",
    "if withdraw <= account :\n",
    "    account -= withdraw\n",
    "    print(True,\"잔액이 {} 남았습니다.\".format(account))\n",
    "else:\n",
    "    print(False,\"인출금액이 {}원 부족합니다.\".format(withdraw-account))"
   ]
  },
  {
   "cell_type": "code",
   "execution_count": 14,
   "metadata": {},
   "outputs": [
    {
     "data": {
      "text/plain": [
       "3000"
      ]
     },
     "execution_count": 14,
     "metadata": {},
     "output_type": "execute_result"
    }
   ],
   "source": [
    "account"
   ]
  },
  {
   "cell_type": "markdown",
   "metadata": {},
   "source": [
    "#### 4. 삼항연산\n",
    "- 조건이 True이면 A가 출력, False이면 B가 출력 \n",
    "```\n",
    "A if (조건) else B\n",
    "```"
   ]
  },
  {
   "cell_type": "code",
   "execution_count": 17,
   "metadata": {},
   "outputs": [
    {
     "name": "stdout",
     "output_type": "stream",
     "text": [
      "2\n"
     ]
    }
   ],
   "source": [
    "data = 0\n",
    "if data:\n",
    "    print(1)\n",
    "else:\n",
    "    print(2)"
   ]
  },
  {
   "cell_type": "code",
   "execution_count": 19,
   "metadata": {},
   "outputs": [
    {
     "data": {
      "text/plain": [
       "1"
      ]
     },
     "execution_count": 19,
     "metadata": {},
     "output_type": "execute_result"
    }
   ],
   "source": [
    "data = 10\n",
    "1 if data else 2"
   ]
  },
  {
   "cell_type": "code",
   "execution_count": 23,
   "metadata": {},
   "outputs": [
    {
     "name": "stdout",
     "output_type": "stream",
     "text": [
      "male\n"
     ]
    }
   ],
   "source": [
    "# 1: male, 2: female\n",
    "data = 1\n",
    "result = \"male\" if data == 1 else \"female\"\n",
    "print(result)"
   ]
  },
  {
   "cell_type": "markdown",
   "metadata": {},
   "source": [
    "#### Quiz 5\n",
    "- 삼항연산을 이용하여 값을 입력받아서 짝수이면 even, 홀수이면 odd를 출력하는 코드를 작성하세요.\n",
    "```\n",
    "insert number : 17\n",
    "odd\n",
    "```"
   ]
  },
  {
   "cell_type": "code",
   "execution_count": 26,
   "metadata": {},
   "outputs": [
    {
     "name": "stdout",
     "output_type": "stream",
     "text": [
      "insert number : 17\n",
      "odd\n"
     ]
    }
   ],
   "source": [
    "number = int(input(\"insert number : \"))\n",
    "result = \"even\" if number % 2 == 0 else \"odd\"\n",
    "print(result)"
   ]
  },
  {
   "cell_type": "code",
   "execution_count": 27,
   "metadata": {},
   "outputs": [
    {
     "name": "stdout",
     "output_type": "stream",
     "text": [
      "insert number : 17\n",
      "odd\n"
     ]
    }
   ],
   "source": [
    "number = int(input(\"insert number : \"))\n",
    "result = \"odd\" if number % 2 else \"even\"\n",
    "print(result)"
   ]
  }
 ],
 "metadata": {
  "kernelspec": {
   "display_name": "Python 3",
   "language": "python",
   "name": "python3"
  },
  "language_info": {
   "codemirror_mode": {
    "name": "ipython",
    "version": 3
   },
   "file_extension": ".py",
   "mimetype": "text/x-python",
   "name": "python",
   "nbconvert_exporter": "python",
   "pygments_lexer": "ipython3",
   "version": "3.8.3"
  }
 },
 "nbformat": 4,
 "nbformat_minor": 4
}
