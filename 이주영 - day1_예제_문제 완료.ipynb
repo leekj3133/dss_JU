{
 "cells": [
  {
   "cell_type": "markdown",
   "metadata": {
    "colab_type": "text",
    "id": "2POZLtCAvwsV"
   },
   "source": [
    "- 데이터 사이언스 스킬들\n",
    "- 데이터 분석 과정\n",
    "- 컴퓨터의 구조와 프로그램의 작동원리\n",
    "- 파이썬 언어 프로그램의 개요\n",
    "- 데이터 분석을 위한 파이썬 패키지 소개"
   ]
  },
  {
   "cell_type": "markdown",
   "metadata": {
    "colab_type": "text",
    "id": "Y_f1WOvWvwsW"
   },
   "source": [
    "### 예제"
   ]
  },
  {
   "cell_type": "markdown",
   "metadata": {
    "colab_type": "text",
    "id": "TyT5c_gMvwsX"
   },
   "source": [
    "### 1. 데이터를 분석하는 과정 중 맞는것은?   1"
   ]
  },
  {
   "cell_type": "markdown",
   "metadata": {
    "colab_type": "text",
    "id": "HmCrtG4zvwsY"
   },
   "source": [
    "1. 문제정의 - 데이터수집 - 데이터처리 - 데이터분석 - 모델링,알고리즘 생성 - 리포팅 및 서비스화\n",
    "1. 데이터수집 - 문제정의- 데이터처리 - 데이터분석 - 모델링,알고리즘 생성 - 리포팅 및 서비스화\n",
    "1. 문제정의 - 데이터수집 - 데이터분석 - 데이터처리 - 모델링,알고리즘 생성 - 리포팅 및 서비스화\n",
    "1. 문제정의 - 데이터수집 - 데이터처리 - 모델링,알고리즘 생성 - 데이터분석 - 리포팅 및 서비스화"
   ]
  },
  {
   "cell_type": "markdown",
   "metadata": {
    "colab_type": "text",
    "id": "Pz0mTus8vwsY"
   },
   "source": [
    "### 2. 데이터 수집에 사용되는 파이썬 패키지가 아닌것은? 3"
   ]
  },
  {
   "cell_type": "markdown",
   "metadata": {
    "colab_type": "text",
    "id": "SnUeVIGLvwsZ"
   },
   "source": [
    "1. requests\n",
    "1. selenium\n",
    "1. matplotlib\n",
    "1. scrapy"
   ]
  },
  {
   "cell_type": "markdown",
   "metadata": {
    "colab_type": "text",
    "id": "rbDiS1quvwsa"
   },
   "source": [
    "### 3. 파이썬의 특징 4가지를 작성하세요."
   ]
  },
  {
   "cell_type": "markdown",
   "metadata": {},
   "source": [
    "#### 정답\n",
    "```\n",
    "- 플랫폼에 독립적\n",
    "- 인터프리터 언어\n",
    "- 객체지향적 언어\n",
    "- 동적 타이핑\n",
    "```"
   ]
  },
  {
   "cell_type": "markdown",
   "metadata": {
    "colab_type": "text",
    "id": "zR8fotRZvwsc"
   },
   "source": [
    "### 4. 판별분석에 대해서 설명하세요."
   ]
  },
  {
   "cell_type": "markdown",
   "metadata": {},
   "source": [
    "#### 정답\n",
    "```\n",
    "판별분석(Discriminants Analysis): 데이터를 통해 결과를 예측해내는 분석 방법(독립변수로 종속변수를 알아냄.\n",
    "                                -> 지도학습\n",
    "```"
   ]
  },
  {
   "cell_type": "markdown",
   "metadata": {
    "colab_type": "text",
    "id": "YSKjE6bCvwsd"
   },
   "source": [
    "### 5. 컴파일러가 하는 역할에 대하서 간략하게 서술하세요."
   ]
  },
  {
   "cell_type": "markdown",
   "metadata": {},
   "source": [
    "#### 정답\n",
    "```\n",
    "각 언어의 컴파일러가 코드를 0과 1의 이진수로 변환함.\n",
    "즉,  사람이 입력하는 코드를 해석하여 기계어 코드(이진수)로 변환해준다.\n",
    "```"
   ]
  },
  {
   "cell_type": "markdown",
   "metadata": {
    "colab_type": "text",
    "id": "3My9fDsCvwse"
   },
   "source": [
    "### 6. 데이터 처리를 위한 파이썬 패키지를 작성하세요."
   ]
  },
  {
   "cell_type": "markdown",
   "metadata": {},
   "source": [
    "#### 정답\n",
    "```\n",
    "- numpy : 수치해석, 선형대수의 계산기능을 제공\n",
    "          C나 C++ 언어로 작성되어있으나 불러오는건python\n",
    "          데이터 분석에서 테이블 데이터 계산을 굉장히 빠르게 해줌\n",
    "- pandas : 테이블 형태의 데이터를 탐색하거나 정리할 때 아주 빠르고 쉬운 사용성을 제공\n",
    "           패키지를 기본적으로 사용해서 작성된 패키지로 따로 테이블데이터 없고, 처리하지 않아도 쉽게 처리 가능\n",
    "```"
   ]
  }
 ],
 "metadata": {
  "colab": {
   "collapsed_sections": [],
   "name": "day1_예제_문제.ipynb",
   "provenance": [],
   "version": "0.3.2"
  },
  "kernelspec": {
   "display_name": "Python 3",
   "language": "python",
   "name": "python3"
  },
  "language_info": {
   "codemirror_mode": {
    "name": "ipython",
    "version": 3
   },
   "file_extension": ".py",
   "mimetype": "text/x-python",
   "name": "python",
   "nbconvert_exporter": "python",
   "pygments_lexer": "ipython3",
   "version": "3.8.3"
  }
 },
 "nbformat": 4,
 "nbformat_minor": 1
}
