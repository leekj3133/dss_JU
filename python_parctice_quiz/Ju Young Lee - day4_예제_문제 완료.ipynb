{
 "cells": [
  {
   "cell_type": "markdown",
   "metadata": {
    "colab_type": "text",
    "id": "8idFLPxJ7OB0"
   },
   "source": [
    "- 연산자\n",
    "- 조건문"
   ]
  },
  {
   "cell_type": "markdown",
   "metadata": {
    "colab_type": "text",
    "id": "lncyHce37OB1"
   },
   "source": [
    "### 예제"
   ]
  },
  {
   "cell_type": "markdown",
   "metadata": {
    "colab_type": "text",
    "id": "MLLSPbnX7OCO"
   },
   "source": [
    "### 1. 7의 9제곱을 출력하세요."
   ]
  },
  {
   "cell_type": "code",
   "execution_count": 1,
   "metadata": {},
   "outputs": [
    {
     "data": {
      "text/plain": [
       "40353607"
      ]
     },
     "execution_count": 1,
     "metadata": {},
     "output_type": "execute_result"
    }
   ],
   "source": [
    "7**9"
   ]
  },
  {
   "cell_type": "markdown",
   "metadata": {
    "colab_type": "text",
    "id": "UtnpbWn57OCX"
   },
   "source": [
    "### 2. 1234 / 123 의 몫과 나머지를 출력하세요."
   ]
  },
  {
   "cell_type": "code",
   "execution_count": 2,
   "metadata": {},
   "outputs": [
    {
     "data": {
      "text/plain": [
       "(10, 4)"
      ]
     },
     "execution_count": 2,
     "metadata": {},
     "output_type": "execute_result"
    }
   ],
   "source": [
    "1234 // 123 , 1234%123"
   ]
  },
  {
   "cell_type": "markdown",
   "metadata": {
    "colab_type": "text",
    "id": "uGmDSU8Y7OCc"
   },
   "source": [
    "### 3. 아래의 리스트 데이터에서 \"python\" 이 있으면 True를 출력, 없으면 False를 출력 하는 코드를 작성하세요.\n",
    "```\n",
    "data1 = [\"python\", \"data\", \"fast\"]\n",
    "data2 = [\"campus\", \"data\", \"fast\"]\n",
    "```"
   ]
  },
  {
   "cell_type": "code",
   "execution_count": 10,
   "metadata": {},
   "outputs": [
    {
     "name": "stdout",
     "output_type": "stream",
     "text": [
      "True\n",
      "False\n"
     ]
    }
   ],
   "source": [
    "data1 = [\"python\", \"data\", \"fast\"]\n",
    "data2 = [\"campus\", \"data\", \"fast\"]\n",
    "if \"python\" in data1:\n",
    "    print(\"True\")\n",
    "else:\n",
    "    print(\"False\")\n",
    "if \"python\" in data2:\n",
    "    print(\"True\")\n",
    "else:\n",
    "    print(\"False\")"
   ]
  },
  {
   "cell_type": "markdown",
   "metadata": {
    "colab_type": "text",
    "id": "FF3zNwVx7OCh"
   },
   "source": [
    "### 4. 아래의 코드를 삼항연산자로 변경하세요.\n",
    "\n",
    "```\n",
    "keyword = \"mac\"\n",
    "data = [\"mac\", \"os\", \"windows\", \"linux\"]\n",
    "if keyword in data:\n",
    "    print(\"데이터가 있습니다.\")\n",
    "else:\n",
    "    print(\"데이터가 없습니다.\")\n",
    "```"
   ]
  },
  {
   "cell_type": "code",
   "execution_count": 11,
   "metadata": {},
   "outputs": [
    {
     "name": "stdout",
     "output_type": "stream",
     "text": [
      "데이터가 있습니다.\n"
     ]
    }
   ],
   "source": [
    "keyword = \"mac\"\n",
    "data = [\"mac\", \"os\", \"windows\", \"linux\"]\n",
    "if keyword in data:\n",
    "    print(\"데이터가 있습니다.\")\n",
    "else:\n",
    "    print(\"데이터가 없습니다.\")"
   ]
  },
  {
   "cell_type": "code",
   "execution_count": 12,
   "metadata": {},
   "outputs": [
    {
     "data": {
      "text/plain": [
       "'데이터가 있습니다.'"
      ]
     },
     "execution_count": 12,
     "metadata": {},
     "output_type": "execute_result"
    }
   ],
   "source": [
    "\"데이터가 있습니다.\" if keyword in data else \"데이터가 없습니다.\""
   ]
  },
  {
   "cell_type": "markdown",
   "metadata": {
    "colab_type": "text",
    "id": "aiMUroKP7OCo"
   },
   "source": [
    "### 5. not 연산자를 사용해서 홀수와 짝수를 구분하는 코드를 작성하세요.\n",
    "\n",
    "```\n",
    "number = 5\n",
    "결과 : 홀수\n",
    "```"
   ]
  },
  {
   "cell_type": "code",
   "execution_count": 13,
   "metadata": {},
   "outputs": [
    {
     "name": "stdout",
     "output_type": "stream",
     "text": [
      "홀수\n"
     ]
    }
   ],
   "source": [
    "number = 5\n",
    "if not number%2:\n",
    "    print(\"짝수\")\n",
    "else:\n",
    "    print(\"홀수\")"
   ]
  },
  {
   "cell_type": "markdown",
   "metadata": {
    "colab_type": "text",
    "id": "VX_manph7OCz"
   },
   "source": [
    "### 6. num1과 num2가 둘다 홀수 일때 True를 출력하는 코드를 작성하세요.\n",
    "\n",
    "```\n",
    "num1, num2 = 3, 5\n",
    "결과 : True\n",
    "\n",
    "num1, num2 = 3, 6\n",
    "결과 : False\n",
    "```"
   ]
  },
  {
   "cell_type": "code",
   "execution_count": 19,
   "metadata": {},
   "outputs": [
    {
     "name": "stdout",
     "output_type": "stream",
     "text": [
      "True\n"
     ]
    }
   ],
   "source": [
    "num1, num2 = 3, 5\n",
    "if num1%2 == 1 and num2%2 == 1:\n",
    "    print(\"True\")\n",
    "else:\n",
    "    print(\"False\")"
   ]
  },
  {
   "cell_type": "code",
   "execution_count": 20,
   "metadata": {},
   "outputs": [
    {
     "name": "stdout",
     "output_type": "stream",
     "text": [
      "False\n"
     ]
    }
   ],
   "source": [
    "num1, num2 = 3, 6\n",
    "if num1%2 == 1 and num2%2 == 1:\n",
    "    print(\"True\")\n",
    "else:\n",
    "    print(\"False\")"
   ]
  },
  {
   "cell_type": "markdown",
   "metadata": {
    "colab_type": "text",
    "id": "blQLEexY7OC6"
   },
   "source": [
    "### 7. number 변수의 정수가 짝수이면서 3의 배수인경우 True를 출력하는 코드를 작성하세요.\n",
    "\n",
    "```\n",
    "number = 9\n",
    "Fasle\n",
    "\n",
    "number = 6\n",
    "True\n",
    "```"
   ]
  },
  {
   "cell_type": "code",
   "execution_count": 24,
   "metadata": {},
   "outputs": [
    {
     "name": "stdout",
     "output_type": "stream",
     "text": [
      "False\n"
     ]
    }
   ],
   "source": [
    "number = 9\n",
    "if number%2 ==0 and number%3 == 0:\n",
    "    print(\"True\")\n",
    "else:\n",
    "    print(\"False\")"
   ]
  },
  {
   "cell_type": "code",
   "execution_count": 25,
   "metadata": {},
   "outputs": [
    {
     "name": "stdout",
     "output_type": "stream",
     "text": [
      "True\n"
     ]
    }
   ],
   "source": [
    "number = 6\n",
    "if number%2 ==0 and number%3 == 0:\n",
    "    print(\"True\")\n",
    "else:\n",
    "    print(\"False\")"
   ]
  },
  {
   "cell_type": "markdown",
   "metadata": {
    "colab_type": "text",
    "id": "eA1q42qG7OC9"
   },
   "source": [
    "### 8. 한자리수를 입력하면 앞에 0을 붙이고 두자리수를 입력하면 0을 붙이지 않도록 코드를 작성하세요.\n",
    "\n",
    "```\n",
    "insert number : 7\n",
    "result => 07\n",
    "\n",
    "insert number : 22\n",
    "result => 22\n",
    "```"
   ]
  },
  {
   "cell_type": "code",
   "execution_count": 31,
   "metadata": {},
   "outputs": [
    {
     "name": "stdout",
     "output_type": "stream",
     "text": [
      "insert number :7\n",
      "07\n"
     ]
    }
   ],
   "source": [
    "number = input(\"insert number :\")\n",
    "if len(number) == 1:\n",
    "    print(\"0\"+number)\n",
    "elif len(number) == 2:\n",
    "    print(number)"
   ]
  },
  {
   "cell_type": "code",
   "execution_count": 32,
   "metadata": {},
   "outputs": [
    {
     "name": "stdout",
     "output_type": "stream",
     "text": [
      "insert number :22\n",
      "22\n"
     ]
    }
   ],
   "source": [
    "number = input(\"insert number :\")\n",
    "if len(number) == 1:\n",
    "    print(\"0\"+number)\n",
    "elif len(number) == 2:\n",
    "    print(number)"
   ]
  },
  {
   "cell_type": "markdown",
   "metadata": {
    "colab_type": "text",
    "id": "wNm5_Qop7ODP"
   },
   "source": [
    "### 9. 1월 1일이 월요일일때 1월 x일은 무슨 요일일까요?\n",
    "\n",
    "- x는 31이하의 수를 입력받습니다.\n",
    "\n",
    "```\n",
    "week = [\"일\", \"월\", \"화\", \"수\", \"목\", \"금\", \"토\"]\n",
    "```\n",
    "\n",
    "- 결과\n",
    "\n",
    "```\n",
    "insert day : 23\n",
    "'화'\n",
    "```"
   ]
  },
  {
   "cell_type": "code",
   "execution_count": 2,
   "metadata": {},
   "outputs": [
    {
     "name": "stdout",
     "output_type": "stream",
     "text": [
      "insert day : 23\n",
      "화\n"
     ]
    }
   ],
   "source": [
    "week = [\"일\", \"월\", \"화\", \"수\", \"목\", \"금\", \"토\"]\n",
    "x = int(input(\"insert day : \"))\n",
    "0< x <=31\n",
    "if x%7 == 1:\n",
    "    print(week[1])\n",
    "elif x%7 == 2:\n",
    "    print(week[2])\n",
    "elif x%7 == 3:\n",
    "    print(week[3])\n",
    "elif x%7 == 4:\n",
    "    print(week[4])\n",
    "elif x%7 == 5:\n",
    "    print(week[5])\n",
    "else:\n",
    "    print(week[0])"
   ]
  },
  {
   "cell_type": "markdown",
   "metadata": {
    "colab_type": "text",
    "id": "7Ds6JLaM7ODS"
   },
   "source": [
    "### 10. 요일을 입력받아 주말인지 아닌지를 판별하는 코드를 작성하세요.\n",
    "\n",
    "- 아래와 같이 변수를 선언해서 코드를 작성하세요.\n",
    "\n",
    "```\n",
    "weekend = [\"토\", \"일\"]\n",
    "weekday = [\"월\", \"화\", \"수\", \"목\", \"금\"]\n",
    "```\n",
    "\n",
    "- 결과\n",
    "\n",
    "```\n",
    "insert week : 월\n",
    "주중\n",
    "\n",
    "insert week : 일\n",
    "주말\n",
    "```"
   ]
  },
  {
   "cell_type": "code",
   "execution_count": 33,
   "metadata": {},
   "outputs": [
    {
     "name": "stdout",
     "output_type": "stream",
     "text": [
      "insert week : 월\n",
      "주중\n"
     ]
    }
   ],
   "source": [
    "weekend = [\"토\", \"일\"]\n",
    "weekday = [\"월\", \"화\", \"수\", \"목\", \"금\"]\n",
    "week = input(\"insert week : \")\n",
    "if week in weekend:\n",
    "    print(\"주말\")\n",
    "else:\n",
    "    print(\"주중\")"
   ]
  },
  {
   "cell_type": "code",
   "execution_count": 36,
   "metadata": {},
   "outputs": [
    {
     "name": "stdout",
     "output_type": "stream",
     "text": [
      "insert week : 일\n",
      "주말\n"
     ]
    }
   ],
   "source": [
    "weekend = [\"토\", \"일\"]\n",
    "weekday = [\"월\", \"화\", \"수\", \"목\", \"금\"]\n",
    "week = input(\"insert week : \")\n",
    "if week in weekend:\n",
    "    print(\"주말\")\n",
    "else:\n",
    "    print(\"주중\")"
   ]
  }
 ],
 "metadata": {
  "colab": {
   "collapsed_sections": [],
   "name": "day4_예제_문제.ipynb",
   "provenance": [],
   "version": "0.3.2"
  },
  "kernelspec": {
   "display_name": "Python 3",
   "language": "python",
   "name": "python3"
  },
  "language_info": {
   "codemirror_mode": {
    "name": "ipython",
    "version": 3
   },
   "file_extension": ".py",
   "mimetype": "text/x-python",
   "name": "python",
   "nbconvert_exporter": "python",
   "pygments_lexer": "ipython3",
   "version": "3.8.3"
  }
 },
 "nbformat": 4,
 "nbformat_minor": 1
}
