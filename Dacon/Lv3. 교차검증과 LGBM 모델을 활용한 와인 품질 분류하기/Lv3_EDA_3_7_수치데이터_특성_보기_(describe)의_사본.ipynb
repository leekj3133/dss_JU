{
  "nbformat": 4,
  "nbformat_minor": 0,
  "metadata": {
    "colab": {
      "name": "Lv3 EDA 3/7 수치데이터 특성 보기 (describe)의 사본",
      "provenance": [],
      "collapsed_sections": [
        "J1Is2vFL4cxY"
      ],
      "include_colab_link": true
    },
    "kernelspec": {
      "name": "python3",
      "display_name": "Python 3"
    },
    "language_info": {
      "name": "python"
    }
  },
  "cells": [
    {
      "cell_type": "markdown",
      "metadata": {
        "id": "view-in-github",
        "colab_type": "text"
      },
      "source": [
        "<a href=\"https://colab.research.google.com/github/leekj3133/dss_JU/blob/main/Dacon/Lv3.%20%EA%B5%90%EC%B0%A8%EA%B2%80%EC%A6%9D%EA%B3%BC%20LGBM%20%EB%AA%A8%EB%8D%B8%EC%9D%84%20%ED%99%9C%EC%9A%A9%ED%95%9C%20%EC%99%80%EC%9D%B8%20%ED%92%88%EC%A7%88%20%EB%B6%84%EB%A5%98%ED%95%98%EA%B8%B0/Lv3_EDA_3_7_%EC%88%98%EC%B9%98%EB%8D%B0%EC%9D%B4%ED%84%B0_%ED%8A%B9%EC%84%B1_%EB%B3%B4%EA%B8%B0_(describe)%EC%9D%98_%EC%82%AC%EB%B3%B8.ipynb\" target=\"_parent\"><img src=\"https://colab.research.google.com/assets/colab-badge.svg\" alt=\"Open In Colab\"/></a>"
      ]
    },
    {
      "cell_type": "markdown",
      "metadata": {
        "id": "vIpjpOEXsoW0"
      },
      "source": [
        "# [↩️ 리스트로 돌아가기](https://dacon.io/competitions/open/235698/overview/description)"
      ]
    },
    {
      "cell_type": "markdown",
      "metadata": {
        "id": "Y8EsppNShcez"
      },
      "source": [
        "# 셀을 실행할 때 팝업이 뜨면 `무시하고 계속하기` 를 눌러주세요\n"
      ]
    },
    {
      "cell_type": "markdown",
      "metadata": {
        "id": "Njt0HrWtCfg2"
      },
      "source": [
        "## 데이터 다운로드\n",
        "---\n",
        "아래 셀을 실행시켜 데이터를 colab 에 불러옵니다.\n",
        "셀 실행은 Ctrl + Enter 를 이용해 실행시킬 수 있습니다."
      ]
    },
    {
      "cell_type": "code",
      "metadata": {
        "id": "AEAqDnUPCtNT",
        "colab": {
          "base_uri": "https://localhost:8080/"
        },
        "outputId": "8f48ff8a-075b-4fa8-b34d-397895e8b9a6"
      },
      "source": [
        "# 데이터 다운로드 링크로 데이터를 코랩에 불러옵니다.\n",
        "\n",
        "!wget 'https://bit.ly/3i4n1QB'\n",
        "\n",
        "import zipfile\n",
        "with zipfile.ZipFile('3i4n1QB', 'r') as existing_zip:\n",
        "    existing_zip.extractall('data')"
      ],
      "execution_count": 1,
      "outputs": [
        {
          "output_type": "stream",
          "name": "stdout",
          "text": [
            "--2021-09-13 06:20:12--  https://bit.ly/3i4n1QB\n",
            "Resolving bit.ly (bit.ly)... 67.199.248.10, 67.199.248.11\n",
            "Connecting to bit.ly (bit.ly)|67.199.248.10|:443... connected.\n",
            "HTTP request sent, awaiting response... 301 Moved Permanently\n",
            "Location: https://drive.google.com/uc?export=download&id=1emLrrpFWT8dCoj5BJb12-5QMG2-nruUw [following]\n",
            "--2021-09-13 06:20:12--  https://drive.google.com/uc?export=download&id=1emLrrpFWT8dCoj5BJb12-5QMG2-nruUw\n",
            "Resolving drive.google.com (drive.google.com)... 172.217.2.110, 2607:f8b0:4004:80a::200e\n",
            "Connecting to drive.google.com (drive.google.com)|172.217.2.110|:443... connected.\n",
            "HTTP request sent, awaiting response... 302 Moved Temporarily\n",
            "Location: https://doc-10-10-docs.googleusercontent.com/docs/securesc/ha0ro937gcuc7l7deffksulhg5h7mbp1/ddmgh6nac9dl3se4jtfhht7tvucj1d94/1631514000000/17946651057176172524/*/1emLrrpFWT8dCoj5BJb12-5QMG2-nruUw?e=download [following]\n",
            "Warning: wildcards not supported in HTTP.\n",
            "--2021-09-13 06:20:14--  https://doc-10-10-docs.googleusercontent.com/docs/securesc/ha0ro937gcuc7l7deffksulhg5h7mbp1/ddmgh6nac9dl3se4jtfhht7tvucj1d94/1631514000000/17946651057176172524/*/1emLrrpFWT8dCoj5BJb12-5QMG2-nruUw?e=download\n",
            "Resolving doc-10-10-docs.googleusercontent.com (doc-10-10-docs.googleusercontent.com)... 172.217.1.193, 2607:f8b0:4004:801::2001\n",
            "Connecting to doc-10-10-docs.googleusercontent.com (doc-10-10-docs.googleusercontent.com)|172.217.1.193|:443... connected.\n",
            "HTTP request sent, awaiting response... 200 OK\n",
            "Length: 137694 (134K) [application/zip]\n",
            "Saving to: ‘3i4n1QB’\n",
            "\n",
            "3i4n1QB             100%[===================>] 134.47K  --.-KB/s    in 0.02s   \n",
            "\n",
            "2021-09-13 06:20:14 (5.74 MB/s) - ‘3i4n1QB’ saved [137694/137694]\n",
            "\n"
          ]
        }
      ]
    },
    {
      "cell_type": "markdown",
      "metadata": {
        "id": "lkWHR5fWFaug"
      },
      "source": [
        "## 라이브러리 불러오기\n",
        "---"
      ]
    },
    {
      "cell_type": "code",
      "metadata": {
        "id": "GqVbFVMCGJzT"
      },
      "source": [
        "import pandas as pd"
      ],
      "execution_count": 2,
      "outputs": []
    },
    {
      "cell_type": "markdown",
      "metadata": {
        "id": "z5B4oF7NNg7x"
      },
      "source": [
        "## 데이터 불러오기\n",
        "---"
      ]
    },
    {
      "cell_type": "code",
      "metadata": {
        "id": "o4wn5-67Nimj"
      },
      "source": [
        "train = pd.read_csv('data/train.csv')\n",
        "test = pd.read_csv('data/test.csv')"
      ],
      "execution_count": 3,
      "outputs": []
    },
    {
      "cell_type": "markdown",
      "metadata": {
        "id": "ZksEbPou52yW"
      },
      "source": [
        "## 👋 실습\n",
        "---"
      ]
    },
    {
      "cell_type": "code",
      "metadata": {
        "id": "YdvozqoZ4uhk",
        "colab": {
          "base_uri": "https://localhost:8080/",
          "height": 290
        },
        "outputId": "3f1da098-9ba3-4d5a-d1d7-a1e44fb52c86"
      },
      "source": [
        "# describe() 매서드로 데이터 요약을 출력하세요\n",
        "train.describe()"
      ],
      "execution_count": 4,
      "outputs": [
        {
          "output_type": "execute_result",
          "data": {
            "text/html": [
              "<div>\n",
              "<style scoped>\n",
              "    .dataframe tbody tr th:only-of-type {\n",
              "        vertical-align: middle;\n",
              "    }\n",
              "\n",
              "    .dataframe tbody tr th {\n",
              "        vertical-align: top;\n",
              "    }\n",
              "\n",
              "    .dataframe thead th {\n",
              "        text-align: right;\n",
              "    }\n",
              "</style>\n",
              "<table border=\"1\" class=\"dataframe\">\n",
              "  <thead>\n",
              "    <tr style=\"text-align: right;\">\n",
              "      <th></th>\n",
              "      <th>index</th>\n",
              "      <th>quality</th>\n",
              "      <th>fixed acidity</th>\n",
              "      <th>volatile acidity</th>\n",
              "      <th>citric acid</th>\n",
              "      <th>residual sugar</th>\n",
              "      <th>chlorides</th>\n",
              "      <th>free sulfur dioxide</th>\n",
              "      <th>total sulfur dioxide</th>\n",
              "      <th>density</th>\n",
              "      <th>pH</th>\n",
              "      <th>sulphates</th>\n",
              "      <th>alcohol</th>\n",
              "    </tr>\n",
              "  </thead>\n",
              "  <tbody>\n",
              "    <tr>\n",
              "      <th>count</th>\n",
              "      <td>5497.000000</td>\n",
              "      <td>5497.000000</td>\n",
              "      <td>5497.000000</td>\n",
              "      <td>5497.000000</td>\n",
              "      <td>5497.000000</td>\n",
              "      <td>5497.000000</td>\n",
              "      <td>5497.000000</td>\n",
              "      <td>5497.000000</td>\n",
              "      <td>5497.000000</td>\n",
              "      <td>5497.000000</td>\n",
              "      <td>5497.000000</td>\n",
              "      <td>5497.000000</td>\n",
              "      <td>5497.000000</td>\n",
              "    </tr>\n",
              "    <tr>\n",
              "      <th>mean</th>\n",
              "      <td>2748.000000</td>\n",
              "      <td>5.818992</td>\n",
              "      <td>7.210115</td>\n",
              "      <td>0.338163</td>\n",
              "      <td>0.318543</td>\n",
              "      <td>5.438075</td>\n",
              "      <td>0.055808</td>\n",
              "      <td>30.417682</td>\n",
              "      <td>115.566491</td>\n",
              "      <td>0.994673</td>\n",
              "      <td>3.219502</td>\n",
              "      <td>0.530524</td>\n",
              "      <td>10.504918</td>\n",
              "    </tr>\n",
              "    <tr>\n",
              "      <th>std</th>\n",
              "      <td>1586.991546</td>\n",
              "      <td>0.870311</td>\n",
              "      <td>1.287579</td>\n",
              "      <td>0.163224</td>\n",
              "      <td>0.145104</td>\n",
              "      <td>4.756676</td>\n",
              "      <td>0.034653</td>\n",
              "      <td>17.673881</td>\n",
              "      <td>56.288223</td>\n",
              "      <td>0.003014</td>\n",
              "      <td>0.160713</td>\n",
              "      <td>0.149396</td>\n",
              "      <td>1.194524</td>\n",
              "    </tr>\n",
              "    <tr>\n",
              "      <th>min</th>\n",
              "      <td>0.000000</td>\n",
              "      <td>3.000000</td>\n",
              "      <td>3.800000</td>\n",
              "      <td>0.080000</td>\n",
              "      <td>0.000000</td>\n",
              "      <td>0.600000</td>\n",
              "      <td>0.009000</td>\n",
              "      <td>1.000000</td>\n",
              "      <td>6.000000</td>\n",
              "      <td>0.987110</td>\n",
              "      <td>2.740000</td>\n",
              "      <td>0.220000</td>\n",
              "      <td>8.000000</td>\n",
              "    </tr>\n",
              "    <tr>\n",
              "      <th>25%</th>\n",
              "      <td>1374.000000</td>\n",
              "      <td>5.000000</td>\n",
              "      <td>6.400000</td>\n",
              "      <td>0.230000</td>\n",
              "      <td>0.250000</td>\n",
              "      <td>1.800000</td>\n",
              "      <td>0.038000</td>\n",
              "      <td>17.000000</td>\n",
              "      <td>78.000000</td>\n",
              "      <td>0.992300</td>\n",
              "      <td>3.110000</td>\n",
              "      <td>0.430000</td>\n",
              "      <td>9.500000</td>\n",
              "    </tr>\n",
              "    <tr>\n",
              "      <th>50%</th>\n",
              "      <td>2748.000000</td>\n",
              "      <td>6.000000</td>\n",
              "      <td>7.000000</td>\n",
              "      <td>0.290000</td>\n",
              "      <td>0.310000</td>\n",
              "      <td>3.000000</td>\n",
              "      <td>0.047000</td>\n",
              "      <td>29.000000</td>\n",
              "      <td>118.000000</td>\n",
              "      <td>0.994800</td>\n",
              "      <td>3.210000</td>\n",
              "      <td>0.510000</td>\n",
              "      <td>10.300000</td>\n",
              "    </tr>\n",
              "    <tr>\n",
              "      <th>75%</th>\n",
              "      <td>4122.000000</td>\n",
              "      <td>6.000000</td>\n",
              "      <td>7.700000</td>\n",
              "      <td>0.400000</td>\n",
              "      <td>0.390000</td>\n",
              "      <td>8.100000</td>\n",
              "      <td>0.064000</td>\n",
              "      <td>41.000000</td>\n",
              "      <td>155.000000</td>\n",
              "      <td>0.996930</td>\n",
              "      <td>3.320000</td>\n",
              "      <td>0.600000</td>\n",
              "      <td>11.300000</td>\n",
              "    </tr>\n",
              "    <tr>\n",
              "      <th>max</th>\n",
              "      <td>5496.000000</td>\n",
              "      <td>9.000000</td>\n",
              "      <td>15.900000</td>\n",
              "      <td>1.580000</td>\n",
              "      <td>1.660000</td>\n",
              "      <td>65.800000</td>\n",
              "      <td>0.610000</td>\n",
              "      <td>289.000000</td>\n",
              "      <td>440.000000</td>\n",
              "      <td>1.038980</td>\n",
              "      <td>4.010000</td>\n",
              "      <td>2.000000</td>\n",
              "      <td>14.900000</td>\n",
              "    </tr>\n",
              "  </tbody>\n",
              "</table>\n",
              "</div>"
            ],
            "text/plain": [
              "             index      quality  ...    sulphates      alcohol\n",
              "count  5497.000000  5497.000000  ...  5497.000000  5497.000000\n",
              "mean   2748.000000     5.818992  ...     0.530524    10.504918\n",
              "std    1586.991546     0.870311  ...     0.149396     1.194524\n",
              "min       0.000000     3.000000  ...     0.220000     8.000000\n",
              "25%    1374.000000     5.000000  ...     0.430000     9.500000\n",
              "50%    2748.000000     6.000000  ...     0.510000    10.300000\n",
              "75%    4122.000000     6.000000  ...     0.600000    11.300000\n",
              "max    5496.000000     9.000000  ...     2.000000    14.900000\n",
              "\n",
              "[8 rows x 13 columns]"
            ]
          },
          "metadata": {},
          "execution_count": 4
        }
      ]
    },
    {
      "cell_type": "code",
      "metadata": {
        "colab": {
          "base_uri": "https://localhost:8080/",
          "height": 290
        },
        "id": "aUrpjRRH0QiF",
        "outputId": "acb8645c-64c3-4be9-f1a9-5433481c4f95"
      },
      "source": [
        "test.describe()"
      ],
      "execution_count": 5,
      "outputs": [
        {
          "output_type": "execute_result",
          "data": {
            "text/html": [
              "<div>\n",
              "<style scoped>\n",
              "    .dataframe tbody tr th:only-of-type {\n",
              "        vertical-align: middle;\n",
              "    }\n",
              "\n",
              "    .dataframe tbody tr th {\n",
              "        vertical-align: top;\n",
              "    }\n",
              "\n",
              "    .dataframe thead th {\n",
              "        text-align: right;\n",
              "    }\n",
              "</style>\n",
              "<table border=\"1\" class=\"dataframe\">\n",
              "  <thead>\n",
              "    <tr style=\"text-align: right;\">\n",
              "      <th></th>\n",
              "      <th>index</th>\n",
              "      <th>fixed acidity</th>\n",
              "      <th>volatile acidity</th>\n",
              "      <th>citric acid</th>\n",
              "      <th>residual sugar</th>\n",
              "      <th>chlorides</th>\n",
              "      <th>free sulfur dioxide</th>\n",
              "      <th>total sulfur dioxide</th>\n",
              "      <th>density</th>\n",
              "      <th>pH</th>\n",
              "      <th>sulphates</th>\n",
              "      <th>alcohol</th>\n",
              "    </tr>\n",
              "  </thead>\n",
              "  <tbody>\n",
              "    <tr>\n",
              "      <th>count</th>\n",
              "      <td>1000.000000</td>\n",
              "      <td>1000.000000</td>\n",
              "      <td>1000.000000</td>\n",
              "      <td>1000.000000</td>\n",
              "      <td>1000.00000</td>\n",
              "      <td>1000.000000</td>\n",
              "      <td>1000.000000</td>\n",
              "      <td>1000.000000</td>\n",
              "      <td>1000.000000</td>\n",
              "      <td>1000.000000</td>\n",
              "      <td>1000.000000</td>\n",
              "      <td>1000.000000</td>\n",
              "    </tr>\n",
              "    <tr>\n",
              "      <th>mean</th>\n",
              "      <td>499.500000</td>\n",
              "      <td>7.243850</td>\n",
              "      <td>0.347930</td>\n",
              "      <td>0.319130</td>\n",
              "      <td>5.47160</td>\n",
              "      <td>0.057275</td>\n",
              "      <td>31.117000</td>\n",
              "      <td>116.723500</td>\n",
              "      <td>0.994825</td>\n",
              "      <td>3.213000</td>\n",
              "      <td>0.535360</td>\n",
              "      <td>10.419693</td>\n",
              "    </tr>\n",
              "    <tr>\n",
              "      <th>std</th>\n",
              "      <td>288.819436</td>\n",
              "      <td>1.344372</td>\n",
              "      <td>0.172043</td>\n",
              "      <td>0.146561</td>\n",
              "      <td>4.76628</td>\n",
              "      <td>0.037048</td>\n",
              "      <td>18.156527</td>\n",
              "      <td>57.808145</td>\n",
              "      <td>0.002912</td>\n",
              "      <td>0.161165</td>\n",
              "      <td>0.145525</td>\n",
              "      <td>1.180694</td>\n",
              "    </tr>\n",
              "    <tr>\n",
              "      <th>min</th>\n",
              "      <td>0.000000</td>\n",
              "      <td>4.200000</td>\n",
              "      <td>0.080000</td>\n",
              "      <td>0.000000</td>\n",
              "      <td>0.70000</td>\n",
              "      <td>0.014000</td>\n",
              "      <td>1.000000</td>\n",
              "      <td>7.000000</td>\n",
              "      <td>0.988150</td>\n",
              "      <td>2.720000</td>\n",
              "      <td>0.230000</td>\n",
              "      <td>8.400000</td>\n",
              "    </tr>\n",
              "    <tr>\n",
              "      <th>25%</th>\n",
              "      <td>249.750000</td>\n",
              "      <td>6.400000</td>\n",
              "      <td>0.230000</td>\n",
              "      <td>0.240000</td>\n",
              "      <td>1.80000</td>\n",
              "      <td>0.039000</td>\n",
              "      <td>17.750000</td>\n",
              "      <td>76.750000</td>\n",
              "      <td>0.992448</td>\n",
              "      <td>3.100000</td>\n",
              "      <td>0.437500</td>\n",
              "      <td>9.500000</td>\n",
              "    </tr>\n",
              "    <tr>\n",
              "      <th>50%</th>\n",
              "      <td>499.500000</td>\n",
              "      <td>7.000000</td>\n",
              "      <td>0.300000</td>\n",
              "      <td>0.300000</td>\n",
              "      <td>2.90000</td>\n",
              "      <td>0.048000</td>\n",
              "      <td>29.000000</td>\n",
              "      <td>118.500000</td>\n",
              "      <td>0.995130</td>\n",
              "      <td>3.200000</td>\n",
              "      <td>0.510000</td>\n",
              "      <td>10.200000</td>\n",
              "    </tr>\n",
              "    <tr>\n",
              "      <th>75%</th>\n",
              "      <td>749.250000</td>\n",
              "      <td>7.700000</td>\n",
              "      <td>0.410000</td>\n",
              "      <td>0.392500</td>\n",
              "      <td>8.20000</td>\n",
              "      <td>0.067250</td>\n",
              "      <td>42.000000</td>\n",
              "      <td>156.000000</td>\n",
              "      <td>0.997060</td>\n",
              "      <td>3.312500</td>\n",
              "      <td>0.620000</td>\n",
              "      <td>11.200000</td>\n",
              "    </tr>\n",
              "    <tr>\n",
              "      <th>max</th>\n",
              "      <td>999.000000</td>\n",
              "      <td>15.600000</td>\n",
              "      <td>1.240000</td>\n",
              "      <td>0.810000</td>\n",
              "      <td>22.60000</td>\n",
              "      <td>0.611000</td>\n",
              "      <td>122.500000</td>\n",
              "      <td>289.000000</td>\n",
              "      <td>1.003150</td>\n",
              "      <td>3.780000</td>\n",
              "      <td>1.310000</td>\n",
              "      <td>14.000000</td>\n",
              "    </tr>\n",
              "  </tbody>\n",
              "</table>\n",
              "</div>"
            ],
            "text/plain": [
              "             index  fixed acidity  ...    sulphates      alcohol\n",
              "count  1000.000000    1000.000000  ...  1000.000000  1000.000000\n",
              "mean    499.500000       7.243850  ...     0.535360    10.419693\n",
              "std     288.819436       1.344372  ...     0.145525     1.180694\n",
              "min       0.000000       4.200000  ...     0.230000     8.400000\n",
              "25%     249.750000       6.400000  ...     0.437500     9.500000\n",
              "50%     499.500000       7.000000  ...     0.510000    10.200000\n",
              "75%     749.250000       7.700000  ...     0.620000    11.200000\n",
              "max     999.000000      15.600000  ...     1.310000    14.000000\n",
              "\n",
              "[8 rows x 12 columns]"
            ]
          },
          "metadata": {},
          "execution_count": 5
        }
      ]
    },
    {
      "cell_type": "markdown",
      "metadata": {
        "id": "JlPcQjOg0E0R"
      },
      "source": [
        "describe() 메서드 : 다양한 통계량을 요약해주는 굉장히 편리한 메서드 입니다.😮\n",
        "\n",
        "결측치는 제외하고 수치형 데이터에 한해 데이터 요약이 수행됩니다.🤗\n",
        "\n",
        "count, mean, std, min , 1 분위수, 2 분위수, 3 분위수, max 값 출력\n",
        "\n"
      ]
    },
    {
      "cell_type": "markdown",
      "metadata": {
        "id": "J1Is2vFL4cxY"
      },
      "source": [
        "## 정답\n",
        "---"
      ]
    },
    {
      "cell_type": "code",
      "metadata": {
        "id": "r67Dma3wPuca"
      },
      "source": [
        "train.describe()"
      ],
      "execution_count": null,
      "outputs": []
    },
    {
      "cell_type": "markdown",
      "metadata": {
        "id": "K8YgC54VtiB7"
      },
      "source": [
        "# [↩️ 리스트로 돌아가기](https://dacon.io/competitions/open/235698/overview/description)"
      ]
    }
  ]
}