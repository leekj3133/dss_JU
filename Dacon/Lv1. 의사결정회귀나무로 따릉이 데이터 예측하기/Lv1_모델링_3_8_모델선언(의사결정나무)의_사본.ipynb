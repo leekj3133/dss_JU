{
  "nbformat": 4,
  "nbformat_minor": 0,
  "metadata": {
    "colab": {
      "name": "Lv1_모델링_3/8_모델선언(의사결정나무)의 사본",
      "provenance": [],
      "collapsed_sections": [
        "AUk_fCmVhtIc"
      ],
      "include_colab_link": true
    },
    "kernelspec": {
      "name": "python3",
      "display_name": "Python 3"
    },
    "language_info": {
      "name": "python"
    }
  },
  "cells": [
    {
      "cell_type": "markdown",
      "metadata": {
        "id": "view-in-github",
        "colab_type": "text"
      },
      "source": [
        "<a href=\"https://colab.research.google.com/github/leekj3133/dss_JU/blob/main/Dacon/Lv1.%20%EC%9D%98%EC%82%AC%EA%B2%B0%EC%A0%95%ED%9A%8C%EA%B7%80%EB%82%98%EB%AC%B4%EB%A1%9C%20%EB%94%B0%EB%A6%89%EC%9D%B4%20%EB%8D%B0%EC%9D%B4%ED%84%B0%20%EC%98%88%EC%B8%A1%ED%95%98%EA%B8%B0/Lv1_%EB%AA%A8%EB%8D%B8%EB%A7%81_3_8_%EB%AA%A8%EB%8D%B8%EC%84%A0%EC%96%B8(%EC%9D%98%EC%82%AC%EA%B2%B0%EC%A0%95%EB%82%98%EB%AC%B4)%EC%9D%98_%EC%82%AC%EB%B3%B8.ipynb\" target=\"_parent\"><img src=\"https://colab.research.google.com/assets/colab-badge.svg\" alt=\"Open In Colab\"/></a>"
      ]
    },
    {
      "cell_type": "markdown",
      "metadata": {
        "id": "vIpjpOEXsoW0"
      },
      "source": [
        "# [↩️ 리스트로 돌아가기](https://dacon.io/competitions/open/235698/overview/description)"
      ]
    },
    {
      "cell_type": "markdown",
      "metadata": {
        "id": "-Xk4YBNFhkPe"
      },
      "source": [
        "# 셀을 실행할 때 팝업이 뜨면 `무시하고 계속하기` 를 눌러주세요\n"
      ]
    },
    {
      "cell_type": "markdown",
      "metadata": {
        "id": "Q453R09NhqYM"
      },
      "source": [
        "## 👋 실습\n",
        "---\n",
        "scikit-learn 으로부터 의사결정나무 모듈을 불러오는 코드를 아래에 작성하세요."
      ]
    },
    {
      "cell_type": "markdown",
      "metadata": {
        "id": "guHc9FhA67gs"
      },
      "source": [
        "## Sklearn \n",
        "1. classification\n",
        "2. Regression\n",
        "3. Clustring\n",
        "4. Dimensionality reduction\n",
        "5. Mdel selection\n",
        "6. Preprocessing"
      ]
    },
    {
      "cell_type": "markdown",
      "metadata": {
        "id": "SqnRiuYR7R4u"
      },
      "source": [
        "## 의사결정나무 \n",
        "- 정의 : 결정트리는 의사 결정 규칙과 그 결과들을 트리 구조로 도식화한 의 결정 지원 도구의 일종(스무고개 방식으로 구조화)\n",
        "- 의사결정 나무의 대원칙\n",
        "- \"한쪽 방향으로 쏠리도록\n",
        "분류 될때는 공평하게 비슷한 양으로 나뉘도록 값을 정하는 것이 아니라, \"한쪽 방향으로 쏠리도록\" 해주는 특정한 값을 찾는 것, 이를 불순도(Impurity,어떠한 피쳐의 어떤 값을 기준으로 삼아여 할지를 정하는 기준)를 계산해서 찾아냄\n",
        "https://github.com/pyohamen/Im-Being-Data-Scientist/wiki/what-is-decision-tree%3F\n"
      ]
    },
    {
      "cell_type": "code",
      "metadata": {
        "id": "zAnhzBdphqBA"
      },
      "source": [
        "import sklearn\n",
        "from sklearn.tree import DecisionTreeClassifier\n",
        "model = DecisionTreeClassifier()"
      ],
      "execution_count": 3,
      "outputs": []
    },
    {
      "cell_type": "markdown",
      "metadata": {
        "id": "AUk_fCmVhtIc"
      },
      "source": [
        "## 정답\n",
        "---"
      ]
    },
    {
      "cell_type": "code",
      "metadata": {
        "id": "SXmFFc3Whp0_"
      },
      "source": [
        "# 정답 코드\n",
        "from sklearn.tree import DecisionTreeClassifier\n",
        "model = DecisionTreeClassifier()"
      ],
      "execution_count": null,
      "outputs": []
    },
    {
      "cell_type": "markdown",
      "metadata": {
        "id": "GyU72C1atJ8i"
      },
      "source": [
        "# [↩️ 리스트로 돌아가기](https://dacon.io/competitions/open/235698/overview/description)"
      ]
    }
  ]
}