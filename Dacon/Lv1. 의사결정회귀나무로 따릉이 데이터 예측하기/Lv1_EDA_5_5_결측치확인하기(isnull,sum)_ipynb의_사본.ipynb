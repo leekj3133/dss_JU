{
  "nbformat": 4,
  "nbformat_minor": 0,
  "metadata": {
    "colab": {
      "name": "Lv1_EDA_5/5_결측치확인하기(isnull,sum).ipynb의 사본",
      "provenance": [],
      "collapsed_sections": [
        "AUk_fCmVhtIc"
      ],
      "include_colab_link": true
    },
    "kernelspec": {
      "name": "python3",
      "display_name": "Python 3"
    },
    "language_info": {
      "name": "python"
    }
  },
  "cells": [
    {
      "cell_type": "markdown",
      "metadata": {
        "id": "view-in-github",
        "colab_type": "text"
      },
      "source": [
        "<a href=\"https://colab.research.google.com/github/leekj3133/dss_JU/blob/main/Dacon/Lv1.%20%EC%9D%98%EC%82%AC%EA%B2%B0%EC%A0%95%ED%9A%8C%EA%B7%80%EB%82%98%EB%AC%B4%EB%A1%9C%20%EB%94%B0%EB%A6%89%EC%9D%B4%20%EB%8D%B0%EC%9D%B4%ED%84%B0%20%EC%98%88%EC%B8%A1%ED%95%98%EA%B8%B0/Lv1_EDA_5_5_%EA%B2%B0%EC%B8%A1%EC%B9%98%ED%99%95%EC%9D%B8%ED%95%98%EA%B8%B0(isnull%2Csum)_ipynb%EC%9D%98_%EC%82%AC%EB%B3%B8.ipynb\" target=\"_parent\"><img src=\"https://colab.research.google.com/assets/colab-badge.svg\" alt=\"Open In Colab\"/></a>"
      ]
    },
    {
      "cell_type": "markdown",
      "metadata": {
        "id": "vIpjpOEXsoW0"
      },
      "source": [
        "# [↩️ 리스트로 돌아가기](https://dacon.io/competitions/open/235698/overview/description)"
      ]
    },
    {
      "cell_type": "markdown",
      "metadata": {
        "id": "-Xk4YBNFhkPe"
      },
      "source": [
        "# 셀을 실행할 때 팝업이 뜨면 `무시하고 계속하기` 를 눌러주세요\n"
      ]
    },
    {
      "cell_type": "markdown",
      "metadata": {
        "id": "7A1_NrpnNgI0"
      },
      "source": [
        "## 데이터 다운로드\n",
        "--- \n",
        "아래 셀을 실행시켜 데이터를 colab에 불러옵니다.  \n",
        "셀 실행은 Ctrl + Enter 를 이용해 실행 시킬 수 있습니다. "
      ]
    },
    {
      "cell_type": "code",
      "metadata": {
        "id": "a3VxvpLvhnap"
      },
      "source": [
        "# 데이터 다운로드 링크로 데이터를 코랩에 불러옵니다.\n",
        "\n",
        "!wget 'https://bit.ly/3gLj0Q6'\n",
        "\n",
        "import zipfile\n",
        "with zipfile.ZipFile('3gLj0Q6', 'r') as existing_zip:\n",
        "    existing_zip.extractall('data')"
      ],
      "execution_count": null,
      "outputs": []
    },
    {
      "cell_type": "markdown",
      "metadata": {
        "id": "Q453R09NhqYM"
      },
      "source": [
        "## 실습\n",
        "---\n",
        "`train.csv` 의 결측치를 확인하는 코드를 작성해 보세요."
      ]
    },
    {
      "cell_type": "code",
      "metadata": {
        "id": "zAnhzBdphqBA"
      },
      "source": [
        "import pandas as pd\n",
        "\n",
        "\n",
        "train = pd.read_csv('data/train.csv') \n",
        "test = pd.read_csv('data/test.csv')\n",
        "\n",
        "\n",
        "print('train.csv 데이터 프레임에서 각 데이터의 결측치 여부를 확인하는 코드를 작성해 보세요.')\n",
        "print('\\n------------------------train.csv 각 열 별 결측치 수------------------------\\n')\n",
        "print('train 데이터의 열별 결측치 수를 확인하는 코드를 작성해 보세요.')"
      ],
      "execution_count": null,
      "outputs": []
    },
    {
      "cell_type": "markdown",
      "metadata": {
        "id": "AUk_fCmVhtIc"
      },
      "source": [
        "## 정답\n",
        "---"
      ]
    },
    {
      "cell_type": "code",
      "metadata": {
        "id": "SXmFFc3Whp0_"
      },
      "source": [
        "import pandas as pd\n",
        "\n",
        "# 정답 코드\n",
        "train = pd.read_csv('data/train.csv') \n",
        "test = pd.read_csv('data/test.csv')\n",
        "\n",
        "print(train.isnull())\n",
        "print('\\n--------------------------------train.csv 각 열 별 결측치 수--------------------------------\\n')\n",
        "print(test.isnull().sum())"
      ],
      "execution_count": null,
      "outputs": []
    },
    {
      "cell_type": "markdown",
      "metadata": {
        "id": "zFK75NjutxXc"
      },
      "source": [
        "# [↩️ 리스트로 돌아가기](https://dacon.io/competitions/open/235698/overview/description)"
      ]
    }
  ]
}