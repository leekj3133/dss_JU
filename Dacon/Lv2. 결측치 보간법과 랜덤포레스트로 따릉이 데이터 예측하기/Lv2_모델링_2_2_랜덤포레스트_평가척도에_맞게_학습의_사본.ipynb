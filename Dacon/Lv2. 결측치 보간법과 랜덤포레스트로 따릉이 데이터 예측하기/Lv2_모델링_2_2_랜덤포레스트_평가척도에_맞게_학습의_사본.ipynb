{
  "nbformat": 4,
  "nbformat_minor": 0,
  "metadata": {
    "colab": {
      "name": "Lv2 모델링 2/2 랜덤포레스트 평가척도에 맞게 학습의 사본",
      "provenance": [],
      "collapsed_sections": [],
      "include_colab_link": true
    },
    "kernelspec": {
      "name": "python3",
      "display_name": "Python 3"
    },
    "language_info": {
      "name": "python"
    }
  },
  "cells": [
    {
      "cell_type": "markdown",
      "metadata": {
        "id": "view-in-github",
        "colab_type": "text"
      },
      "source": [
        "<a href=\"https://colab.research.google.com/github/leekj3133/dss_JU/blob/main/Dacon/Lv2.%20%EA%B2%B0%EC%B8%A1%EC%B9%98%20%EB%B3%B4%EA%B0%84%EB%B2%95%EA%B3%BC%20%EB%9E%9C%EB%8D%A4%ED%8F%AC%EB%A0%88%EC%8A%A4%ED%8A%B8%EB%A1%9C%20%EB%94%B0%EB%A6%89%EC%9D%B4%20%EB%8D%B0%EC%9D%B4%ED%84%B0%20%EC%98%88%EC%B8%A1%ED%95%98%EA%B8%B0/Lv2_%EB%AA%A8%EB%8D%B8%EB%A7%81_2_2_%EB%9E%9C%EB%8D%A4%ED%8F%AC%EB%A0%88%EC%8A%A4%ED%8A%B8_%ED%8F%89%EA%B0%80%EC%B2%99%EB%8F%84%EC%97%90_%EB%A7%9E%EA%B2%8C_%ED%95%99%EC%8A%B5%EC%9D%98_%EC%82%AC%EB%B3%B8.ipynb\" target=\"_parent\"><img src=\"https://colab.research.google.com/assets/colab-badge.svg\" alt=\"Open In Colab\"/></a>"
      ]
    },
    {
      "cell_type": "markdown",
      "metadata": {
        "id": "vIpjpOEXsoW0"
      },
      "source": [
        "# [↩️ 리스트로 돌아가기](https://dacon.io/competitions/open/235698/overview/description)"
      ]
    },
    {
      "cell_type": "markdown",
      "metadata": {
        "id": "Y8EsppNShcez"
      },
      "source": [
        "# 셀을 실행할 때 팝업이 뜨면 `무시하고 계속하기` 를 눌러주세요\n"
      ]
    },
    {
      "cell_type": "markdown",
      "metadata": {
        "id": "7A1_NrpnNgI0"
      },
      "source": [
        "## 데이터 다운로드\n",
        "--- \n",
        "아래 셀을 실행시켜 데이터를 colab에 불러옵니다.  \n",
        "셀 실행은 Ctrl + Enter 를 이용해 실행 시킬 수 있습니다. "
      ]
    },
    {
      "cell_type": "code",
      "metadata": {
        "id": "a3VxvpLvhnap",
        "colab": {
          "base_uri": "https://localhost:8080/"
        },
        "outputId": "a32b1ca0-ce37-4253-fa6d-c9f942a13475"
      },
      "source": [
        "# 데이터 다운로드 링크로 데이터를 코랩에 불러옵니다.\n",
        "\n",
        "!wget 'https://bit.ly/3gLj0Q6'\n",
        "\n",
        "import zipfile\n",
        "with zipfile.ZipFile('3gLj0Q6', 'r') as existing_zip:\n",
        "    existing_zip.extractall('data')"
      ],
      "execution_count": 1,
      "outputs": [
        {
          "output_type": "stream",
          "name": "stdout",
          "text": [
            "--2021-09-08 08:20:20--  https://bit.ly/3gLj0Q6\n",
            "Resolving bit.ly (bit.ly)... 67.199.248.10, 67.199.248.11\n",
            "Connecting to bit.ly (bit.ly)|67.199.248.10|:443... connected.\n",
            "HTTP request sent, awaiting response... 301 Moved Permanently\n",
            "Location: https://drive.google.com/uc?export=download&id=1or_QN1ksv81DNog6Tu_kWcZ5jJWf5W9E [following]\n",
            "--2021-09-08 08:20:21--  https://drive.google.com/uc?export=download&id=1or_QN1ksv81DNog6Tu_kWcZ5jJWf5W9E\n",
            "Resolving drive.google.com (drive.google.com)... 172.217.203.101, 172.217.203.102, 172.217.203.138, ...\n",
            "Connecting to drive.google.com (drive.google.com)|172.217.203.101|:443... connected.\n",
            "HTTP request sent, awaiting response... 302 Moved Temporarily\n",
            "Location: https://doc-0c-10-docs.googleusercontent.com/docs/securesc/ha0ro937gcuc7l7deffksulhg5h7mbp1/461lqk7t20n1gq005bpu4ju80lm41jku/1631089200000/17946651057176172524/*/1or_QN1ksv81DNog6Tu_kWcZ5jJWf5W9E?e=download [following]\n",
            "Warning: wildcards not supported in HTTP.\n",
            "--2021-09-08 08:20:21--  https://doc-0c-10-docs.googleusercontent.com/docs/securesc/ha0ro937gcuc7l7deffksulhg5h7mbp1/461lqk7t20n1gq005bpu4ju80lm41jku/1631089200000/17946651057176172524/*/1or_QN1ksv81DNog6Tu_kWcZ5jJWf5W9E?e=download\n",
            "Resolving doc-0c-10-docs.googleusercontent.com (doc-0c-10-docs.googleusercontent.com)... 74.125.26.132, 2607:f8b0:400c:c04::84\n",
            "Connecting to doc-0c-10-docs.googleusercontent.com (doc-0c-10-docs.googleusercontent.com)|74.125.26.132|:443... connected.\n",
            "HTTP request sent, awaiting response... 200 OK\n",
            "Length: 39208 (38K) [application/zip]\n",
            "Saving to: ‘3gLj0Q6’\n",
            "\n",
            "3gLj0Q6             100%[===================>]  38.29K  --.-KB/s    in 0.001s  \n",
            "\n",
            "2021-09-08 08:20:21 (54.0 MB/s) - ‘3gLj0Q6’ saved [39208/39208]\n",
            "\n"
          ]
        }
      ]
    },
    {
      "cell_type": "markdown",
      "metadata": {
        "id": "gx8XCXCxeQk8"
      },
      "source": [
        "## 라이브러리 불러오기\n",
        "---\n",
        "아래 셀을 실행시켜 pandas 와 RandomForestRegressor 를 불러옵니다."
      ]
    },
    {
      "cell_type": "code",
      "metadata": {
        "id": "kt_IKrkPeNwQ"
      },
      "source": [
        "import pandas as pd\n",
        "from sklearn.ensemble import RandomForestRegressor"
      ],
      "execution_count": 3,
      "outputs": []
    },
    {
      "cell_type": "markdown",
      "metadata": {
        "id": "VxC2pa2-rgat"
      },
      "source": [
        "## 데이터 불러오기\n",
        "---\n",
        "아래 셀을 실행시켜 csv 파일 데이터를 DataFrame 객체로 불러옵니다."
      ]
    },
    {
      "cell_type": "code",
      "metadata": {
        "id": "V6wTaK4sfnms"
      },
      "source": [
        "train = pd.read_csv('data/train.csv') \n",
        "test = pd.read_csv('data/test.csv')"
      ],
      "execution_count": 4,
      "outputs": []
    },
    {
      "cell_type": "markdown",
      "metadata": {
        "id": "w_PwM9kF7Pbi"
      },
      "source": [
        "## 결측치 전처리 (보간)\n",
        "---\n",
        "interpolate() 를 이용해 결측치를 DataFrame 값에 선형으로 비례하여 보간합니다."
      ]
    },
    {
      "cell_type": "code",
      "metadata": {
        "id": "H2K-UbwAkuJ6"
      },
      "source": [
        "train.interpolate(inplace=True)"
      ],
      "execution_count": 5,
      "outputs": []
    },
    {
      "cell_type": "markdown",
      "metadata": {
        "id": "ZksEbPou52yW"
      },
      "source": [
        "## 👋 실습\n",
        "---"
      ]
    },
    {
      "cell_type": "code",
      "metadata": {
        "id": "86ldFLXsk2GZ"
      },
      "source": [
        "# count 피쳐를 제외한 X_train df 를 생성하는 코드를 아래에 작성하세요.\n",
        "x_train = train.drop([\"count\"],axis=1)"
      ],
      "execution_count": 6,
      "outputs": []
    },
    {
      "cell_type": "code",
      "metadata": {
        "id": "f6ykr2bCk2of"
      },
      "source": [
        "# count 피쳐만을 가진 Y_train df 를 생성하는 코드를 아래에 작성하세요.\n",
        "y_train = train[\"count\"]"
      ],
      "execution_count": 7,
      "outputs": []
    },
    {
      "cell_type": "markdown",
      "metadata": {
        "id": "mR7MoFTzf3ia"
      },
      "source": [
        "랜덤포레스트 모듈의 옵션 중 criterion 옵션을 통해 어떤 평가척도를 기준으로 훈련할 것인지 정할 수 있습니다.\n",
        "\n",
        "\t따릉이 대회의 평가지표는 RMSE 입니다. RMSE 는 MSE 평가지표에 루트를 씌운 것으로서, 모델을 선언할 때 criterion = ‘mse’ 옵션으로 구현할 수 있습니다.\n",
        "\n",
        "\t\t\n",
        "`\n",
        "model = RandomForestRegressor(criterion = 'mse')\n",
        "`\n",
        "![image.png](data:image/png;base64,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)"
      ]
    },
    {
      "cell_type": "code",
      "metadata": {
        "colab": {
          "base_uri": "https://localhost:8080/"
        },
        "id": "-XZKZEacf3Lw",
        "outputId": "cd2c18ce-43f0-446e-ba2e-0078894922f7"
      },
      "source": [
        "model = RandomForestRegressor(criterion = 'mse')\n",
        "model.fit(x_train,y_train)"
      ],
      "execution_count": 8,
      "outputs": [
        {
          "output_type": "execute_result",
          "data": {
            "text/plain": [
              "RandomForestRegressor(bootstrap=True, ccp_alpha=0.0, criterion='mse',\n",
              "                      max_depth=None, max_features='auto', max_leaf_nodes=None,\n",
              "                      max_samples=None, min_impurity_decrease=0.0,\n",
              "                      min_impurity_split=None, min_samples_leaf=1,\n",
              "                      min_samples_split=2, min_weight_fraction_leaf=0.0,\n",
              "                      n_estimators=100, n_jobs=None, oob_score=False,\n",
              "                      random_state=None, verbose=0, warm_start=False)"
            ]
          },
          "metadata": {},
          "execution_count": 8
        }
      ]
    },
    {
      "cell_type": "markdown",
      "metadata": {
        "id": "J1Is2vFL4cxY"
      },
      "source": [
        "## 정답\n",
        "---"
      ]
    },
    {
      "cell_type": "code",
      "metadata": {
        "id": "Cc10QSz6eyPa"
      },
      "source": [
        "X_train = train.drop(['count'], axis=1)\n",
        "Y_train = train['count']"
      ],
      "execution_count": null,
      "outputs": []
    },
    {
      "cell_type": "code",
      "metadata": {
        "id": "L7_OxhLblCZ_"
      },
      "source": [
        "model = RandomForestRegressor(criterion = 'mse')\n",
        "model.fit(X_train, Y_train)"
      ],
      "execution_count": null,
      "outputs": []
    },
    {
      "cell_type": "markdown",
      "metadata": {
        "id": "K8YgC54VtiB7"
      },
      "source": [
        "# [↩️ 리스트로 돌아가기](https://dacon.io/competitions/open/235698/overview/description)"
      ]
    }
  ]
}