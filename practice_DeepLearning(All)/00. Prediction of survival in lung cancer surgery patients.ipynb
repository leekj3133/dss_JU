{
 "metadata": {
  "language_info": {
   "codemirror_mode": {
    "name": "ipython",
    "version": 3
   },
   "file_extension": ".py",
   "mimetype": "text/x-python",
   "name": "python",
   "nbconvert_exporter": "python",
   "pygments_lexer": "ipython3",
   "version": "3.8.8"
  },
  "orig_nbformat": 2,
  "kernelspec": {
   "name": "python388jvsc74a57bd0458585c05631fc9916fc043438c608db830f77ac9d82eb82815d2d93d2f079f9",
   "display_name": "Python 3.8.8 64-bit ('tf5': conda)"
  },
  "metadata": {
   "interpreter": {
    "hash": "458585c05631fc9916fc043438c608db830f77ac9d82eb82815d2d93d2f079f9"
   }
  }
 },
 "nbformat": 4,
 "nbformat_minor": 2,
 "cells": [
  {
   "source": [
    "## Prediction of survival in lung cancer surgery patients"
   ],
   "cell_type": "markdown",
   "metadata": {}
  },
  {
   "source": [
    "## 1. Import Module"
   ],
   "cell_type": "markdown",
   "metadata": {}
  },
  {
   "cell_type": "code",
   "execution_count": 2,
   "metadata": {},
   "outputs": [],
   "source": [
    "from tensorflow.keras.models import Sequential\n",
    "from tensorflow.keras.layers import Dense\n",
    "\n",
    "import numpy as numpy\n",
    "import tensorflow as tf\n",
    "\n",
    "# configue For same result every time you run\n",
    "np.random.seed(3)\n",
    "tf.random.set_seed(3)"
   ]
  },
  {
   "source": [
    "## 2. Import Dataset"
   ],
   "cell_type": "markdown",
   "metadata": {}
  },
  {
   "cell_type": "code",
   "execution_count": 3,
   "metadata": {},
   "outputs": [],
   "source": [
    "Data_set = np.loadtxt(\"./dataset/ThoraricSurgery.csv\", delimiter=\",\")"
   ]
  },
  {
   "source": [
    "## 3. patient train test split"
   ],
   "cell_type": "markdown",
   "metadata": {}
  },
  {
   "cell_type": "code",
   "execution_count": 4,
   "metadata": {},
   "outputs": [],
   "source": [
    "X = Data_set[:,0:17]\n",
    "Y = Data_set[:,17]"
   ]
  },
  {
   "source": [
    "## Model"
   ],
   "cell_type": "markdown",
   "metadata": {}
  },
  {
   "cell_type": "code",
   "execution_count": 5,
   "metadata": {},
   "outputs": [],
   "source": [
    "model = Sequential()\n",
    "model.add(Dense(30, input_dim=17, activation=\"relu\"))\n",
    "model.add(Dense(1, activation=\"sigmoid\"))"
   ]
  },
  {
   "source": [
    "## Excute"
   ],
   "cell_type": "markdown",
   "metadata": {}
  },
  {
   "cell_type": "code",
   "execution_count": 6,
   "metadata": {},
   "outputs": [
    {
     "output_type": "stream",
     "name": "stdout",
     "text": [
      "Epoch 1/100\n",
      "47/47 [==============================] - 0s 306us/step - loss: 0.8781 - accuracy: 0.7774\n",
      "Epoch 2/100\n",
      "47/47 [==============================] - 0s 313us/step - loss: 0.4637 - accuracy: 0.8707\n",
      "Epoch 3/100\n",
      "47/47 [==============================] - 0s 290us/step - loss: 0.4652 - accuracy: 0.8347\n",
      "Epoch 4/100\n",
      "47/47 [==============================] - 0s 333us/step - loss: 0.5176 - accuracy: 0.8405\n",
      "Epoch 5/100\n",
      "47/47 [==============================] - 0s 301us/step - loss: 0.4461 - accuracy: 0.8570\n",
      "Epoch 6/100\n",
      "47/47 [==============================] - 0s 301us/step - loss: 0.4391 - accuracy: 0.8523\n",
      "Epoch 7/100\n",
      "47/47 [==============================] - 0s 308us/step - loss: 0.4616 - accuracy: 0.8443\n",
      "Epoch 8/100\n",
      "47/47 [==============================] - 0s 316us/step - loss: 0.4523 - accuracy: 0.8447\n",
      "Epoch 9/100\n",
      "47/47 [==============================] - 0s 326us/step - loss: 0.3877 - accuracy: 0.8618\n",
      "Epoch 10/100\n",
      "47/47 [==============================] - 0s 349us/step - loss: 0.3944 - accuracy: 0.8697\n",
      "Epoch 11/100\n",
      "47/47 [==============================] - 0s 320us/step - loss: 0.4379 - accuracy: 0.8480\n",
      "Epoch 12/100\n",
      "47/47 [==============================] - 0s 305us/step - loss: 0.4470 - accuracy: 0.8449\n",
      "Epoch 13/100\n",
      "47/47 [==============================] - 0s 312us/step - loss: 0.4789 - accuracy: 0.8302\n",
      "Epoch 14/100\n",
      "47/47 [==============================] - 0s 321us/step - loss: 0.4402 - accuracy: 0.8438\n",
      "Epoch 15/100\n",
      "47/47 [==============================] - 0s 280us/step - loss: 0.4928 - accuracy: 0.8220\n",
      "Epoch 16/100\n",
      "47/47 [==============================] - 0s 305us/step - loss: 0.4119 - accuracy: 0.8534\n",
      "Epoch 17/100\n",
      "47/47 [==============================] - 0s 315us/step - loss: 0.4383 - accuracy: 0.8564\n",
      "Epoch 18/100\n",
      "47/47 [==============================] - 0s 315us/step - loss: 0.4807 - accuracy: 0.8556\n",
      "Epoch 19/100\n",
      "47/47 [==============================] - 0s 657us/step - loss: 0.4253 - accuracy: 0.8459\n",
      "Epoch 20/100\n",
      "47/47 [==============================] - 0s 310us/step - loss: 0.4403 - accuracy: 0.8561\n",
      "Epoch 21/100\n",
      "47/47 [==============================] - 0s 311us/step - loss: 0.4191 - accuracy: 0.8513\n",
      "Epoch 22/100\n",
      "47/47 [==============================] - 0s 306us/step - loss: 0.4100 - accuracy: 0.8554\n",
      "Epoch 23/100\n",
      "47/47 [==============================] - 0s 311us/step - loss: 0.4205 - accuracy: 0.8538\n",
      "Epoch 24/100\n",
      "47/47 [==============================] - 0s 346us/step - loss: 0.4226 - accuracy: 0.8471\n",
      "Epoch 25/100\n",
      "47/47 [==============================] - 0s 317us/step - loss: 0.4349 - accuracy: 0.8394\n",
      "Epoch 26/100\n",
      "47/47 [==============================] - 0s 310us/step - loss: 0.4526 - accuracy: 0.8552\n",
      "Epoch 27/100\n",
      "47/47 [==============================] - 0s 375us/step - loss: 0.4590 - accuracy: 0.8312\n",
      "Epoch 28/100\n",
      "47/47 [==============================] - 0s 332us/step - loss: 0.4469 - accuracy: 0.8461\n",
      "Epoch 29/100\n",
      "47/47 [==============================] - 0s 322us/step - loss: 0.3775 - accuracy: 0.8803\n",
      "Epoch 30/100\n",
      "47/47 [==============================] - 0s 328us/step - loss: 0.3581 - accuracy: 0.8892\n",
      "Epoch 31/100\n",
      "47/47 [==============================] - 0s 326us/step - loss: 0.4157 - accuracy: 0.8745\n",
      "Epoch 32/100\n",
      "47/47 [==============================] - 0s 335us/step - loss: 0.4037 - accuracy: 0.8639\n",
      "Epoch 33/100\n",
      "47/47 [==============================] - 0s 329us/step - loss: 0.4367 - accuracy: 0.8560\n",
      "Epoch 34/100\n",
      "47/47 [==============================] - 0s 338us/step - loss: 0.3961 - accuracy: 0.8582\n",
      "Epoch 35/100\n",
      "47/47 [==============================] - 0s 338us/step - loss: 0.4047 - accuracy: 0.8514\n",
      "Epoch 36/100\n",
      "47/47 [==============================] - 0s 303us/step - loss: 0.4423 - accuracy: 0.8340\n",
      "Epoch 37/100\n",
      "47/47 [==============================] - 0s 288us/step - loss: 0.4449 - accuracy: 0.8519\n",
      "Epoch 38/100\n",
      "47/47 [==============================] - 0s 308us/step - loss: 0.4314 - accuracy: 0.8452\n",
      "Epoch 39/100\n",
      "47/47 [==============================] - 0s 357us/step - loss: 0.4797 - accuracy: 0.8291\n",
      "Epoch 40/100\n",
      "47/47 [==============================] - 0s 535us/step - loss: 0.4177 - accuracy: 0.8508\n",
      "Epoch 41/100\n",
      "47/47 [==============================] - 0s 319us/step - loss: 0.4472 - accuracy: 0.8508\n",
      "Epoch 42/100\n",
      "47/47 [==============================] - 0s 295us/step - loss: 0.4340 - accuracy: 0.8517\n",
      "Epoch 43/100\n",
      "47/47 [==============================] - 0s 423us/step - loss: 0.3614 - accuracy: 0.8727\n",
      "Epoch 44/100\n",
      "47/47 [==============================] - 0s 355us/step - loss: 0.3523 - accuracy: 0.8783\n",
      "Epoch 45/100\n",
      "47/47 [==============================] - 0s 329us/step - loss: 0.3800 - accuracy: 0.8555\n",
      "Epoch 46/100\n",
      "47/47 [==============================] - 0s 304us/step - loss: 0.4116 - accuracy: 0.8546\n",
      "Epoch 47/100\n",
      "47/47 [==============================] - 0s 295us/step - loss: 0.3496 - accuracy: 0.8812\n",
      "Epoch 48/100\n",
      "47/47 [==============================] - 0s 320us/step - loss: 0.3902 - accuracy: 0.8645\n",
      "Epoch 49/100\n",
      "47/47 [==============================] - 0s 328us/step - loss: 0.4169 - accuracy: 0.8361\n",
      "Epoch 50/100\n",
      "47/47 [==============================] - 0s 307us/step - loss: 0.3604 - accuracy: 0.8783\n",
      "Epoch 51/100\n",
      "47/47 [==============================] - 0s 298us/step - loss: 0.4260 - accuracy: 0.8457\n",
      "Epoch 52/100\n",
      "47/47 [==============================] - 0s 308us/step - loss: 0.4176 - accuracy: 0.8520\n",
      "Epoch 53/100\n",
      "47/47 [==============================] - 0s 313us/step - loss: 0.4213 - accuracy: 0.8481\n",
      "Epoch 54/100\n",
      "47/47 [==============================] - 0s 299us/step - loss: 0.4200 - accuracy: 0.8348\n",
      "Epoch 55/100\n",
      "47/47 [==============================] - 0s 298us/step - loss: 0.4092 - accuracy: 0.8632\n",
      "Epoch 56/100\n",
      "47/47 [==============================] - 0s 301us/step - loss: 0.3982 - accuracy: 0.8476\n",
      "Epoch 57/100\n",
      "47/47 [==============================] - 0s 297us/step - loss: 0.4001 - accuracy: 0.8525\n",
      "Epoch 58/100\n",
      "47/47 [==============================] - 0s 306us/step - loss: 0.3528 - accuracy: 0.8703\n",
      "Epoch 59/100\n",
      "47/47 [==============================] - 0s 335us/step - loss: 0.4201 - accuracy: 0.8475\n",
      "Epoch 60/100\n",
      "47/47 [==============================] - 0s 331us/step - loss: 0.3578 - accuracy: 0.8774\n",
      "Epoch 61/100\n",
      "47/47 [==============================] - 0s 347us/step - loss: 0.3907 - accuracy: 0.8725\n",
      "Epoch 62/100\n",
      "47/47 [==============================] - 0s 317us/step - loss: 0.4215 - accuracy: 0.8389\n",
      "Epoch 63/100\n",
      "47/47 [==============================] - 0s 346us/step - loss: 0.3711 - accuracy: 0.8686\n",
      "Epoch 64/100\n",
      "47/47 [==============================] - 0s 324us/step - loss: 0.4243 - accuracy: 0.8525\n",
      "Epoch 65/100\n",
      "47/47 [==============================] - 0s 329us/step - loss: 0.3775 - accuracy: 0.8639\n",
      "Epoch 66/100\n",
      "47/47 [==============================] - 0s 321us/step - loss: 0.4256 - accuracy: 0.8517\n",
      "Epoch 67/100\n",
      "47/47 [==============================] - 0s 302us/step - loss: 0.3803 - accuracy: 0.8612\n",
      "Epoch 68/100\n",
      "47/47 [==============================] - 0s 307us/step - loss: 0.4071 - accuracy: 0.8624\n",
      "Epoch 69/100\n",
      "47/47 [==============================] - 0s 298us/step - loss: 0.4336 - accuracy: 0.8197\n",
      "Epoch 70/100\n",
      "47/47 [==============================] - 0s 303us/step - loss: 0.4068 - accuracy: 0.8519\n",
      "Epoch 71/100\n",
      "47/47 [==============================] - 0s 296us/step - loss: 0.4412 - accuracy: 0.8194\n",
      "Epoch 72/100\n",
      "47/47 [==============================] - 0s 300us/step - loss: 0.3777 - accuracy: 0.8554\n",
      "Epoch 73/100\n",
      "47/47 [==============================] - 0s 299us/step - loss: 0.4042 - accuracy: 0.8489\n",
      "Epoch 74/100\n",
      "47/47 [==============================] - 0s 316us/step - loss: 0.3783 - accuracy: 0.8595\n",
      "Epoch 75/100\n",
      "47/47 [==============================] - 0s 355us/step - loss: 0.3516 - accuracy: 0.8812\n",
      "Epoch 76/100\n",
      "47/47 [==============================] - 0s 310us/step - loss: 0.3733 - accuracy: 0.8629\n",
      "Epoch 77/100\n",
      "47/47 [==============================] - 0s 329us/step - loss: 0.4473 - accuracy: 0.8247\n",
      "Epoch 78/100\n",
      "47/47 [==============================] - 0s 343us/step - loss: 0.3992 - accuracy: 0.8696\n",
      "Epoch 79/100\n",
      "47/47 [==============================] - 0s 337us/step - loss: 0.4184 - accuracy: 0.8299\n",
      "Epoch 80/100\n",
      "47/47 [==============================] - 0s 310us/step - loss: 0.4250 - accuracy: 0.8335\n",
      "Epoch 81/100\n",
      "47/47 [==============================] - 0s 267us/step - loss: 0.3712 - accuracy: 0.8793\n",
      "Epoch 82/100\n",
      "47/47 [==============================] - 0s 272us/step - loss: 0.4214 - accuracy: 0.8487\n",
      "Epoch 83/100\n",
      "47/47 [==============================] - 0s 525us/step - loss: 0.4450 - accuracy: 0.8381\n",
      "Epoch 84/100\n",
      "47/47 [==============================] - 0s 303us/step - loss: 0.3537 - accuracy: 0.8840\n",
      "Epoch 85/100\n",
      "47/47 [==============================] - 0s 316us/step - loss: 0.3822 - accuracy: 0.8617\n",
      "Epoch 86/100\n",
      "47/47 [==============================] - 0s 315us/step - loss: 0.3410 - accuracy: 0.8688\n",
      "Epoch 87/100\n",
      "47/47 [==============================] - 0s 311us/step - loss: 0.3933 - accuracy: 0.8567\n",
      "Epoch 88/100\n",
      "47/47 [==============================] - 0s 309us/step - loss: 0.3747 - accuracy: 0.8538\n",
      "Epoch 89/100\n",
      "47/47 [==============================] - 0s 319us/step - loss: 0.3942 - accuracy: 0.8320\n",
      "Epoch 90/100\n",
      "47/47 [==============================] - 0s 306us/step - loss: 0.3722 - accuracy: 0.8768\n",
      "Epoch 91/100\n",
      "47/47 [==============================] - 0s 298us/step - loss: 0.4208 - accuracy: 0.8516\n",
      "Epoch 92/100\n",
      "47/47 [==============================] - 0s 299us/step - loss: 0.4239 - accuracy: 0.8407\n",
      "Epoch 93/100\n",
      "47/47 [==============================] - 0s 302us/step - loss: 0.4079 - accuracy: 0.8362\n",
      "Epoch 94/100\n",
      "47/47 [==============================] - 0s 320us/step - loss: 0.3913 - accuracy: 0.8367\n",
      "Epoch 95/100\n",
      "47/47 [==============================] - 0s 327us/step - loss: 0.4023 - accuracy: 0.8584\n",
      "Epoch 96/100\n",
      "47/47 [==============================] - 0s 317us/step - loss: 0.4342 - accuracy: 0.8596\n",
      "Epoch 97/100\n",
      "47/47 [==============================] - 0s 326us/step - loss: 0.4469 - accuracy: 0.8137\n",
      "Epoch 98/100\n",
      "47/47 [==============================] - 0s 353us/step - loss: 0.3893 - accuracy: 0.8690\n",
      "Epoch 99/100\n",
      "47/47 [==============================] - 0s 325us/step - loss: 0.3737 - accuracy: 0.8620\n",
      "Epoch 100/100\n",
      "47/47 [==============================] - 0s 322us/step - loss: 0.3956 - accuracy: 0.8330\n"
     ]
    },
    {
     "output_type": "execute_result",
     "data": {
      "text/plain": [
       "<tensorflow.python.keras.callbacks.History at 0x167690970>"
      ]
     },
     "metadata": {},
     "execution_count": 6
    }
   ],
   "source": [
    "model.compile(loss=\"binary_crossentropy\", optimizer=\"adam\",\n",
    "metrics=[\"accuracy\"])\n",
    "model.fit(X, Y, epochs=100, batch_size=10)"
   ]
  },
  {
   "cell_type": "code",
   "execution_count": null,
   "metadata": {},
   "outputs": [],
   "source": []
  }
 ]
}