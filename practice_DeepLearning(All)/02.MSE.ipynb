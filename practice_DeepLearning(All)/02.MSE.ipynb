{
 "metadata": {
  "language_info": {
   "codemirror_mode": {
    "name": "ipython",
    "version": 3
   },
   "file_extension": ".py",
   "mimetype": "text/x-python",
   "name": "python",
   "nbconvert_exporter": "python",
   "pygments_lexer": "ipython3",
   "version": "3.9.5"
  },
  "orig_nbformat": 2,
  "kernelspec": {
   "name": "python395jvsc74a57bd0b0fa6594d8f4cbf19f97940f81e996739fb7646882a419484c72d19e05852a7e",
   "display_name": "Python 3.9.5 64-bit"
  },
  "metadata": {
   "interpreter": {
    "hash": "b0fa6594d8f4cbf19f97940f81e996739fb7646882a419484c72d19e05852a7e"
   }
  }
 },
 "nbformat": 4,
 "nbformat_minor": 2,
 "cells": [
  {
   "source": [
    "## MSE(Mean Squared Error)"
   ],
   "cell_type": "markdown",
   "metadata": {}
  },
  {
   "cell_type": "code",
   "execution_count": 1,
   "metadata": {},
   "outputs": [],
   "source": [
    "fake_a_b = [3,76]"
   ]
  },
  {
   "cell_type": "code",
   "execution_count": 2,
   "metadata": {},
   "outputs": [],
   "source": [
    "data = [[2,81],[4,93],[6,91],[8,97]]\n",
    "x = [i[0] for i in data]\n",
    "y = [i[1] for i in data]"
   ]
  },
  {
   "cell_type": "code",
   "execution_count": 3,
   "metadata": {},
   "outputs": [],
   "source": [
    "def predict(x):\n",
    "    return fake_a_b[0]*x + fake_a_b[1]"
   ]
  },
  {
   "cell_type": "code",
   "execution_count": 4,
   "metadata": {},
   "outputs": [],
   "source": [
    "def mse(y, y_hat):\n",
    "    return ((y-y_hat)**2).mean()"
   ]
  },
  {
   "cell_type": "code",
   "execution_count": 5,
   "metadata": {},
   "outputs": [],
   "source": [
    "def mse_val(y, predict_result):\n",
    "    return mse(np.array(y), np.array(predict_result))"
   ]
  },
  {
   "cell_type": "code",
   "execution_count": 8,
   "metadata": {},
   "outputs": [
    {
     "output_type": "stream",
     "name": "stdout",
     "text": [
      "공부시간 = 2, 실제점수 = 81, 예측 점수=82\n공부시간 = 4, 실제점수 = 93, 예측 점수=88\n공부시간 = 6, 실제점수 = 91, 예측 점수=94\n공부시간 = 8, 실제점수 = 97, 예측 점수=100\nmse 최종값: 11.0\n"
     ]
    }
   ],
   "source": [
    "# 예측 값이 들어갈 빈 리스트 \n",
    "predict_result = []\n",
    "\n",
    "# 모든 x 값을 한번씩 대입하여\n",
    "for i in range(len(x)):\n",
    "    # 그 결과에 해당하는 predict_result 리스트 완성\n",
    "    predict_result.append(predict(x[i]))\n",
    "    print(\"공부시간 = %.f, 실제점수 = %.f, 예측 점수=%.f\"%(x[i],y[i],\n",
    "    predict(x[i])))\n",
    "# 최종 MSE 출렷\n",
    "print(\"mse 최종값: \"+ str(mse_val(predict_result, y)))"
   ]
  },
  {
   "cell_type": "code",
   "execution_count": null,
   "metadata": {},
   "outputs": [],
   "source": []
  },
  {
   "cell_type": "code",
   "execution_count": null,
   "metadata": {},
   "outputs": [],
   "source": []
  }
 ]
}