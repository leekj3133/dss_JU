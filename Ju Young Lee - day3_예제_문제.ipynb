{
 "cells": [
  {
   "cell_type": "markdown",
   "metadata": {
    "colab_type": "text",
    "id": "rXoWSaaL4O-x"
   },
   "source": [
    "- 데이터 타입\n",
    "- 데이터 형변환\n",
    "- 입출력"
   ]
  },
  {
   "cell_type": "markdown",
   "metadata": {
    "colab_type": "text",
    "id": "1Q2FEJR-4O-8"
   },
   "source": [
    "### 예제"
   ]
  },
  {
   "cell_type": "markdown",
   "metadata": {
    "colab_type": "text",
    "id": "fbvKWMBL4O_D"
   },
   "source": [
    "### 1. 데이터 타입을 확인하는 함수를 사용하여 아래 변수의 데이터 타입을 확인하세요.\n",
    "\n",
    "```\n",
    "data = \"python\"\n",
    "```"
   ]
  },
  {
   "cell_type": "code",
   "execution_count": 1,
   "metadata": {},
   "outputs": [
    {
     "name": "stdout",
     "output_type": "stream",
     "text": [
      "<class 'str'>\n"
     ]
    }
   ],
   "source": [
    "data = \"python\"\n",
    "print(type(data))"
   ]
  },
  {
   "cell_type": "markdown",
   "metadata": {
    "colab_type": "text",
    "id": "RI8P5nfw4O_i"
   },
   "source": [
    "### 2. 오프셋 인덱스와 split(), upper() 함수를 사용하여 아래의 문자열의 첫번째 문자를 대문자로 변경하세요.\n",
    "\n",
    "```\n",
    "data = \"python science\"\n",
    "```\n",
    "\n",
    "- 결과\n",
    "\n",
    "```\n",
    "result => \"Python Science\"\n",
    "```"
   ]
  },
  {
   "cell_type": "code",
   "execution_count": 2,
   "metadata": {},
   "outputs": [
    {
     "name": "stdout",
     "output_type": "stream",
     "text": [
      "Python Science\n"
     ]
    }
   ],
   "source": [
    "data = \"python science\"\n",
    "result = data.split(\" \")\n",
    "result = data[0].upper() + data[1:6] + \" \" + data[7].upper() + data[8:]\n",
    "print(result)"
   ]
  },
  {
   "cell_type": "markdown",
   "metadata": {
    "colab_type": "text",
    "id": "ZVWFCuL84PAJ"
   },
   "source": [
    "### 3. 아래의 딕셔너리 데이터에서 국어와 수학점수를 더한 점수를 출력하세요.\n",
    "\n",
    "```\n",
    "dic = {\"국어\": 80, \"수학\": 90}\n",
    "```\n",
    "\n",
    "- 결과\n",
    "\n",
    "```\n",
    "result => 170\n",
    "```"
   ]
  },
  {
   "cell_type": "code",
   "execution_count": 10,
   "metadata": {},
   "outputs": [
    {
     "name": "stdout",
     "output_type": "stream",
     "text": [
      "170\n"
     ]
    }
   ],
   "source": [
    "dic = {\"국어\": 80, \"수학\": 90}\n",
    "result = sum(dic.values())\n",
    "print(result)"
   ]
  },
  {
   "cell_type": "markdown",
   "metadata": {
    "colab_type": "text",
    "id": "Vgn7SN384PBH"
   },
   "source": [
    "### 4. 아래의 리스트를 ,로 구분하는 문자열로 변경하는 코드를 작성하세요.\n",
    "\n",
    "```\n",
    "ls = [\"data\", \"science\", \"python\"]\n",
    "```\n",
    "\n",
    "- 결과\n",
    "\n",
    "```\n",
    "result => \"data, science, python\"\n",
    "```"
   ]
  },
  {
   "cell_type": "code",
   "execution_count": 22,
   "metadata": {},
   "outputs": [
    {
     "name": "stdout",
     "output_type": "stream",
     "text": [
      "data, science, python\n"
     ]
    }
   ],
   "source": [
    "ls = [\"data\", \"science\", \"python\"]\n",
    "print(ls[0], ls[1], ls[2], sep = \", \")"
   ]
  },
  {
   "cell_type": "markdown",
   "metadata": {
    "colab_type": "text",
    "id": "XEjcGmqf4PBj"
   },
   "source": [
    "### 5. 아래의 리스트를 내림차순으로 정렬하세요.\n",
    "\n",
    "```\n",
    "ls = [3, 1, 2, 7, 4, 9]\n",
    "```\n",
    "\n",
    "- 결과\n",
    "\n",
    "```\n",
    "result => [9, 7, 4, 3, 2, 1]\n",
    "```"
   ]
  },
  {
   "cell_type": "code",
   "execution_count": 20,
   "metadata": {},
   "outputs": [
    {
     "name": "stdout",
     "output_type": "stream",
     "text": [
      "[9, 7, 4, 3, 2, 1]\n"
     ]
    }
   ],
   "source": [
    "ls = [3, 1, 2, 7, 4, 9]\n",
    "ls.sort()\n",
    "ls.reverse()\n",
    "print(ls)"
   ]
  },
  {
   "cell_type": "markdown",
   "metadata": {
    "colab_type": "text",
    "id": "y79TUev94PDD"
   },
   "source": [
    "### 6. 문자열을 3번 입력 받아 ,로 구분자로 문자열을 출력하세요.\n",
    "\n",
    "- input함수를 3번 print 함수를 한번 사용하세요"
   ]
  },
  {
   "cell_type": "code",
   "execution_count": 28,
   "metadata": {},
   "outputs": [
    {
     "name": "stdout",
     "output_type": "stream",
     "text": [
      "insert string: python\n",
      "insert string: fast\n",
      "insert string: campus\n",
      "python,fast,campus\n"
     ]
    }
   ],
   "source": [
    "data1 = input(\"insert string: \")\n",
    "data2 = input(\"insert string: \")\n",
    "data3 = input(\"insert string: \")\n",
    "print(data1, data2, data3, sep = \",\")"
   ]
  },
  {
   "cell_type": "markdown",
   "metadata": {
    "colab_type": "text",
    "id": "XrnlDeuD4PDL"
   },
   "source": [
    "### 7. boolean 형변환 했는데 false인 경우는?   3, 5"
   ]
  },
  {
   "cell_type": "markdown",
   "metadata": {
    "colab_type": "text",
    "id": "_DMd54Yc4PDV"
   },
   "source": [
    "1. bool(\" \")\n",
    "1. bool(1)\n",
    "1. bool(0)\n",
    "1. bool([0])\n",
    "1. bool({})"
   ]
  },
  {
   "cell_type": "markdown",
   "metadata": {
    "colab_type": "text",
    "id": "Z_EMsqdm4PDX"
   },
   "source": [
    "### 8. string format 함수를 사용하여 딕셔너리 데이터를 결과와 같이 출력하세요.\n",
    "\n",
    "- list(dic.values()) 코드를 사용하여 딕셔너리의 value 데이터를 리스트로 변경해서 코드를 작성하세요.\n",
    "\n",
    "```\n",
    "dic = { \"korean\":80, \"english\":90 }\n",
    "```\n",
    "\n",
    "- 결과\n",
    "\n",
    "```\n",
    "result => \"korean:80, english:90\"\n",
    "```"
   ]
  },
  {
   "cell_type": "code",
   "execution_count": 58,
   "metadata": {},
   "outputs": [
    {
     "name": "stdout",
     "output_type": "stream",
     "text": [
      "korean:80, english:90\n"
     ]
    }
   ],
   "source": [
    "dic = { \"korean\":80, \"english\":90 }\n",
    "ls = list(dic.values()) + list(dic.keys())\n",
    "data1 = ls[2] + \":\" + str(ls[0])\n",
    "data2 = ls[3] + \":\" + str(ls[1])\n",
    "result = data1 + \", \" + data2\n",
    "print(result)"
   ]
  },
  {
   "cell_type": "code",
   "execution_count": 62,
   "metadata": {},
   "outputs": [
    {
     "data": {
      "text/plain": [
       "'korean:80, english:90'"
      ]
     },
     "execution_count": 62,
     "metadata": {},
     "output_type": "execute_result"
    }
   ],
   "source": [
    "dic = { \"korean\":80, \"english\":90 }\n",
    "ls = list(dic.values()) + list(dic.keys())\n",
    "\"{}:{}, {}:{}\".format(ls[2], ls[0], ls[3], ls[1])"
   ]
  },
  {
   "cell_type": "markdown",
   "metadata": {
    "colab_type": "text",
    "id": "xvaypRhE4PDk"
   },
   "source": [
    "### 9. 아래의 리스트 데이터를 다 더하는 코드를 작성하세요.\n",
    "\n",
    "```\n",
    "ls = [[1, 2], [3, 4]]\n",
    "```\n",
    "\n",
    "- sum 함수를 사용하세요.\n",
    "\n",
    "```\n",
    "data = [1, 2, 3]\n",
    "sum(data) => 6\n",
    "```"
   ]
  },
  {
   "cell_type": "code",
   "execution_count": 43,
   "metadata": {},
   "outputs": [
    {
     "name": "stdout",
     "output_type": "stream",
     "text": [
      "6\n"
     ]
    }
   ],
   "source": [
    "ls = [[1, 2], [3, 4]]\n",
    "data = ls[0] + ls[1]\n",
    "data = sum(data[:3])\n",
    "print(data)"
   ]
  },
  {
   "cell_type": "markdown",
   "metadata": {
    "colab_type": "text",
    "id": "i0UYHyhA4PDq"
   },
   "source": [
    "### 10. sum 함수를 이용하여 딕셔너리 데이터를 다 더한 결과를 출력하세요.\n",
    "\n",
    "```\n",
    "data = {\"korean\":80, \"english\": 70, \"math\": 90}\n",
    "```\n",
    "\n",
    "- 결과\n",
    "\n",
    "```\n",
    "result => 240\n",
    "```"
   ]
  },
  {
   "cell_type": "code",
   "execution_count": 33,
   "metadata": {},
   "outputs": [
    {
     "name": "stdout",
     "output_type": "stream",
     "text": [
      "240\n"
     ]
    }
   ],
   "source": [
    "data = {\"korean\":80, \"english\": 70, \"math\": 90}\n",
    "result = data.values()\n",
    "result = sum(result)\n",
    "print(result)"
   ]
  }
 ],
 "metadata": {
  "colab": {
   "collapsed_sections": [],
   "name": "day3_예제_문제.ipynb",
   "provenance": [],
   "version": "0.3.2"
  },
  "kernelspec": {
   "display_name": "Python 3",
   "language": "python",
   "name": "python3"
  },
  "language_info": {
   "codemirror_mode": {
    "name": "ipython",
    "version": 3
   },
   "file_extension": ".py",
   "mimetype": "text/x-python",
   "name": "python",
   "nbconvert_exporter": "python",
   "pygments_lexer": "ipython3",
   "version": "3.8.3"
  }
 },
 "nbformat": 4,
 "nbformat_minor": 1
}
